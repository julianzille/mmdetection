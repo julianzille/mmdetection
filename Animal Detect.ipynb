{
 "cells": [
  {
   "cell_type": "code",
   "execution_count": 1,
   "id": "826837ce-9668-4e72-9994-63ab845fd1ca",
   "metadata": {
    "collapsed": true,
    "jupyter": {
     "outputs_hidden": true
    },
    "tags": []
   },
   "outputs": [
    {
     "name": "stdout",
     "output_type": "stream",
     "text": [
      "Collecting openmim\n",
      "  Downloading openmim-0.3.2-py2.py3-none-any.whl (50 kB)\n",
      "\u001b[2K     \u001b[90m━━━━━━━━━━━━━━━━━━━━━━━━━━━━━━━━━━━━━━━━\u001b[0m \u001b[32m50.4/50.4 kB\u001b[0m \u001b[31m9.6 MB/s\u001b[0m eta \u001b[36m0:00:00\u001b[0m\n",
      "\u001b[?25hCollecting model-index\n",
      "  Downloading model_index-0.1.11-py3-none-any.whl (34 kB)\n",
      "Collecting tabulate\n",
      "  Downloading tabulate-0.9.0-py3-none-any.whl (35 kB)\n",
      "Requirement already satisfied: requests in /usr/local/lib/python3.9/dist-packages (from openmim) (2.28.1)\n",
      "Requirement already satisfied: colorama in /usr/lib/python3/dist-packages (from openmim) (0.4.3)\n",
      "Requirement already satisfied: pip>=19.3 in /usr/local/lib/python3.9/dist-packages (from openmim) (22.2.2)\n",
      "Requirement already satisfied: Click in /usr/local/lib/python3.9/dist-packages (from openmim) (8.1.3)\n",
      "Requirement already satisfied: pandas in /usr/local/lib/python3.9/dist-packages (from openmim) (1.4.3)\n",
      "Collecting rich\n",
      "  Downloading rich-12.6.0-py3-none-any.whl (237 kB)\n",
      "\u001b[2K     \u001b[90m━━━━━━━━━━━━━━━━━━━━━━━━━━━━━━━━━━━━━━\u001b[0m \u001b[32m237.5/237.5 kB\u001b[0m \u001b[31m21.1 MB/s\u001b[0m eta \u001b[36m0:00:00\u001b[0m\n",
      "\u001b[?25hRequirement already satisfied: pyyaml in /usr/local/lib/python3.9/dist-packages (from model-index->openmim) (5.4.1)\n",
      "Requirement already satisfied: markdown in /usr/local/lib/python3.9/dist-packages (from model-index->openmim) (3.3.7)\n",
      "Collecting ordered-set\n",
      "  Downloading ordered_set-4.1.0-py3-none-any.whl (7.6 kB)\n",
      "Requirement already satisfied: pytz>=2020.1 in /usr/local/lib/python3.9/dist-packages (from pandas->openmim) (2022.1)\n",
      "Requirement already satisfied: python-dateutil>=2.8.1 in /usr/local/lib/python3.9/dist-packages (from pandas->openmim) (2.8.2)\n",
      "Requirement already satisfied: numpy>=1.18.5 in /usr/local/lib/python3.9/dist-packages (from pandas->openmim) (1.23.1)\n",
      "Requirement already satisfied: urllib3<1.27,>=1.21.1 in /usr/local/lib/python3.9/dist-packages (from requests->openmim) (1.26.10)\n",
      "Requirement already satisfied: charset-normalizer<3,>=2 in /usr/local/lib/python3.9/dist-packages (from requests->openmim) (2.1.0)\n",
      "Requirement already satisfied: certifi>=2017.4.17 in /usr/lib/python3/dist-packages (from requests->openmim) (2019.11.28)\n",
      "Requirement already satisfied: idna<4,>=2.5 in /usr/lib/python3/dist-packages (from requests->openmim) (2.8)\n",
      "Requirement already satisfied: pygments<3.0.0,>=2.6.0 in /usr/local/lib/python3.9/dist-packages (from rich->openmim) (2.12.0)\n",
      "Collecting commonmark<0.10.0,>=0.9.0\n",
      "  Downloading commonmark-0.9.1-py2.py3-none-any.whl (51 kB)\n",
      "\u001b[2K     \u001b[90m━━━━━━━━━━━━━━━━━━━━━━━━━━━━━━━━━━━━━━━━\u001b[0m \u001b[32m51.1/51.1 kB\u001b[0m \u001b[31m13.4 MB/s\u001b[0m eta \u001b[36m0:00:00\u001b[0m\n",
      "\u001b[?25hRequirement already satisfied: six>=1.5 in /usr/lib/python3/dist-packages (from python-dateutil>=2.8.1->pandas->openmim) (1.14.0)\n",
      "Requirement already satisfied: importlib-metadata>=4.4 in /usr/local/lib/python3.9/dist-packages (from markdown->model-index->openmim) (4.12.0)\n",
      "Requirement already satisfied: zipp>=0.5 in /usr/local/lib/python3.9/dist-packages (from importlib-metadata>=4.4->markdown->model-index->openmim) (3.8.1)\n",
      "Installing collected packages: commonmark, tabulate, rich, ordered-set, model-index, openmim\n",
      "Successfully installed commonmark-0.9.1 model-index-0.1.11 openmim-0.3.2 ordered-set-4.1.0 rich-12.6.0 tabulate-0.9.0\n",
      "\u001b[33mWARNING: Running pip as the 'root' user can result in broken permissions and conflicting behaviour with the system package manager. It is recommended to use a virtual environment instead: https://pip.pypa.io/warnings/venv\u001b[0m\u001b[33m\n",
      "\u001b[0mNote: you may need to restart the kernel to use updated packages.\n",
      "/usr/local/lib/python3.9/dist-packages/_distutils_hack/__init__.py:33: UserWarning: Setuptools is replacing distutils.\n",
      "  warnings.warn(\"Setuptools is replacing distutils.\")\n",
      "Looking in links: https://download.openmmlab.com/mmcv/dist/cu116/torch1.12.0/index.html\n",
      "Collecting mmcv-full\n",
      "  Downloading https://download.openmmlab.com/mmcv/dist/cu116/torch1.12.0/mmcv_full-1.6.2-cp39-cp39-manylinux1_x86_64.whl (40.2 MB)\n",
      "\u001b[2K     \u001b[90m━━━━━━━━━━━━━━━━━━━━━━━━━━━━━━━━━━━━━━━━\u001b[0m \u001b[32m40.2/40.2 MB\u001b[0m \u001b[31m7.7 MB/s\u001b[0m eta \u001b[36m0:00:00\u001b[0m00:01\u001b[0m00:01\u001b[0m\n",
      "\u001b[?25hRequirement already satisfied: numpy in /usr/local/lib/python3.9/dist-packages (from mmcv-full) (1.23.1)\n",
      "Collecting yapf\n",
      "  Downloading yapf-0.32.0-py2.py3-none-any.whl (190 kB)\n",
      "\u001b[2K     \u001b[90m━━━━━━━━━━━━━━━━━━━━━━━━━━━━━━━━━━━━━━\u001b[0m \u001b[32m190.2/190.2 kB\u001b[0m \u001b[31m24.4 MB/s\u001b[0m eta \u001b[36m0:00:00\u001b[0m\n",
      "\u001b[?25hRequirement already satisfied: packaging in /usr/local/lib/python3.9/dist-packages (from mmcv-full) (21.3)\n",
      "Requirement already satisfied: pyyaml in /usr/local/lib/python3.9/dist-packages (from mmcv-full) (5.4.1)\n",
      "Collecting addict\n",
      "  Downloading addict-2.4.0-py3-none-any.whl (3.8 kB)\n",
      "Requirement already satisfied: Pillow in /usr/local/lib/python3.9/dist-packages (from mmcv-full) (9.2.0)\n",
      "Requirement already satisfied: opencv-python>=3 in /usr/local/lib/python3.9/dist-packages (from mmcv-full) (4.6.0.66)\n",
      "Requirement already satisfied: pyparsing!=3.0.5,>=2.0.2 in /usr/local/lib/python3.9/dist-packages (from packaging->mmcv-full) (3.0.9)\n",
      "Installing collected packages: yapf, addict, mmcv-full\n",
      "Successfully installed addict-2.4.0 mmcv-full-1.6.2 yapf-0.32.0\n",
      "\u001b[33mWARNING: Running pip as the 'root' user can result in broken permissions and conflicting behaviour with the system package manager. It is recommended to use a virtual environment instead: https://pip.pypa.io/warnings/venv\u001b[0m\u001b[33m\n",
      "\u001b[0mUsing pip 22.2.2 from /usr/local/lib/python3.9/dist-packages/pip (python 3.9)\n",
      "Obtaining file:///notebooks\n",
      "  Running command python setup.py egg_info\n",
      "  running egg_info\n",
      "  creating /tmp/pip-pip-egg-info-qu4bej3k/mmdet.egg-info\n",
      "  writing /tmp/pip-pip-egg-info-qu4bej3k/mmdet.egg-info/PKG-INFO\n",
      "  writing dependency_links to /tmp/pip-pip-egg-info-qu4bej3k/mmdet.egg-info/dependency_links.txt\n",
      "  writing requirements to /tmp/pip-pip-egg-info-qu4bej3k/mmdet.egg-info/requires.txt\n",
      "  writing top-level names to /tmp/pip-pip-egg-info-qu4bej3k/mmdet.egg-info/top_level.txt\n",
      "  writing manifest file '/tmp/pip-pip-egg-info-qu4bej3k/mmdet.egg-info/SOURCES.txt'\n",
      "  reading manifest file '/tmp/pip-pip-egg-info-qu4bej3k/mmdet.egg-info/SOURCES.txt'\n",
      "  reading manifest template 'MANIFEST.in'\n",
      "  warning: no files found matching 'mmdet/VERSION'\n",
      "  warning: no files found matching 'mmdet/.mim/demo/*/*'\n",
      "  adding license file 'LICENSE'\n",
      "  writing manifest file '/tmp/pip-pip-egg-info-qu4bej3k/mmdet.egg-info/SOURCES.txt'\n",
      "  Preparing metadata (setup.py) ... \u001b[?25l\u001b[?25hdone\n",
      "Requirement already satisfied: matplotlib in /usr/local/lib/python3.9/dist-packages (from mmdet==2.25.2) (3.5.2)\n",
      "Requirement already satisfied: numpy in /usr/local/lib/python3.9/dist-packages (from mmdet==2.25.2) (1.23.1)\n",
      "Collecting pycocotools\n",
      "  Downloading pycocotools-2.0.5.tar.gz (24 kB)\n",
      "  Running command pip subprocess to install build dependencies\n",
      "  Collecting cython>=0.27.3\n",
      "    Downloading Cython-0.29.32-cp39-cp39-manylinux_2_17_x86_64.manylinux2014_x86_64.manylinux_2_24_x86_64.whl (2.0 MB)\n",
      "       ━━━━━━━━━━━━━━━━━━━━━━━━━━━━━━━━━━━━━━━━ 2.0/2.0 MB 68.4 MB/s eta 0:00:00\n",
      "  Collecting oldest-supported-numpy\n",
      "    Downloading oldest_supported_numpy-2022.8.16-py3-none-any.whl (3.9 kB)\n",
      "  Collecting setuptools>=43.0.0\n",
      "    Downloading setuptools-65.5.0-py3-none-any.whl (1.2 MB)\n",
      "       ━━━━━━━━━━━━━━━━━━━━━━━━━━━━━━━━━━━━━━━━ 1.2/1.2 MB 78.5 MB/s eta 0:00:00\n",
      "  Collecting wheel\n",
      "    Using cached wheel-0.37.1-py2.py3-none-any.whl (35 kB)\n",
      "  Collecting numpy==1.19.3\n",
      "    Downloading numpy-1.19.3-cp39-cp39-manylinux2010_x86_64.whl (14.9 MB)\n",
      "       ━━━━━━━━━━━━━━━━━━━━━━━━━━━━━━━━━━━━━━━━ 14.9/14.9 MB 71.0 MB/s eta 0:00:00\n",
      "  Installing collected packages: wheel, setuptools, numpy, cython, oldest-supported-numpy\n",
      "  ERROR: pip's dependency resolver does not currently take into account all the packages that are installed. This behaviour is the source of the following dependency conflicts.\n",
      "  tensorflow 2.9.1 requires numpy>=1.20, but you have numpy 1.19.3 which is incompatible.\n",
      "  gradient-utils 0.5.0 requires wheel<0.36.0,>=0.35.1, but you have wheel 0.37.1 which is incompatible.\n",
      "  Successfully installed cython-0.29.32 numpy-1.19.3 oldest-supported-numpy-2022.8.16 setuptools-65.5.0 wheel-0.37.1\n",
      "  WARNING: Running pip as the 'root' user can result in broken permissions and conflicting behaviour with the system package manager. It is recommended to use a virtual environment instead: https://pip.pypa.io/warnings/venv\n",
      "  Installing build dependencies ... \u001b[?25l\u001b[?25hdone\n",
      "  Running command Getting requirements to build wheel\n",
      "  running egg_info\n",
      "  writing pycocotools.egg-info/PKG-INFO\n",
      "  writing dependency_links to pycocotools.egg-info/dependency_links.txt\n",
      "  writing requirements to pycocotools.egg-info/requires.txt\n",
      "  writing top-level names to pycocotools.egg-info/top_level.txt\n",
      "  reading manifest file 'pycocotools.egg-info/SOURCES.txt'\n",
      "  reading manifest template 'MANIFEST.in'\n",
      "  writing manifest file 'pycocotools.egg-info/SOURCES.txt'\n",
      "  Getting requirements to build wheel ... \u001b[?25l\u001b[?25hdone\n",
      "  Running command Preparing metadata (pyproject.toml)\n",
      "  running dist_info\n",
      "  creating /tmp/pip-modern-metadata-67wubt22/pycocotools.egg-info\n",
      "  writing /tmp/pip-modern-metadata-67wubt22/pycocotools.egg-info/PKG-INFO\n",
      "  writing dependency_links to /tmp/pip-modern-metadata-67wubt22/pycocotools.egg-info/dependency_links.txt\n",
      "  writing requirements to /tmp/pip-modern-metadata-67wubt22/pycocotools.egg-info/requires.txt\n",
      "  writing top-level names to /tmp/pip-modern-metadata-67wubt22/pycocotools.egg-info/top_level.txt\n",
      "  writing manifest file '/tmp/pip-modern-metadata-67wubt22/pycocotools.egg-info/SOURCES.txt'\n",
      "  reading manifest file '/tmp/pip-modern-metadata-67wubt22/pycocotools.egg-info/SOURCES.txt'\n",
      "  reading manifest template 'MANIFEST.in'\n",
      "  writing manifest file '/tmp/pip-modern-metadata-67wubt22/pycocotools.egg-info/SOURCES.txt'\n",
      "  creating '/tmp/pip-modern-metadata-67wubt22/pycocotools-2.0.5.dist-info'\n",
      "  Preparing metadata (pyproject.toml) ... \u001b[?25l\u001b[?25hdone\n",
      "Requirement already satisfied: six in /usr/lib/python3/dist-packages (from mmdet==2.25.2) (1.14.0)\n",
      "Requirement already satisfied: terminaltables in /usr/local/lib/python3.9/dist-packages (from mmdet==2.25.2) (3.1.10)\n",
      "Requirement already satisfied: kiwisolver>=1.0.1 in /usr/local/lib/python3.9/dist-packages (from matplotlib->mmdet==2.25.2) (1.4.3)\n",
      "Requirement already satisfied: pillow>=6.2.0 in /usr/local/lib/python3.9/dist-packages (from matplotlib->mmdet==2.25.2) (9.2.0)\n",
      "Requirement already satisfied: fonttools>=4.22.0 in /usr/local/lib/python3.9/dist-packages (from matplotlib->mmdet==2.25.2) (4.34.4)\n",
      "Requirement already satisfied: python-dateutil>=2.7 in /usr/local/lib/python3.9/dist-packages (from matplotlib->mmdet==2.25.2) (2.8.2)\n",
      "Requirement already satisfied: pyparsing>=2.2.1 in /usr/local/lib/python3.9/dist-packages (from matplotlib->mmdet==2.25.2) (3.0.9)\n",
      "Requirement already satisfied: packaging>=20.0 in /usr/local/lib/python3.9/dist-packages (from matplotlib->mmdet==2.25.2) (21.3)\n",
      "Requirement already satisfied: cycler>=0.10 in /usr/local/lib/python3.9/dist-packages (from matplotlib->mmdet==2.25.2) (0.11.0)\n",
      "Building wheels for collected packages: pycocotools\n",
      "  Running command Building wheel for pycocotools (pyproject.toml)\n",
      "  running bdist_wheel\n",
      "  running build\n",
      "  running build_py\n",
      "  creating build\n",
      "  creating build/lib.linux-x86_64-cpython-39\n",
      "  creating build/lib.linux-x86_64-cpython-39/pycocotools\n",
      "  copying pycocotools/coco.py -> build/lib.linux-x86_64-cpython-39/pycocotools\n",
      "  copying pycocotools/cocoeval.py -> build/lib.linux-x86_64-cpython-39/pycocotools\n",
      "  copying pycocotools/mask.py -> build/lib.linux-x86_64-cpython-39/pycocotools\n",
      "  copying pycocotools/__init__.py -> build/lib.linux-x86_64-cpython-39/pycocotools\n",
      "  running build_ext\n",
      "  cythoning pycocotools/_mask.pyx to pycocotools/_mask.c\n",
      "  /usr/local/lib/python3.9/dist-packages/Cython/Compiler/Main.py:369: FutureWarning: Cython directive 'language_level' not set, using 2 for now (Py2). This will change in a later release! File: /tmp/pip-install-camtf0q5/pycocotools_bc2a2895a8554d848cc4c0caffea2926/pycocotools/_mask.pyx\n",
      "    tree = Parsing.p_module(s, pxd, full_module_name)\n",
      "  building 'pycocotools._mask' extension\n",
      "  creating build/temp.linux-x86_64-cpython-39\n",
      "  creating build/temp.linux-x86_64-cpython-39/common\n",
      "  creating build/temp.linux-x86_64-cpython-39/pycocotools\n",
      "  x86_64-linux-gnu-gcc -pthread -Wno-unused-result -Wsign-compare -DNDEBUG -g -fwrapv -O2 -Wall -g -fstack-protector-strong -Wformat -Werror=format-security -g -fwrapv -O2 -fPIC -I/usr/local/lib/python3.9/dist-packages/numpy/core/include -I./common -I/usr/include/python3.9 -c ./common/maskApi.c -o build/temp.linux-x86_64-cpython-39/./common/maskApi.o -Wno-cpp -Wno-unused-function -std=c99\n",
      "  ./common/maskApi.c: In function ‘rleToBbox’:\n",
      "  ./common/maskApi.c:151:32: warning: unused variable ‘xp’ [-Wunused-variable]\n",
      "    151 |     uint h, w, xs, ys, xe, ye, xp, cc; siz j, m;\n",
      "        |                                ^~\n",
      "  ./common/maskApi.c: In function ‘rleFrPoly’:\n",
      "  ./common/maskApi.c:197:3: warning: this ‘for’ clause does not guard... [-Wmisleading-indentation]\n",
      "    197 |   for(j=0; j<k; j++) x[j]=(int)(scale*xy[j*2+0]+.5); x[k]=x[0];\n",
      "        |   ^~~\n",
      "  ./common/maskApi.c:197:54: note: ...this statement, but the latter is misleadingly indented as if it were guarded by the ‘for’\n",
      "    197 |   for(j=0; j<k; j++) x[j]=(int)(scale*xy[j*2+0]+.5); x[k]=x[0];\n",
      "        |                                                      ^\n",
      "  ./common/maskApi.c:198:3: warning: this ‘for’ clause does not guard... [-Wmisleading-indentation]\n",
      "    198 |   for(j=0; j<k; j++) y[j]=(int)(scale*xy[j*2+1]+.5); y[k]=y[0];\n",
      "        |   ^~~\n",
      "  ./common/maskApi.c:198:54: note: ...this statement, but the latter is misleadingly indented as if it were guarded by the ‘for’\n",
      "    198 |   for(j=0; j<k; j++) y[j]=(int)(scale*xy[j*2+1]+.5); y[k]=y[0];\n",
      "        |                                                      ^\n",
      "  ./common/maskApi.c: In function ‘rleToString’:\n",
      "  ./common/maskApi.c:243:7: warning: this ‘if’ clause does not guard... [-Wmisleading-indentation]\n",
      "    243 |       if(more) c |= 0x20; c+=48; s[p++]=c;\n",
      "        |       ^~\n",
      "  ./common/maskApi.c:243:27: note: ...this statement, but the latter is misleadingly indented as if it were guarded by the ‘if’\n",
      "    243 |       if(more) c |= 0x20; c+=48; s[p++]=c;\n",
      "        |                           ^\n",
      "  ./common/maskApi.c: In function ‘rleFrString’:\n",
      "  ./common/maskApi.c:251:3: warning: this ‘while’ clause does not guard... [-Wmisleading-indentation]\n",
      "    251 |   while( s[m] ) m++; cnts=malloc(sizeof(uint)*m); m=0;\n",
      "        |   ^~~~~\n",
      "  ./common/maskApi.c:251:22: note: ...this statement, but the latter is misleadingly indented as if it were guarded by the ‘while’\n",
      "    251 |   while( s[m] ) m++; cnts=malloc(sizeof(uint)*m); m=0;\n",
      "        |                      ^~~~\n",
      "  ./common/maskApi.c:259:5: warning: this ‘if’ clause does not guard... [-Wmisleading-indentation]\n",
      "    259 |     if(m>2) x+=(long) cnts[m-2]; cnts[m++]=(uint) x;\n",
      "        |     ^~\n",
      "  ./common/maskApi.c:259:34: note: ...this statement, but the latter is misleadingly indented as if it were guarded by the ‘if’\n",
      "    259 |     if(m>2) x+=(long) cnts[m-2]; cnts[m++]=(uint) x;\n",
      "        |                                  ^~~~\n",
      "  x86_64-linux-gnu-gcc -pthread -Wno-unused-result -Wsign-compare -DNDEBUG -g -fwrapv -O2 -Wall -g -fstack-protector-strong -Wformat -Werror=format-security -g -fwrapv -O2 -fPIC -I/usr/local/lib/python3.9/dist-packages/numpy/core/include -I./common -I/usr/include/python3.9 -c pycocotools/_mask.c -o build/temp.linux-x86_64-cpython-39/pycocotools/_mask.o -Wno-cpp -Wno-unused-function -std=c99\n",
      "  pycocotools/_mask.c: In function ‘__pyx_pf_11pycocotools_5_mask_12iou’:\n",
      "  pycocotools/_mask.c:6084:31: warning: comparison of integer expressions of different signedness: ‘Py_ssize_t’ {aka ‘long int’} and ‘siz’ {aka ‘long unsigned int’} [-Wsign-compare]\n",
      "   6084 |     if (unlikely(!((__pyx_t_8 == __pyx_v_n) != 0))) {\n",
      "        |                               ^~\n",
      "  pycocotools/_mask.c:896:43: note: in definition of macro ‘unlikely’\n",
      "    896 |   #define unlikely(x) __builtin_expect(!!(x), 0)\n",
      "        |                                           ^\n",
      "  x86_64-linux-gnu-gcc -pthread -shared -Wl,-O1 -Wl,-Bsymbolic-functions -Wl,-Bsymbolic-functions -g -fwrapv -O2 build/temp.linux-x86_64-cpython-39/./common/maskApi.o build/temp.linux-x86_64-cpython-39/pycocotools/_mask.o -L/usr/lib/x86_64-linux-gnu -o build/lib.linux-x86_64-cpython-39/pycocotools/_mask.cpython-39-x86_64-linux-gnu.so\n",
      "  installing to build/bdist.linux-x86_64/wheel\n",
      "  running install\n",
      "  running install_lib\n",
      "  creating build/bdist.linux-x86_64\n",
      "  creating build/bdist.linux-x86_64/wheel\n",
      "  creating build/bdist.linux-x86_64/wheel/pycocotools\n",
      "  copying build/lib.linux-x86_64-cpython-39/pycocotools/coco.py -> build/bdist.linux-x86_64/wheel/pycocotools\n",
      "  copying build/lib.linux-x86_64-cpython-39/pycocotools/cocoeval.py -> build/bdist.linux-x86_64/wheel/pycocotools\n",
      "  copying build/lib.linux-x86_64-cpython-39/pycocotools/mask.py -> build/bdist.linux-x86_64/wheel/pycocotools\n",
      "  copying build/lib.linux-x86_64-cpython-39/pycocotools/_mask.cpython-39-x86_64-linux-gnu.so -> build/bdist.linux-x86_64/wheel/pycocotools\n",
      "  copying build/lib.linux-x86_64-cpython-39/pycocotools/__init__.py -> build/bdist.linux-x86_64/wheel/pycocotools\n",
      "  running install_egg_info\n",
      "  running egg_info\n",
      "  writing pycocotools.egg-info/PKG-INFO\n",
      "  writing dependency_links to pycocotools.egg-info/dependency_links.txt\n",
      "  writing requirements to pycocotools.egg-info/requires.txt\n",
      "  writing top-level names to pycocotools.egg-info/top_level.txt\n",
      "  reading manifest file 'pycocotools.egg-info/SOURCES.txt'\n",
      "  reading manifest template 'MANIFEST.in'\n",
      "  writing manifest file 'pycocotools.egg-info/SOURCES.txt'\n",
      "  Copying pycocotools.egg-info to build/bdist.linux-x86_64/wheel/pycocotools-2.0.5-py3.9.egg-info\n",
      "  running install_scripts\n",
      "  creating build/bdist.linux-x86_64/wheel/pycocotools-2.0.5.dist-info/WHEEL\n",
      "  creating '/tmp/pip-wheel-5nilpanl/tmp380qljqo/pycocotools-2.0.5-cp39-cp39-linux_x86_64.whl' and adding 'build/bdist.linux-x86_64/wheel' to it\n",
      "  adding 'pycocotools/__init__.py'\n",
      "  adding 'pycocotools/_mask.cpython-39-x86_64-linux-gnu.so'\n",
      "  adding 'pycocotools/coco.py'\n",
      "  adding 'pycocotools/cocoeval.py'\n",
      "  adding 'pycocotools/mask.py'\n",
      "  adding 'pycocotools-2.0.5.dist-info/METADATA'\n",
      "  adding 'pycocotools-2.0.5.dist-info/WHEEL'\n",
      "  adding 'pycocotools-2.0.5.dist-info/top_level.txt'\n",
      "  adding 'pycocotools-2.0.5.dist-info/RECORD'\n",
      "  removing build/bdist.linux-x86_64/wheel\n",
      "  Building wheel for pycocotools (pyproject.toml) ... \u001b[?25l\u001b[?25hdone\n",
      "  Created wheel for pycocotools: filename=pycocotools-2.0.5-cp39-cp39-linux_x86_64.whl size=400222 sha256=d34aadc10c4ce9da8b5c2174f667a3633d9b4452c87b096fdbc32499e6d6822c\n",
      "  Stored in directory: /root/.cache/pip/wheels/af/c0/d3/4c6cfc83f6bf8ded4ff95828dd1a8032e3d6f412e939530177\n",
      "Successfully built pycocotools\n",
      "Installing collected packages: pycocotools, mmdet\n",
      "  Running setup.py develop for mmdet\n",
      "    Running command python setup.py develop\n",
      "    running develop\n",
      "    /usr/local/lib/python3.9/dist-packages/setuptools/command/easy_install.py:144: EasyInstallDeprecationWarning: easy_install command is deprecated. Use build and pip and other standards-based tools.\n",
      "      warnings.warn(\n",
      "    /usr/local/lib/python3.9/dist-packages/setuptools/command/install.py:34: SetuptoolsDeprecationWarning: setup.py install is deprecated. Use build and pip and other standards-based tools.\n",
      "      warnings.warn(\n",
      "    running egg_info\n",
      "    writing mmdet.egg-info/PKG-INFO\n",
      "    writing dependency_links to mmdet.egg-info/dependency_links.txt\n",
      "    writing requirements to mmdet.egg-info/requires.txt\n",
      "    writing top-level names to mmdet.egg-info/top_level.txt\n",
      "    reading manifest file 'mmdet.egg-info/SOURCES.txt'\n",
      "    reading manifest template 'MANIFEST.in'\n",
      "    warning: no files found matching 'mmdet/VERSION'\n",
      "    warning: no files found matching 'mmdet/.mim/demo/*/*'\n",
      "    adding license file 'LICENSE'\n",
      "    writing manifest file 'mmdet.egg-info/SOURCES.txt'\n",
      "    /usr/local/lib/python3.9/dist-packages/torch/utils/cpp_extension.py:411: UserWarning: Attempted to use ninja as the BuildExtension backend but we could not find ninja.. Falling back to using the slow distutils backend.\n",
      "      warnings.warn(msg.format('we could not find ninja.'))\n",
      "    running build_ext\n",
      "    Creating /usr/lib/python3.9/site-packages/mmdet.egg-link (link to .)\n",
      "    Adding mmdet 2.25.2 to easy-install.pth file\n",
      "\n",
      "    Installed /notebooks\n",
      "Successfully installed mmdet pycocotools-2.0.5\n",
      "\u001b[33mWARNING: Running pip as the 'root' user can result in broken permissions and conflicting behaviour with the system package manager. It is recommended to use a virtual environment instead: https://pip.pypa.io/warnings/venv\u001b[0m\u001b[33m\n",
      "\u001b[0mNote: you may need to restart the kernel to use updated packages.\n"
     ]
    }
   ],
   "source": [
    "%pip install -U openmim\n",
    "!mim install mmcv-full\n",
    "\n",
    "# # install mmpose dependencies\n",
    "# %pip install -v -r requirements.txt\n",
    "# %pip install mmdet\n",
    "# # install mmpose in develop mode\n",
    "%pip install -v -e ."
   ]
  },
  {
   "cell_type": "code",
   "execution_count": 2,
   "id": "6586b2b7-f124-41f6-9c44-cf2aac39d598",
   "metadata": {
    "tags": []
   },
   "outputs": [],
   "source": [
    "#Add custom dataset\n",
    "%run mmdet/datasets/acino_det.py"
   ]
  },
  {
   "cell_type": "code",
   "execution_count": 3,
   "id": "56d2198d-7406-40f0-9930-4d6fdc4cf616",
   "metadata": {
    "tags": []
   },
   "outputs": [],
   "source": [
    "# Copyright (c) OpenMMLab. All rights reserved.\n",
    "import argparse\n",
    "import copy\n",
    "import os\n",
    "import os.path as osp\n",
    "import time\n",
    "import warnings\n",
    "\n",
    "import mmcv\n",
    "import torch\n",
    "import torch.distributed as dist\n",
    "from mmcv import Config, DictAction\n",
    "from mmcv.runner import get_dist_info, init_dist\n",
    "from mmcv.utils import get_git_hash\n",
    "\n",
    "from mmdet import __version__\n",
    "from mmdet.apis import init_random_seed, set_random_seed, train_detector\n",
    "from mmdet.datasets import build_dataset\n",
    "from mmdet.models import build_detector\n",
    "from mmdet.utils import (collect_env, get_device, get_root_logger,\n",
    "                         replace_cfg_vals, setup_multi_processes,\n",
    "                         update_data_root)\n",
    "\n",
    "def train_from_config(config,eps=5):\n",
    "    cfg = Config.fromfile(config) \n",
    "    # replace the ${key} with the value of cfg.key\n",
    "    cfg = replace_cfg_vals(cfg)\n",
    "    \n",
    "    # update data root according to MMDET_DATASETS\n",
    "    update_data_root(cfg)\n",
    "    \n",
    "    cfg.lr_config.policy='exp'\n",
    "    cfg.lr_config.gamma=0.8\n",
    "    cfg.optimizer.lr=1e-3\n",
    "    # print(cfg.lr_config)\n",
    "    # set multi-process settings\n",
    "    setup_multi_processes(cfg)\n",
    "    cfg.work_dir = osp.join('./work_dirs',\n",
    "                                osp.splitext(osp.basename(config))[0])\n",
    "    \n",
    "    cfg.gpu_ids = range(1)\n",
    "    cfg.checkpoint_config.max_keep_ckpts=1\n",
    "    distributed = False\n",
    "    cfg.total_epochs=eps\n",
    "    cfg.runner.max_epochs=cfg.total_epochs\n",
    "    # create work_dir\n",
    "    mmcv.mkdir_or_exist(osp.abspath(cfg.work_dir))\n",
    "    # dump config\n",
    "    cfg.dump(osp.join(cfg.work_dir, osp.basename(config)))\n",
    "    # init the logger before other steps\n",
    "    timestamp = time.strftime('%Y%m%d_%H%M%S', time.localtime())\n",
    "    log_file = osp.join(cfg.work_dir, f'{timestamp}.log')\n",
    "    logger = get_root_logger(log_file=log_file, log_level=cfg.log_level)\n",
    "    \n",
    "    # init the meta dict to record some important information such as\n",
    "    # environment info and seed, which will be logged\n",
    "    meta = dict()\n",
    "    # log env info\n",
    "    env_info_dict = collect_env()\n",
    "    env_info = '\\n'.join([(f'{k}: {v}') for k, v in env_info_dict.items()])\n",
    "    dash_line = '-' * 60 + '\\n'\n",
    "    logger.info('Environment info:\\n' + dash_line + env_info + '\\n' +\n",
    "                dash_line)\n",
    "    meta['env_info'] = env_info\n",
    "    # log some basic info\n",
    "    logger.info(f'Distributed training: {distributed}')\n",
    "\n",
    "    cfg.device = get_device()\n",
    "    # set random seeds\n",
    "    seed = init_random_seed(0, device=cfg.device)\n",
    "    # seed = seed + dist.get_rank()\n",
    "    logger.info(f'Set random seed to {seed}, '\n",
    "                f'deterministic: {True}')\n",
    "    set_random_seed(seed, deterministic=True)\n",
    "    cfg.seed = seed\n",
    "    meta['seed'] = seed\n",
    "    meta['exp_name'] = osp.basename(config)\n",
    "\n",
    "    model = build_detector(\n",
    "        cfg.model,\n",
    "        train_cfg=cfg.get('train_cfg'),\n",
    "        test_cfg=cfg.get('test_cfg'))\n",
    "    model.init_weights()\n",
    "\n",
    "    datasets = [build_dataset(cfg.data.train)]\n",
    "    model.CLASSES = datasets[0].CLASSES\n",
    "    train_detector(\n",
    "        model,\n",
    "        datasets,\n",
    "        cfg,\n",
    "        distributed=distributed,\n",
    "        validate=True,\n",
    "        timestamp=timestamp,\n",
    "        meta=meta)"
   ]
  },
  {
   "cell_type": "code",
   "execution_count": 39,
   "id": "2167d052-4428-4a9e-a82a-540c4c6c9630",
   "metadata": {
    "collapsed": true,
    "jupyter": {
     "outputs_hidden": true
    },
    "tags": []
   },
   "outputs": [
    {
     "name": "stderr",
     "output_type": "stream",
     "text": [
      "2022-10-16 15:07:46,363 - mmdet - INFO - Environment info:\n",
      "------------------------------------------------------------\n",
      "sys.platform: linux\n",
      "Python: 3.9.13 (main, May 23 2022, 22:01:06) [GCC 9.4.0]\n",
      "CUDA available: True\n",
      "GPU 0: NVIDIA RTX A4000\n",
      "CUDA_HOME: /usr/local/cuda\n",
      "NVCC: Cuda compilation tools, release 11.2, V11.2.152\n",
      "GCC: x86_64-linux-gnu-gcc (Ubuntu 9.4.0-1ubuntu1~20.04.1) 9.4.0\n",
      "PyTorch: 1.12.0+cu116\n",
      "PyTorch compiling details: PyTorch built with:\n",
      "  - GCC 9.3\n",
      "  - C++ Version: 201402\n",
      "  - Intel(R) Math Kernel Library Version 2020.0.0 Product Build 20191122 for Intel(R) 64 architecture applications\n",
      "  - Intel(R) MKL-DNN v2.6.0 (Git Hash 52b5f107dd9cf10910aaa19cb47f3abf9b349815)\n",
      "  - OpenMP 201511 (a.k.a. OpenMP 4.5)\n",
      "  - LAPACK is enabled (usually provided by MKL)\n",
      "  - NNPACK is enabled\n",
      "  - CPU capability usage: AVX2\n",
      "  - CUDA Runtime 11.6\n",
      "  - NVCC architecture flags: -gencode;arch=compute_37,code=sm_37;-gencode;arch=compute_50,code=sm_50;-gencode;arch=compute_60,code=sm_60;-gencode;arch=compute_70,code=sm_70;-gencode;arch=compute_75,code=sm_75;-gencode;arch=compute_80,code=sm_80;-gencode;arch=compute_86,code=sm_86\n",
      "  - CuDNN 8.3.2  (built against CUDA 11.5)\n",
      "  - Magma 2.6.1\n",
      "  - Build settings: BLAS_INFO=mkl, BUILD_TYPE=Release, CUDA_VERSION=11.6, CUDNN_VERSION=8.3.2, CXX_COMPILER=/opt/rh/devtoolset-9/root/usr/bin/c++, CXX_FLAGS= -Wno-deprecated -fvisibility-inlines-hidden -DUSE_PTHREADPOOL -fopenmp -DNDEBUG -DUSE_KINETO -DUSE_FBGEMM -DUSE_QNNPACK -DUSE_PYTORCH_QNNPACK -DUSE_XNNPACK -DSYMBOLICATE_MOBILE_DEBUG_HANDLE -DEDGE_PROFILER_USE_KINETO -O2 -fPIC -Wno-narrowing -Wall -Wextra -Werror=return-type -Wno-missing-field-initializers -Wno-type-limits -Wno-array-bounds -Wno-unknown-pragmas -Wno-unused-parameter -Wno-unused-function -Wno-unused-result -Wno-unused-local-typedefs -Wno-strict-overflow -Wno-strict-aliasing -Wno-error=deprecated-declarations -Wno-stringop-overflow -Wno-psabi -Wno-error=pedantic -Wno-error=redundant-decls -Wno-error=old-style-cast -fdiagnostics-color=always -faligned-new -Wno-unused-but-set-variable -Wno-maybe-uninitialized -fno-math-errno -fno-trapping-math -Werror=format -Werror=cast-function-type -Wno-stringop-overflow, LAPACK_INFO=mkl, PERF_WITH_AVX=1, PERF_WITH_AVX2=1, PERF_WITH_AVX512=1, TORCH_VERSION=1.12.0, USE_CUDA=ON, USE_CUDNN=ON, USE_EXCEPTION_PTR=1, USE_GFLAGS=OFF, USE_GLOG=OFF, USE_MKL=ON, USE_MKLDNN=OFF, USE_MPI=OFF, USE_NCCL=ON, USE_NNPACK=ON, USE_OPENMP=ON, USE_ROCM=OFF, \n",
      "\n",
      "TorchVision: 0.13.0+cu116\n",
      "OpenCV: 4.6.0\n",
      "MMCV: 1.6.2\n",
      "MMCV Compiler: GCC 9.3\n",
      "MMCV CUDA Compiler: 11.6\n",
      "MMDetection: 2.25.2+7e891f0\n",
      "------------------------------------------------------------\n",
      "\n",
      "2022-10-16 15:07:46,368 - mmdet - INFO - Distributed training: False\n",
      "2022-10-16 15:07:46,371 - mmdet - INFO - Set random seed to 0, deterministic: True\n",
      "2022-10-16 15:07:46,668 - mmdet - INFO - initialize ResNet with init_cfg {'type': 'Pretrained', 'checkpoint': 'torchvision://resnet50'}\n",
      "2022-10-16 15:07:46,673 - mmcv - INFO - load model from: torchvision://resnet50\n",
      "2022-10-16 15:07:46,674 - mmcv - INFO - load checkpoint from torchvision path: torchvision://resnet50\n",
      "2022-10-16 15:07:46,743 - mmcv - WARNING - The model and loaded state dict do not match exactly\n",
      "\n",
      "unexpected key in source state_dict: fc.weight, fc.bias\n",
      "\n",
      "2022-10-16 15:07:46,754 - mmdet - INFO - initialize FPN with init_cfg {'type': 'Xavier', 'layer': 'Conv2d', 'distribution': 'uniform'}\n",
      "2022-10-16 15:07:46,821 - mmdet - INFO - initialize RetinaHead with init_cfg {'type': 'Normal', 'layer': 'Conv2d', 'std': 0.01, 'override': {'type': 'Normal', 'name': 'retina_cls', 'std': 0.01, 'bias_prob': 0.01}}\n",
      "2022-10-16 15:07:46,959 - mmdet - INFO - Automatic scaling of learning rate (LR) has been disabled.\n",
      "2022-10-16 15:07:46,972 - mmdet - INFO - Start running, host: root@nm0rzu2hit, work_dir: /notebooks/work_dirs/retinanet_r50_fpn_2x_acino\n",
      "2022-10-16 15:07:46,974 - mmdet - INFO - Hooks will be executed in the following order:\n",
      "before_run:\n",
      "(VERY_HIGH   ) ExpLrUpdaterHook                   \n",
      "(NORMAL      ) CheckpointHook                     \n",
      "(LOW         ) EvalHook                           \n",
      "(VERY_LOW    ) TextLoggerHook                     \n",
      " -------------------- \n",
      "before_train_epoch:\n",
      "(VERY_HIGH   ) ExpLrUpdaterHook                   \n",
      "(NORMAL      ) NumClassCheckHook                  \n",
      "(LOW         ) IterTimerHook                      \n",
      "(LOW         ) EvalHook                           \n",
      "(VERY_LOW    ) TextLoggerHook                     \n",
      " -------------------- \n",
      "before_train_iter:\n",
      "(VERY_HIGH   ) ExpLrUpdaterHook                   \n",
      "(LOW         ) IterTimerHook                      \n",
      "(LOW         ) EvalHook                           \n",
      " -------------------- \n",
      "after_train_iter:\n",
      "(ABOVE_NORMAL) OptimizerHook                      \n",
      "(NORMAL      ) CheckpointHook                     \n",
      "(LOW         ) IterTimerHook                      \n",
      "(LOW         ) EvalHook                           \n",
      "(VERY_LOW    ) TextLoggerHook                     \n",
      " -------------------- \n",
      "after_train_epoch:\n",
      "(NORMAL      ) CheckpointHook                     \n",
      "(LOW         ) EvalHook                           \n",
      "(VERY_LOW    ) TextLoggerHook                     \n",
      " -------------------- \n",
      "before_val_epoch:\n",
      "(NORMAL      ) NumClassCheckHook                  \n",
      "(LOW         ) IterTimerHook                      \n",
      "(VERY_LOW    ) TextLoggerHook                     \n",
      " -------------------- \n",
      "before_val_iter:\n",
      "(LOW         ) IterTimerHook                      \n",
      " -------------------- \n",
      "after_val_iter:\n",
      "(LOW         ) IterTimerHook                      \n",
      " -------------------- \n",
      "after_val_epoch:\n",
      "(VERY_LOW    ) TextLoggerHook                     \n",
      " -------------------- \n",
      "after_run:\n",
      "(VERY_LOW    ) TextLoggerHook                     \n",
      " -------------------- \n",
      "2022-10-16 15:07:46,976 - mmdet - INFO - workflow: [('train', 1)], max: 10 epochs\n",
      "2022-10-16 15:07:46,978 - mmdet - INFO - Checkpoints will be saved to /notebooks/work_dirs/retinanet_r50_fpn_2x_acino by HardDiskBackend.\n"
     ]
    },
    {
     "name": "stdout",
     "output_type": "stream",
     "text": [
      "loading annotations into memory...\n",
      "Done (t=0.05s)\n",
      "creating index...\n",
      "index created!\n",
      "loading annotations into memory...\n",
      "Done (t=0.01s)\n",
      "creating index...\n",
      "index created!\n"
     ]
    },
    {
     "name": "stderr",
     "output_type": "stream",
     "text": [
      "2022-10-16 15:08:08,373 - mmdet - INFO - Epoch [1][50/1337]\tlr: 9.890e-05, eta: 1:34:20, time: 0.425, data_time: 0.057, memory: 14415, loss_cls: 1.1326, loss_bbox: 0.6740, loss: 1.8065\n",
      "2022-10-16 15:08:27,524 - mmdet - INFO - Epoch [1][100/1337]\tlr: 1.988e-04, eta: 1:29:20, time: 0.383, data_time: 0.010, memory: 14415, loss_cls: 1.1306, loss_bbox: 0.6517, loss: 1.7823\n",
      "2022-10-16 15:08:47,310 - mmdet - INFO - Epoch [1][150/1337]\tlr: 2.987e-04, eta: 1:28:24, time: 0.396, data_time: 0.019, memory: 14415, loss_cls: 1.1237, loss_bbox: 0.6255, loss: 1.7492\n",
      "2022-10-16 15:09:06,748 - mmdet - INFO - Epoch [1][200/1337]\tlr: 3.986e-04, eta: 1:27:22, time: 0.389, data_time: 0.011, memory: 14415, loss_cls: 1.0629, loss_bbox: 0.6092, loss: 1.6721\n",
      "2022-10-16 15:09:26,230 - mmdet - INFO - Epoch [1][250/1337]\tlr: 4.985e-04, eta: 1:26:40, time: 0.390, data_time: 0.011, memory: 14415, loss_cls: 0.5435, loss_bbox: 0.5456, loss: 1.0890\n",
      "2022-10-16 15:09:45,751 - mmdet - INFO - Epoch [1][300/1337]\tlr: 5.984e-04, eta: 1:26:07, time: 0.390, data_time: 0.011, memory: 14415, loss_cls: 0.9443, loss_bbox: 0.5485, loss: 1.4928\n",
      "2022-10-16 15:10:05,780 - mmdet - INFO - Epoch [1][350/1337]\tlr: 6.983e-04, eta: 1:25:57, time: 0.401, data_time: 0.021, memory: 14415, loss_cls: 0.3628, loss_bbox: 0.5066, loss: 0.8693\n",
      "2022-10-16 15:10:25,313 - mmdet - INFO - Epoch [1][400/1337]\tlr: 7.982e-04, eta: 1:25:29, time: 0.391, data_time: 0.011, memory: 14415, loss_cls: 0.2714, loss_bbox: 0.4886, loss: 0.7600\n",
      "2022-10-16 15:10:45,068 - mmdet - INFO - Epoch [1][450/1337]\tlr: 8.981e-04, eta: 1:25:08, time: 0.395, data_time: 0.015, memory: 14415, loss_cls: 0.2403, loss_bbox: 0.4393, loss: 0.6796\n",
      "2022-10-16 15:11:04,577 - mmdet - INFO - Epoch [1][500/1337]\tlr: 9.980e-04, eta: 1:24:42, time: 0.390, data_time: 0.011, memory: 14415, loss_cls: 0.4038, loss_bbox: 0.4434, loss: 0.8472\n",
      "2022-10-16 15:11:24,421 - mmdet - INFO - Epoch [1][550/1337]\tlr: 1.000e-03, eta: 1:24:24, time: 0.397, data_time: 0.018, memory: 14415, loss_cls: 0.6943, loss_bbox: 0.4960, loss: 1.1903\n",
      "2022-10-16 15:11:43,934 - mmdet - INFO - Epoch [1][600/1337]\tlr: 1.000e-03, eta: 1:23:59, time: 0.390, data_time: 0.011, memory: 14415, loss_cls: 0.3037, loss_bbox: 0.4463, loss: 0.7500\n",
      "2022-10-16 15:12:03,778 - mmdet - INFO - Epoch [1][650/1337]\tlr: 1.000e-03, eta: 1:23:42, time: 0.397, data_time: 0.018, memory: 14415, loss_cls: 0.2815, loss_bbox: 0.3924, loss: 0.6739\n",
      "2022-10-16 15:12:23,303 - mmdet - INFO - Epoch [1][700/1337]\tlr: 1.000e-03, eta: 1:23:18, time: 0.390, data_time: 0.011, memory: 14415, loss_cls: 0.2451, loss_bbox: 0.4188, loss: 0.6639\n",
      "2022-10-16 15:12:43,091 - mmdet - INFO - Epoch [1][750/1337]\tlr: 1.000e-03, eta: 1:22:59, time: 0.396, data_time: 0.017, memory: 14415, loss_cls: 0.2311, loss_bbox: 0.4045, loss: 0.6355\n",
      "2022-10-16 15:13:02,605 - mmdet - INFO - Epoch [1][800/1337]\tlr: 1.000e-03, eta: 1:22:36, time: 0.390, data_time: 0.011, memory: 14415, loss_cls: 0.2339, loss_bbox: 0.3545, loss: 0.5885\n",
      "2022-10-16 15:13:22,541 - mmdet - INFO - Epoch [1][850/1337]\tlr: 1.000e-03, eta: 1:22:20, time: 0.399, data_time: 0.020, memory: 14415, loss_cls: 0.1850, loss_bbox: 0.3735, loss: 0.5585\n",
      "2022-10-16 15:13:42,048 - mmdet - INFO - Epoch [1][900/1337]\tlr: 1.000e-03, eta: 1:21:57, time: 0.390, data_time: 0.011, memory: 14415, loss_cls: 0.1936, loss_bbox: 0.3555, loss: 0.5492\n",
      "2022-10-16 15:14:01,813 - mmdet - INFO - Epoch [1][950/1337]\tlr: 1.000e-03, eta: 1:21:38, time: 0.395, data_time: 0.016, memory: 14415, loss_cls: 0.1801, loss_bbox: 0.3355, loss: 0.5156\n",
      "2022-10-16 15:14:21,375 - mmdet - INFO - Exp name: retinanet_r50_fpn_2x_acino.py\n",
      "2022-10-16 15:14:21,377 - mmdet - INFO - Epoch [1][1000/1337]\tlr: 1.000e-03, eta: 1:21:16, time: 0.391, data_time: 0.012, memory: 14415, loss_cls: 0.1931, loss_bbox: 0.3403, loss: 0.5334\n",
      "2022-10-16 15:14:41,171 - mmdet - INFO - Epoch [1][1050/1337]\tlr: 1.000e-03, eta: 1:20:58, time: 0.396, data_time: 0.017, memory: 14415, loss_cls: 0.1602, loss_bbox: 0.2986, loss: 0.4588\n",
      "2022-10-16 15:15:00,670 - mmdet - INFO - Epoch [1][1100/1337]\tlr: 1.000e-03, eta: 1:20:35, time: 0.390, data_time: 0.011, memory: 14415, loss_cls: 0.1394, loss_bbox: 0.2929, loss: 0.4324\n",
      "2022-10-16 15:15:20,432 - mmdet - INFO - Epoch [1][1150/1337]\tlr: 1.000e-03, eta: 1:20:16, time: 0.395, data_time: 0.016, memory: 14415, loss_cls: 0.1656, loss_bbox: 0.3111, loss: 0.4768\n",
      "2022-10-16 15:15:39,947 - mmdet - INFO - Epoch [1][1200/1337]\tlr: 1.000e-03, eta: 1:19:55, time: 0.390, data_time: 0.011, memory: 14415, loss_cls: 0.1488, loss_bbox: 0.3149, loss: 0.4637\n",
      "2022-10-16 15:15:59,728 - mmdet - INFO - Epoch [1][1250/1337]\tlr: 1.000e-03, eta: 1:19:36, time: 0.396, data_time: 0.017, memory: 14415, loss_cls: 0.1375, loss_bbox: 0.2900, loss: 0.4275\n",
      "2022-10-16 15:16:19,251 - mmdet - INFO - Epoch [1][1300/1337]\tlr: 1.000e-03, eta: 1:19:14, time: 0.390, data_time: 0.011, memory: 14415, loss_cls: 0.1499, loss_bbox: 0.2925, loss: 0.4424\n",
      "2022-10-16 15:16:34,088 - mmdet - INFO - Saving checkpoint at 1 epochs\n"
     ]
    },
    {
     "name": "stdout",
     "output_type": "stream",
     "text": [
      "[>>>>>>>>>>>>>>>>>>>>>>>>>>>>>] 764/764, 19.9 task/s, elapsed: 38s, ETA:     0s"
     ]
    },
    {
     "name": "stderr",
     "output_type": "stream",
     "text": [
      "2022-10-16 15:17:13,823 - mmdet - INFO - Evaluating bbox...\n"
     ]
    },
    {
     "name": "stdout",
     "output_type": "stream",
     "text": [
      "Loading and preparing results...\n",
      "DONE (t=0.00s)\n",
      "creating index...\n",
      "index created!\n",
      "Running per image evaluation...\n",
      "Evaluate annotation type *bbox*\n"
     ]
    },
    {
     "name": "stderr",
     "output_type": "stream",
     "text": [
      "2022-10-16 15:17:14,247 - mmdet - INFO - \n",
      " Average Precision  (AP) @[ IoU=0.50:0.95 | area=   all | maxDets=100 ] = 0.557\n",
      " Average Precision  (AP) @[ IoU=0.50      | area=   all | maxDets=1000 ] = 0.960\n",
      " Average Precision  (AP) @[ IoU=0.75      | area=   all | maxDets=1000 ] = 0.588\n",
      " Average Precision  (AP) @[ IoU=0.50:0.95 | area= small | maxDets=1000 ] = 0.000\n",
      " Average Precision  (AP) @[ IoU=0.50:0.95 | area=medium | maxDets=1000 ] = 0.303\n",
      " Average Precision  (AP) @[ IoU=0.50:0.95 | area= large | maxDets=1000 ] = 0.569\n",
      " Average Recall     (AR) @[ IoU=0.50:0.95 | area=   all | maxDets=100 ] = 0.632\n",
      " Average Recall     (AR) @[ IoU=0.50:0.95 | area=   all | maxDets=300 ] = 0.632\n",
      " Average Recall     (AR) @[ IoU=0.50:0.95 | area=   all | maxDets=1000 ] = 0.632\n",
      " Average Recall     (AR) @[ IoU=0.50:0.95 | area= small | maxDets=1000 ] = 0.000\n",
      " Average Recall     (AR) @[ IoU=0.50:0.95 | area=medium | maxDets=1000 ] = 0.439\n",
      " Average Recall     (AR) @[ IoU=0.50:0.95 | area= large | maxDets=1000 ] = 0.642\n",
      "\n",
      "2022-10-16 15:17:14,257 - mmdet - INFO - Exp name: retinanet_r50_fpn_2x_acino.py\n",
      "2022-10-16 15:17:14,259 - mmdet - INFO - Epoch(val) [1][764]\tbbox_mAP: 0.5570, bbox_mAP_50: 0.9600, bbox_mAP_75: 0.5880, bbox_mAP_s: 0.0000, bbox_mAP_m: 0.3030, bbox_mAP_l: 0.5690, bbox_mAP_copypaste: 0.557 0.960 0.588 0.000 0.303 0.569\n"
     ]
    },
    {
     "name": "stdout",
     "output_type": "stream",
     "text": [
      "DONE (t=0.29s).\n",
      "Accumulating evaluation results...\n",
      "DONE (t=0.11s).\n"
     ]
    },
    {
     "name": "stderr",
     "output_type": "stream",
     "text": [
      "2022-10-16 15:17:36,471 - mmdet - INFO - Epoch [2][50/1337]\tlr: 8.000e-04, eta: 1:16:51, time: 0.434, data_time: 0.056, memory: 14415, loss_cls: 0.1519, loss_bbox: 0.3091, loss: 0.4611\n",
      "2022-10-16 15:17:55,904 - mmdet - INFO - Epoch [2][100/1337]\tlr: 8.000e-04, eta: 1:16:34, time: 0.389, data_time: 0.010, memory: 14415, loss_cls: 0.1456, loss_bbox: 0.2773, loss: 0.4230\n",
      "2022-10-16 15:18:15,576 - mmdet - INFO - Epoch [2][150/1337]\tlr: 8.000e-04, eta: 1:16:18, time: 0.393, data_time: 0.015, memory: 14415, loss_cls: 0.1274, loss_bbox: 0.2787, loss: 0.4062\n",
      "2022-10-16 15:18:35,074 - mmdet - INFO - Epoch [2][200/1337]\tlr: 8.000e-04, eta: 1:16:00, time: 0.390, data_time: 0.011, memory: 14415, loss_cls: 0.1077, loss_bbox: 0.2548, loss: 0.3625\n",
      "2022-10-16 15:18:54,940 - mmdet - INFO - Epoch [2][250/1337]\tlr: 8.000e-04, eta: 1:15:46, time: 0.397, data_time: 0.018, memory: 14415, loss_cls: 0.1219, loss_bbox: 0.2738, loss: 0.3957\n",
      "2022-10-16 15:19:14,474 - mmdet - INFO - Epoch [2][300/1337]\tlr: 8.000e-04, eta: 1:15:28, time: 0.391, data_time: 0.011, memory: 14415, loss_cls: 0.1344, loss_bbox: 0.2772, loss: 0.4116\n",
      "2022-10-16 15:19:34,137 - mmdet - INFO - Epoch [2][350/1337]\tlr: 8.000e-04, eta: 1:15:11, time: 0.393, data_time: 0.014, memory: 14415, loss_cls: 0.1253, loss_bbox: 0.2539, loss: 0.3793\n",
      "2022-10-16 15:19:53,637 - mmdet - INFO - Epoch [2][400/1337]\tlr: 8.000e-04, eta: 1:14:53, time: 0.390, data_time: 0.011, memory: 14415, loss_cls: 0.1266, loss_bbox: 0.2731, loss: 0.3997\n",
      "2022-10-16 15:20:13,463 - mmdet - INFO - Epoch [2][450/1337]\tlr: 8.000e-04, eta: 1:14:37, time: 0.397, data_time: 0.018, memory: 14415, loss_cls: 0.1297, loss_bbox: 0.2916, loss: 0.4212\n",
      "2022-10-16 15:20:32,978 - mmdet - INFO - Epoch [2][500/1337]\tlr: 8.000e-04, eta: 1:14:19, time: 0.390, data_time: 0.011, memory: 14415, loss_cls: 0.1051, loss_bbox: 0.2613, loss: 0.3664\n",
      "2022-10-16 15:20:52,664 - mmdet - INFO - Epoch [2][550/1337]\tlr: 8.000e-04, eta: 1:14:02, time: 0.394, data_time: 0.015, memory: 14415, loss_cls: 0.1023, loss_bbox: 0.2344, loss: 0.3367\n",
      "2022-10-16 15:21:12,176 - mmdet - INFO - Epoch [2][600/1337]\tlr: 8.000e-04, eta: 1:13:43, time: 0.390, data_time: 0.011, memory: 14415, loss_cls: 0.0953, loss_bbox: 0.2527, loss: 0.3480\n",
      "2022-10-16 15:21:31,989 - mmdet - INFO - Epoch [2][650/1337]\tlr: 8.000e-04, eta: 1:13:27, time: 0.396, data_time: 0.017, memory: 14415, loss_cls: 0.1196, loss_bbox: 0.2698, loss: 0.3894\n",
      "2022-10-16 15:21:51,493 - mmdet - INFO - Epoch [2][700/1337]\tlr: 8.000e-04, eta: 1:13:08, time: 0.390, data_time: 0.011, memory: 14415, loss_cls: 0.0906, loss_bbox: 0.2321, loss: 0.3226\n",
      "2022-10-16 15:22:11,198 - mmdet - INFO - Epoch [2][750/1337]\tlr: 8.000e-04, eta: 1:12:51, time: 0.394, data_time: 0.015, memory: 14415, loss_cls: 0.1008, loss_bbox: 0.2244, loss: 0.3253\n",
      "2022-10-16 15:22:30,692 - mmdet - INFO - Epoch [2][800/1337]\tlr: 8.000e-04, eta: 1:12:32, time: 0.390, data_time: 0.011, memory: 14415, loss_cls: 0.0963, loss_bbox: 0.2284, loss: 0.3247\n",
      "2022-10-16 15:22:50,376 - mmdet - INFO - Epoch [2][850/1337]\tlr: 8.000e-04, eta: 1:12:14, time: 0.394, data_time: 0.015, memory: 14415, loss_cls: 0.1178, loss_bbox: 0.2630, loss: 0.3808\n",
      "2022-10-16 15:23:09,872 - mmdet - INFO - Epoch [2][900/1337]\tlr: 8.000e-04, eta: 1:11:55, time: 0.390, data_time: 0.011, memory: 14415, loss_cls: 0.1255, loss_bbox: 0.2348, loss: 0.3604\n",
      "2022-10-16 15:23:29,672 - mmdet - INFO - Epoch [2][950/1337]\tlr: 8.000e-04, eta: 1:11:38, time: 0.396, data_time: 0.017, memory: 14415, loss_cls: 0.1308, loss_bbox: 0.2532, loss: 0.3840\n",
      "2022-10-16 15:23:49,166 - mmdet - INFO - Epoch [2][1000/1337]\tlr: 8.000e-04, eta: 1:11:19, time: 0.390, data_time: 0.011, memory: 14415, loss_cls: 0.1106, loss_bbox: 0.2355, loss: 0.3461\n",
      "2022-10-16 15:24:09,300 - mmdet - INFO - Epoch [2][1050/1337]\tlr: 8.000e-04, eta: 1:11:03, time: 0.403, data_time: 0.024, memory: 14415, loss_cls: 0.0945, loss_bbox: 0.2299, loss: 0.3244\n",
      "2022-10-16 15:24:28,782 - mmdet - INFO - Epoch [2][1100/1337]\tlr: 8.000e-04, eta: 1:10:44, time: 0.390, data_time: 0.011, memory: 14415, loss_cls: 0.0926, loss_bbox: 0.2176, loss: 0.3102\n",
      "2022-10-16 15:24:48,976 - mmdet - INFO - Epoch [2][1150/1337]\tlr: 8.000e-04, eta: 1:10:28, time: 0.404, data_time: 0.026, memory: 14415, loss_cls: 0.1079, loss_bbox: 0.2505, loss: 0.3584\n",
      "2022-10-16 15:25:08,457 - mmdet - INFO - Epoch [2][1200/1337]\tlr: 8.000e-04, eta: 1:10:09, time: 0.390, data_time: 0.011, memory: 14415, loss_cls: 0.0987, loss_bbox: 0.2295, loss: 0.3282\n",
      "2022-10-16 15:25:28,197 - mmdet - INFO - Epoch [2][1250/1337]\tlr: 8.000e-04, eta: 1:09:51, time: 0.395, data_time: 0.016, memory: 14415, loss_cls: 0.1010, loss_bbox: 0.2418, loss: 0.3428\n",
      "2022-10-16 15:25:47,697 - mmdet - INFO - Epoch [2][1300/1337]\tlr: 8.000e-04, eta: 1:09:32, time: 0.390, data_time: 0.012, memory: 14415, loss_cls: 0.0919, loss_bbox: 0.2280, loss: 0.3200\n",
      "2022-10-16 15:26:02,431 - mmdet - INFO - Saving checkpoint at 2 epochs\n"
     ]
    },
    {
     "name": "stdout",
     "output_type": "stream",
     "text": [
      "[>>>>>>>>>>>>>>>>>>>>>>>>>>>>>] 764/764, 20.0 task/s, elapsed: 38s, ETA:     0s"
     ]
    },
    {
     "name": "stderr",
     "output_type": "stream",
     "text": [
      "2022-10-16 15:26:41,989 - mmdet - INFO - Evaluating bbox...\n"
     ]
    },
    {
     "name": "stdout",
     "output_type": "stream",
     "text": [
      "Loading and preparing results...\n",
      "DONE (t=0.00s)\n",
      "creating index...\n",
      "index created!\n",
      "Running per image evaluation...\n",
      "Evaluate annotation type *bbox*\n"
     ]
    },
    {
     "name": "stderr",
     "output_type": "stream",
     "text": [
      "2022-10-16 15:26:42,553 - mmdet - INFO - \n",
      " Average Precision  (AP) @[ IoU=0.50:0.95 | area=   all | maxDets=100 ] = 0.636\n",
      " Average Precision  (AP) @[ IoU=0.50      | area=   all | maxDets=1000 ] = 0.973\n",
      " Average Precision  (AP) @[ IoU=0.75      | area=   all | maxDets=1000 ] = 0.774\n",
      " Average Precision  (AP) @[ IoU=0.50:0.95 | area= small | maxDets=1000 ] = 0.000\n",
      " Average Precision  (AP) @[ IoU=0.50:0.95 | area=medium | maxDets=1000 ] = 0.402\n",
      " Average Precision  (AP) @[ IoU=0.50:0.95 | area= large | maxDets=1000 ] = 0.648\n",
      " Average Recall     (AR) @[ IoU=0.50:0.95 | area=   all | maxDets=100 ] = 0.707\n",
      " Average Recall     (AR) @[ IoU=0.50:0.95 | area=   all | maxDets=300 ] = 0.707\n",
      " Average Recall     (AR) @[ IoU=0.50:0.95 | area=   all | maxDets=1000 ] = 0.707\n",
      " Average Recall     (AR) @[ IoU=0.50:0.95 | area= small | maxDets=1000 ] = 0.000\n",
      " Average Recall     (AR) @[ IoU=0.50:0.95 | area=medium | maxDets=1000 ] = 0.500\n",
      " Average Recall     (AR) @[ IoU=0.50:0.95 | area= large | maxDets=1000 ] = 0.719\n",
      "\n",
      "2022-10-16 15:26:42,561 - mmdet - INFO - Exp name: retinanet_r50_fpn_2x_acino.py\n",
      "2022-10-16 15:26:42,563 - mmdet - INFO - Epoch(val) [2][764]\tbbox_mAP: 0.6360, bbox_mAP_50: 0.9730, bbox_mAP_75: 0.7740, bbox_mAP_s: 0.0000, bbox_mAP_m: 0.4020, bbox_mAP_l: 0.6480, bbox_mAP_copypaste: 0.636 0.973 0.774 0.000 0.402 0.648\n"
     ]
    },
    {
     "name": "stdout",
     "output_type": "stream",
     "text": [
      "DONE (t=0.46s).\n",
      "Accumulating evaluation results...\n",
      "DONE (t=0.08s).\n"
     ]
    },
    {
     "name": "stderr",
     "output_type": "stream",
     "text": [
      "2022-10-16 15:27:04,536 - mmdet - INFO - Epoch [3][50/1337]\tlr: 6.400e-04, eta: 1:08:10, time: 0.434, data_time: 0.057, memory: 14415, loss_cls: 0.0858, loss_bbox: 0.2085, loss: 0.2942\n",
      "2022-10-16 15:27:23,964 - mmdet - INFO - Epoch [3][100/1337]\tlr: 6.400e-04, eta: 1:07:52, time: 0.389, data_time: 0.011, memory: 14415, loss_cls: 0.0855, loss_bbox: 0.2197, loss: 0.3053\n",
      "2022-10-16 15:27:44,033 - mmdet - INFO - Epoch [3][150/1337]\tlr: 6.400e-04, eta: 1:07:36, time: 0.401, data_time: 0.024, memory: 14415, loss_cls: 0.0838, loss_bbox: 0.2066, loss: 0.2904\n",
      "2022-10-16 15:28:03,461 - mmdet - INFO - Epoch [3][200/1337]\tlr: 6.400e-04, eta: 1:07:17, time: 0.389, data_time: 0.011, memory: 14415, loss_cls: 0.0834, loss_bbox: 0.2038, loss: 0.2872\n",
      "2022-10-16 15:28:23,206 - mmdet - INFO - Epoch [3][250/1337]\tlr: 6.400e-04, eta: 1:07:00, time: 0.395, data_time: 0.017, memory: 14415, loss_cls: 0.0833, loss_bbox: 0.2104, loss: 0.2937\n",
      "2022-10-16 15:28:42,679 - mmdet - INFO - Epoch [3][300/1337]\tlr: 6.400e-04, eta: 1:06:41, time: 0.389, data_time: 0.011, memory: 14415, loss_cls: 0.0836, loss_bbox: 0.2090, loss: 0.2926\n",
      "2022-10-16 15:29:02,526 - mmdet - INFO - Epoch [3][350/1337]\tlr: 6.400e-04, eta: 1:06:24, time: 0.397, data_time: 0.019, memory: 14415, loss_cls: 0.0702, loss_bbox: 0.1923, loss: 0.2625\n",
      "2022-10-16 15:29:22,000 - mmdet - INFO - Epoch [3][400/1337]\tlr: 6.400e-04, eta: 1:06:06, time: 0.389, data_time: 0.011, memory: 14415, loss_cls: 0.0849, loss_bbox: 0.2096, loss: 0.2945\n",
      "2022-10-16 15:29:41,749 - mmdet - INFO - Epoch [3][450/1337]\tlr: 6.400e-04, eta: 1:05:48, time: 0.395, data_time: 0.017, memory: 14415, loss_cls: 0.0791, loss_bbox: 0.2095, loss: 0.2886\n",
      "2022-10-16 15:30:01,214 - mmdet - INFO - Epoch [3][500/1337]\tlr: 6.400e-04, eta: 1:05:29, time: 0.389, data_time: 0.011, memory: 14415, loss_cls: 0.0935, loss_bbox: 0.2276, loss: 0.3211\n",
      "2022-10-16 15:30:20,886 - mmdet - INFO - Epoch [3][550/1337]\tlr: 6.400e-04, eta: 1:05:11, time: 0.393, data_time: 0.015, memory: 14415, loss_cls: 0.0834, loss_bbox: 0.2026, loss: 0.2860\n",
      "2022-10-16 15:30:40,355 - mmdet - INFO - Epoch [3][600/1337]\tlr: 6.400e-04, eta: 1:04:53, time: 0.389, data_time: 0.011, memory: 14415, loss_cls: 0.0703, loss_bbox: 0.1926, loss: 0.2629\n",
      "2022-10-16 15:31:00,125 - mmdet - INFO - Epoch [3][650/1337]\tlr: 6.400e-04, eta: 1:04:35, time: 0.395, data_time: 0.017, memory: 14415, loss_cls: 0.0731, loss_bbox: 0.2091, loss: 0.2823\n",
      "2022-10-16 15:31:19,592 - mmdet - INFO - Epoch [3][700/1337]\tlr: 6.400e-04, eta: 1:04:16, time: 0.389, data_time: 0.011, memory: 14415, loss_cls: 0.0948, loss_bbox: 0.2179, loss: 0.3127\n",
      "2022-10-16 15:31:39,410 - mmdet - INFO - Epoch [3][750/1337]\tlr: 6.400e-04, eta: 1:03:58, time: 0.396, data_time: 0.018, memory: 14415, loss_cls: 0.0855, loss_bbox: 0.1977, loss: 0.2832\n",
      "2022-10-16 15:31:58,893 - mmdet - INFO - Epoch [3][800/1337]\tlr: 6.400e-04, eta: 1:03:40, time: 0.390, data_time: 0.011, memory: 14415, loss_cls: 0.0632, loss_bbox: 0.1789, loss: 0.2421\n",
      "2022-10-16 15:32:18,658 - mmdet - INFO - Epoch [3][850/1337]\tlr: 6.400e-04, eta: 1:03:22, time: 0.395, data_time: 0.017, memory: 14415, loss_cls: 0.0777, loss_bbox: 0.1968, loss: 0.2745\n",
      "2022-10-16 15:32:38,153 - mmdet - INFO - Epoch [3][900/1337]\tlr: 6.400e-04, eta: 1:03:03, time: 0.390, data_time: 0.011, memory: 14415, loss_cls: 0.0771, loss_bbox: 0.2006, loss: 0.2778\n",
      "2022-10-16 15:32:57,943 - mmdet - INFO - Epoch [3][950/1337]\tlr: 6.400e-04, eta: 1:02:45, time: 0.396, data_time: 0.018, memory: 14415, loss_cls: 0.1000, loss_bbox: 0.2067, loss: 0.3068\n",
      "2022-10-16 15:33:17,425 - mmdet - INFO - Epoch [3][1000/1337]\tlr: 6.400e-04, eta: 1:02:26, time: 0.390, data_time: 0.012, memory: 14415, loss_cls: 0.1088, loss_bbox: 0.2079, loss: 0.3167\n",
      "2022-10-16 15:33:37,232 - mmdet - INFO - Epoch [3][1050/1337]\tlr: 6.400e-04, eta: 1:02:08, time: 0.396, data_time: 0.018, memory: 14415, loss_cls: 0.0644, loss_bbox: 0.1821, loss: 0.2465\n",
      "2022-10-16 15:33:56,734 - mmdet - INFO - Epoch [3][1100/1337]\tlr: 6.400e-04, eta: 1:01:49, time: 0.390, data_time: 0.011, memory: 14415, loss_cls: 0.0903, loss_bbox: 0.1984, loss: 0.2887\n",
      "2022-10-16 15:34:16,560 - mmdet - INFO - Epoch [3][1150/1337]\tlr: 6.400e-04, eta: 1:01:31, time: 0.396, data_time: 0.018, memory: 14415, loss_cls: 0.1201, loss_bbox: 0.2212, loss: 0.3412\n",
      "2022-10-16 15:34:36,077 - mmdet - INFO - Epoch [3][1200/1337]\tlr: 6.400e-04, eta: 1:01:12, time: 0.390, data_time: 0.012, memory: 14415, loss_cls: 0.0825, loss_bbox: 0.2008, loss: 0.2833\n",
      "2022-10-16 15:34:55,993 - mmdet - INFO - Epoch [3][1250/1337]\tlr: 6.400e-04, eta: 1:00:54, time: 0.398, data_time: 0.019, memory: 14415, loss_cls: 0.0770, loss_bbox: 0.1892, loss: 0.2661\n",
      "2022-10-16 15:35:15,501 - mmdet - INFO - Epoch [3][1300/1337]\tlr: 6.400e-04, eta: 1:00:35, time: 0.390, data_time: 0.011, memory: 14415, loss_cls: 0.0806, loss_bbox: 0.1925, loss: 0.2731\n",
      "2022-10-16 15:35:30,422 - mmdet - INFO - Saving checkpoint at 3 epochs\n"
     ]
    },
    {
     "name": "stdout",
     "output_type": "stream",
     "text": [
      "[>>>>>>>>>>>>>>>>>>>>>>>>>>>>>] 764/764, 20.0 task/s, elapsed: 38s, ETA:     0s"
     ]
    },
    {
     "name": "stderr",
     "output_type": "stream",
     "text": [
      "2022-10-16 15:36:10,369 - mmdet - INFO - Evaluating bbox...\n"
     ]
    },
    {
     "name": "stdout",
     "output_type": "stream",
     "text": [
      "Loading and preparing results...\n",
      "DONE (t=0.00s)\n",
      "creating index...\n",
      "index created!\n",
      "Running per image evaluation...\n",
      "Evaluate annotation type *bbox*\n"
     ]
    },
    {
     "name": "stderr",
     "output_type": "stream",
     "text": [
      "2022-10-16 15:36:10,684 - mmdet - INFO - \n",
      " Average Precision  (AP) @[ IoU=0.50:0.95 | area=   all | maxDets=100 ] = 0.673\n",
      " Average Precision  (AP) @[ IoU=0.50      | area=   all | maxDets=1000 ] = 0.978\n",
      " Average Precision  (AP) @[ IoU=0.75      | area=   all | maxDets=1000 ] = 0.841\n",
      " Average Precision  (AP) @[ IoU=0.50:0.95 | area= small | maxDets=1000 ] = 0.000\n",
      " Average Precision  (AP) @[ IoU=0.50:0.95 | area=medium | maxDets=1000 ] = 0.451\n",
      " Average Precision  (AP) @[ IoU=0.50:0.95 | area= large | maxDets=1000 ] = 0.684\n",
      " Average Recall     (AR) @[ IoU=0.50:0.95 | area=   all | maxDets=100 ] = 0.729\n",
      " Average Recall     (AR) @[ IoU=0.50:0.95 | area=   all | maxDets=300 ] = 0.729\n",
      " Average Recall     (AR) @[ IoU=0.50:0.95 | area=   all | maxDets=1000 ] = 0.729\n",
      " Average Recall     (AR) @[ IoU=0.50:0.95 | area= small | maxDets=1000 ] = 0.000\n",
      " Average Recall     (AR) @[ IoU=0.50:0.95 | area=medium | maxDets=1000 ] = 0.522\n",
      " Average Recall     (AR) @[ IoU=0.50:0.95 | area= large | maxDets=1000 ] = 0.741\n",
      "\n",
      "2022-10-16 15:36:10,693 - mmdet - INFO - Exp name: retinanet_r50_fpn_2x_acino.py\n",
      "2022-10-16 15:36:10,696 - mmdet - INFO - Epoch(val) [3][764]\tbbox_mAP: 0.6730, bbox_mAP_50: 0.9780, bbox_mAP_75: 0.8410, bbox_mAP_s: 0.0000, bbox_mAP_m: 0.4510, bbox_mAP_l: 0.6840, bbox_mAP_copypaste: 0.673 0.978 0.841 0.000 0.451 0.684\n"
     ]
    },
    {
     "name": "stdout",
     "output_type": "stream",
     "text": [
      "DONE (t=0.23s).\n",
      "Accumulating evaluation results...\n",
      "DONE (t=0.07s).\n"
     ]
    },
    {
     "name": "stderr",
     "output_type": "stream",
     "text": [
      "2022-10-16 15:36:32,740 - mmdet - INFO - Epoch [4][50/1337]\tlr: 5.120e-04, eta: 0:59:34, time: 0.434, data_time: 0.057, memory: 14415, loss_cls: 0.0818, loss_bbox: 0.1925, loss: 0.2742\n",
      "2022-10-16 15:36:52,151 - mmdet - INFO - Epoch [4][100/1337]\tlr: 5.120e-04, eta: 0:59:15, time: 0.388, data_time: 0.010, memory: 14415, loss_cls: 0.0751, loss_bbox: 0.1767, loss: 0.2518\n",
      "2022-10-16 15:37:11,955 - mmdet - INFO - Epoch [4][150/1337]\tlr: 5.120e-04, eta: 0:58:57, time: 0.396, data_time: 0.018, memory: 14415, loss_cls: 0.0736, loss_bbox: 0.1769, loss: 0.2505\n",
      "2022-10-16 15:37:31,422 - mmdet - INFO - Epoch [4][200/1337]\tlr: 5.120e-04, eta: 0:58:39, time: 0.389, data_time: 0.011, memory: 14415, loss_cls: 0.0588, loss_bbox: 0.1641, loss: 0.2228\n",
      "2022-10-16 15:37:51,200 - mmdet - INFO - Epoch [4][250/1337]\tlr: 5.120e-04, eta: 0:58:21, time: 0.396, data_time: 0.017, memory: 14415, loss_cls: 0.0659, loss_bbox: 0.1758, loss: 0.2418\n",
      "2022-10-16 15:38:10,670 - mmdet - INFO - Epoch [4][300/1337]\tlr: 5.120e-04, eta: 0:58:02, time: 0.389, data_time: 0.011, memory: 14415, loss_cls: 0.0613, loss_bbox: 0.1718, loss: 0.2331\n",
      "2022-10-16 15:38:30,388 - mmdet - INFO - Epoch [4][350/1337]\tlr: 5.120e-04, eta: 0:57:44, time: 0.394, data_time: 0.016, memory: 14415, loss_cls: 0.0622, loss_bbox: 0.1813, loss: 0.2435\n",
      "2022-10-16 15:38:49,883 - mmdet - INFO - Epoch [4][400/1337]\tlr: 5.120e-04, eta: 0:57:25, time: 0.390, data_time: 0.011, memory: 14415, loss_cls: 0.0673, loss_bbox: 0.1795, loss: 0.2468\n",
      "2022-10-16 15:39:09,744 - mmdet - INFO - Epoch [4][450/1337]\tlr: 5.120e-04, eta: 0:57:07, time: 0.397, data_time: 0.018, memory: 14415, loss_cls: 0.0641, loss_bbox: 0.1713, loss: 0.2353\n",
      "2022-10-16 15:39:29,253 - mmdet - INFO - Epoch [4][500/1337]\tlr: 5.120e-04, eta: 0:56:49, time: 0.390, data_time: 0.011, memory: 14415, loss_cls: 0.0787, loss_bbox: 0.1831, loss: 0.2617\n",
      "2022-10-16 15:39:49,138 - mmdet - INFO - Epoch [4][550/1337]\tlr: 5.120e-04, eta: 0:56:31, time: 0.398, data_time: 0.019, memory: 14415, loss_cls: 0.0890, loss_bbox: 0.1858, loss: 0.2748\n",
      "2022-10-16 15:40:08,652 - mmdet - INFO - Epoch [4][600/1337]\tlr: 5.120e-04, eta: 0:56:12, time: 0.390, data_time: 0.011, memory: 14415, loss_cls: 0.0641, loss_bbox: 0.1663, loss: 0.2304\n",
      "2022-10-16 15:40:28,363 - mmdet - INFO - Epoch [4][650/1337]\tlr: 5.120e-04, eta: 0:55:53, time: 0.394, data_time: 0.015, memory: 14415, loss_cls: 0.0635, loss_bbox: 0.1829, loss: 0.2463\n",
      "2022-10-16 15:40:47,885 - mmdet - INFO - Epoch [4][700/1337]\tlr: 5.120e-04, eta: 0:55:35, time: 0.390, data_time: 0.011, memory: 14415, loss_cls: 0.0497, loss_bbox: 0.1637, loss: 0.2134\n",
      "2022-10-16 15:41:07,755 - mmdet - INFO - Epoch [4][750/1337]\tlr: 5.120e-04, eta: 0:55:16, time: 0.397, data_time: 0.019, memory: 14415, loss_cls: 0.0652, loss_bbox: 0.1637, loss: 0.2289\n",
      "2022-10-16 15:41:27,255 - mmdet - INFO - Epoch [4][800/1337]\tlr: 5.120e-04, eta: 0:54:58, time: 0.390, data_time: 0.011, memory: 14415, loss_cls: 0.0611, loss_bbox: 0.1793, loss: 0.2404\n",
      "2022-10-16 15:41:47,091 - mmdet - INFO - Epoch [4][850/1337]\tlr: 5.120e-04, eta: 0:54:39, time: 0.397, data_time: 0.018, memory: 14415, loss_cls: 0.0732, loss_bbox: 0.1759, loss: 0.2491\n",
      "2022-10-16 15:42:06,610 - mmdet - INFO - Epoch [4][900/1337]\tlr: 5.120e-04, eta: 0:54:21, time: 0.390, data_time: 0.012, memory: 14415, loss_cls: 0.0623, loss_bbox: 0.1664, loss: 0.2287\n",
      "2022-10-16 15:42:26,449 - mmdet - INFO - Epoch [4][950/1337]\tlr: 5.120e-04, eta: 0:54:02, time: 0.397, data_time: 0.018, memory: 14415, loss_cls: 0.0583, loss_bbox: 0.1706, loss: 0.2289\n",
      "2022-10-16 15:42:45,941 - mmdet - INFO - Epoch [4][1000/1337]\tlr: 5.120e-04, eta: 0:53:43, time: 0.390, data_time: 0.011, memory: 14415, loss_cls: 0.0653, loss_bbox: 0.1681, loss: 0.2335\n",
      "2022-10-16 15:43:05,770 - mmdet - INFO - Epoch [4][1050/1337]\tlr: 5.120e-04, eta: 0:53:25, time: 0.397, data_time: 0.018, memory: 14415, loss_cls: 0.0694, loss_bbox: 0.1737, loss: 0.2431\n",
      "2022-10-16 15:43:25,233 - mmdet - INFO - Epoch [4][1100/1337]\tlr: 5.120e-04, eta: 0:53:06, time: 0.389, data_time: 0.011, memory: 14415, loss_cls: 0.0590, loss_bbox: 0.1667, loss: 0.2256\n",
      "2022-10-16 15:43:44,925 - mmdet - INFO - Epoch [4][1150/1337]\tlr: 5.120e-04, eta: 0:52:47, time: 0.394, data_time: 0.015, memory: 14415, loss_cls: 0.0653, loss_bbox: 0.1757, loss: 0.2410\n",
      "2022-10-16 15:44:04,432 - mmdet - INFO - Epoch [4][1200/1337]\tlr: 5.120e-04, eta: 0:52:28, time: 0.390, data_time: 0.011, memory: 14415, loss_cls: 0.0643, loss_bbox: 0.1762, loss: 0.2405\n",
      "2022-10-16 15:44:24,303 - mmdet - INFO - Epoch [4][1250/1337]\tlr: 5.120e-04, eta: 0:52:10, time: 0.397, data_time: 0.018, memory: 14415, loss_cls: 0.0504, loss_bbox: 0.1675, loss: 0.2179\n",
      "2022-10-16 15:44:43,807 - mmdet - INFO - Epoch [4][1300/1337]\tlr: 5.120e-04, eta: 0:51:51, time: 0.390, data_time: 0.011, memory: 14415, loss_cls: 0.0784, loss_bbox: 0.1921, loss: 0.2705\n",
      "2022-10-16 15:44:58,398 - mmdet - INFO - Saving checkpoint at 4 epochs\n"
     ]
    },
    {
     "name": "stdout",
     "output_type": "stream",
     "text": [
      "[>>>>>>>>>>>>>>>>>>>>>>>>>>>>>] 764/764, 20.0 task/s, elapsed: 38s, ETA:     0s"
     ]
    },
    {
     "name": "stderr",
     "output_type": "stream",
     "text": [
      "2022-10-16 15:45:38,122 - mmdet - INFO - Evaluating bbox...\n"
     ]
    },
    {
     "name": "stdout",
     "output_type": "stream",
     "text": [
      "Loading and preparing results...\n",
      "DONE (t=0.00s)\n",
      "creating index...\n",
      "index created!\n",
      "Running per image evaluation...\n",
      "Evaluate annotation type *bbox*\n",
      "DONE (t=0.19s).\n",
      "Accumulating evaluation results...\n"
     ]
    },
    {
     "name": "stderr",
     "output_type": "stream",
     "text": [
      "2022-10-16 15:45:38,382 - mmdet - INFO - \n",
      " Average Precision  (AP) @[ IoU=0.50:0.95 | area=   all | maxDets=100 ] = 0.714\n",
      " Average Precision  (AP) @[ IoU=0.50      | area=   all | maxDets=1000 ] = 0.979\n",
      " Average Precision  (AP) @[ IoU=0.75      | area=   all | maxDets=1000 ] = 0.898\n",
      " Average Precision  (AP) @[ IoU=0.50:0.95 | area= small | maxDets=1000 ] = 0.000\n",
      " Average Precision  (AP) @[ IoU=0.50:0.95 | area=medium | maxDets=1000 ] = 0.477\n",
      " Average Precision  (AP) @[ IoU=0.50:0.95 | area= large | maxDets=1000 ] = 0.725\n",
      " Average Recall     (AR) @[ IoU=0.50:0.95 | area=   all | maxDets=100 ] = 0.765\n",
      " Average Recall     (AR) @[ IoU=0.50:0.95 | area=   all | maxDets=300 ] = 0.765\n",
      " Average Recall     (AR) @[ IoU=0.50:0.95 | area=   all | maxDets=1000 ] = 0.765\n",
      " Average Recall     (AR) @[ IoU=0.50:0.95 | area= small | maxDets=1000 ] = 0.000\n",
      " Average Recall     (AR) @[ IoU=0.50:0.95 | area=medium | maxDets=1000 ] = 0.578\n",
      " Average Recall     (AR) @[ IoU=0.50:0.95 | area= large | maxDets=1000 ] = 0.776\n",
      "\n",
      "2022-10-16 15:45:38,390 - mmdet - INFO - Exp name: retinanet_r50_fpn_2x_acino.py\n",
      "2022-10-16 15:45:38,392 - mmdet - INFO - Epoch(val) [4][764]\tbbox_mAP: 0.7140, bbox_mAP_50: 0.9790, bbox_mAP_75: 0.8980, bbox_mAP_s: 0.0000, bbox_mAP_m: 0.4770, bbox_mAP_l: 0.7250, bbox_mAP_copypaste: 0.714 0.979 0.898 0.000 0.477 0.725\n"
     ]
    },
    {
     "name": "stdout",
     "output_type": "stream",
     "text": [
      "DONE (t=0.05s).\n"
     ]
    },
    {
     "name": "stderr",
     "output_type": "stream",
     "text": [
      "2022-10-16 15:46:00,592 - mmdet - INFO - Epoch [5][50/1337]\tlr: 4.096e-04, eta: 0:51:00, time: 0.434, data_time: 0.057, memory: 14415, loss_cls: 0.0434, loss_bbox: 0.1523, loss: 0.1957\n",
      "2022-10-16 15:46:20,016 - mmdet - INFO - Epoch [5][100/1337]\tlr: 4.096e-04, eta: 0:50:41, time: 0.388, data_time: 0.011, memory: 14415, loss_cls: 0.0553, loss_bbox: 0.1582, loss: 0.2135\n",
      "2022-10-16 15:46:39,764 - mmdet - INFO - Epoch [5][150/1337]\tlr: 4.096e-04, eta: 0:50:22, time: 0.395, data_time: 0.016, memory: 14415, loss_cls: 0.0626, loss_bbox: 0.1515, loss: 0.2142\n",
      "2022-10-16 15:46:59,280 - mmdet - INFO - Epoch [5][200/1337]\tlr: 4.096e-04, eta: 0:50:04, time: 0.390, data_time: 0.011, memory: 14415, loss_cls: 0.0509, loss_bbox: 0.1624, loss: 0.2133\n",
      "2022-10-16 15:47:19,051 - mmdet - INFO - Epoch [5][250/1337]\tlr: 4.096e-04, eta: 0:49:45, time: 0.395, data_time: 0.016, memory: 14415, loss_cls: 0.0509, loss_bbox: 0.1545, loss: 0.2054\n",
      "2022-10-16 15:47:38,561 - mmdet - INFO - Epoch [5][300/1337]\tlr: 4.096e-04, eta: 0:49:26, time: 0.390, data_time: 0.011, memory: 14415, loss_cls: 0.0535, loss_bbox: 0.1512, loss: 0.2047\n",
      "2022-10-16 15:47:58,489 - mmdet - INFO - Epoch [5][350/1337]\tlr: 4.096e-04, eta: 0:49:08, time: 0.399, data_time: 0.020, memory: 14415, loss_cls: 0.0445, loss_bbox: 0.1528, loss: 0.1972\n",
      "2022-10-16 15:48:17,978 - mmdet - INFO - Epoch [5][400/1337]\tlr: 4.096e-04, eta: 0:48:49, time: 0.390, data_time: 0.011, memory: 14415, loss_cls: 0.0587, loss_bbox: 0.1605, loss: 0.2192\n",
      "2022-10-16 15:48:37,861 - mmdet - INFO - Epoch [5][450/1337]\tlr: 4.096e-04, eta: 0:48:31, time: 0.398, data_time: 0.019, memory: 14415, loss_cls: 0.0534, loss_bbox: 0.1572, loss: 0.2106\n",
      "2022-10-16 15:48:57,364 - mmdet - INFO - Epoch [5][500/1337]\tlr: 4.096e-04, eta: 0:48:12, time: 0.390, data_time: 0.011, memory: 14415, loss_cls: 0.0455, loss_bbox: 0.1534, loss: 0.1989\n",
      "2022-10-16 15:49:17,128 - mmdet - INFO - Epoch [5][550/1337]\tlr: 4.096e-04, eta: 0:47:54, time: 0.395, data_time: 0.016, memory: 14415, loss_cls: 0.0800, loss_bbox: 0.1727, loss: 0.2528\n",
      "2022-10-16 15:49:36,670 - mmdet - INFO - Epoch [5][600/1337]\tlr: 4.096e-04, eta: 0:47:35, time: 0.391, data_time: 0.011, memory: 14415, loss_cls: 0.0518, loss_bbox: 0.1650, loss: 0.2168\n",
      "2022-10-16 15:49:56,494 - mmdet - INFO - Epoch [5][650/1337]\tlr: 4.096e-04, eta: 0:47:16, time: 0.396, data_time: 0.017, memory: 14415, loss_cls: 0.0470, loss_bbox: 0.1601, loss: 0.2071\n",
      "2022-10-16 15:50:16,042 - mmdet - INFO - Epoch [5][700/1337]\tlr: 4.096e-04, eta: 0:46:57, time: 0.391, data_time: 0.012, memory: 14415, loss_cls: 0.0672, loss_bbox: 0.1692, loss: 0.2364\n",
      "2022-10-16 15:50:35,762 - mmdet - INFO - Epoch [5][750/1337]\tlr: 4.096e-04, eta: 0:46:39, time: 0.394, data_time: 0.015, memory: 14415, loss_cls: 0.0516, loss_bbox: 0.1625, loss: 0.2141\n",
      "2022-10-16 15:50:55,256 - mmdet - INFO - Epoch [5][800/1337]\tlr: 4.096e-04, eta: 0:46:20, time: 0.390, data_time: 0.011, memory: 14415, loss_cls: 0.0760, loss_bbox: 0.1662, loss: 0.2423\n",
      "2022-10-16 15:51:15,011 - mmdet - INFO - Epoch [5][850/1337]\tlr: 4.096e-04, eta: 0:46:01, time: 0.395, data_time: 0.016, memory: 14415, loss_cls: 0.0474, loss_bbox: 0.1541, loss: 0.2015\n",
      "2022-10-16 15:51:34,504 - mmdet - INFO - Epoch [5][900/1337]\tlr: 4.096e-04, eta: 0:45:42, time: 0.390, data_time: 0.011, memory: 14415, loss_cls: 0.0581, loss_bbox: 0.1525, loss: 0.2106\n",
      "2022-10-16 15:51:54,402 - mmdet - INFO - Epoch [5][950/1337]\tlr: 4.096e-04, eta: 0:45:24, time: 0.398, data_time: 0.019, memory: 14415, loss_cls: 0.0681, loss_bbox: 0.1560, loss: 0.2241\n",
      "2022-10-16 15:52:13,893 - mmdet - INFO - Epoch [5][1000/1337]\tlr: 4.096e-04, eta: 0:45:05, time: 0.390, data_time: 0.011, memory: 14415, loss_cls: 0.0539, loss_bbox: 0.1563, loss: 0.2102\n",
      "2022-10-16 15:52:33,750 - mmdet - INFO - Epoch [5][1050/1337]\tlr: 4.096e-04, eta: 0:44:46, time: 0.397, data_time: 0.019, memory: 14415, loss_cls: 0.0588, loss_bbox: 0.1619, loss: 0.2207\n",
      "2022-10-16 15:52:53,246 - mmdet - INFO - Epoch [5][1100/1337]\tlr: 4.096e-04, eta: 0:44:27, time: 0.390, data_time: 0.012, memory: 14415, loss_cls: 0.0449, loss_bbox: 0.1481, loss: 0.1930\n",
      "2022-10-16 15:53:13,100 - mmdet - INFO - Epoch [5][1150/1337]\tlr: 4.096e-04, eta: 0:44:08, time: 0.397, data_time: 0.019, memory: 14415, loss_cls: 0.0567, loss_bbox: 0.1566, loss: 0.2133\n",
      "2022-10-16 15:53:32,568 - mmdet - INFO - Epoch [5][1200/1337]\tlr: 4.096e-04, eta: 0:43:49, time: 0.389, data_time: 0.011, memory: 14415, loss_cls: 0.0493, loss_bbox: 0.1551, loss: 0.2045\n",
      "2022-10-16 15:53:52,388 - mmdet - INFO - Epoch [5][1250/1337]\tlr: 4.096e-04, eta: 0:43:30, time: 0.396, data_time: 0.019, memory: 14415, loss_cls: 0.0778, loss_bbox: 0.1660, loss: 0.2438\n",
      "2022-10-16 15:54:11,891 - mmdet - INFO - Epoch [5][1300/1337]\tlr: 4.096e-04, eta: 0:43:11, time: 0.390, data_time: 0.012, memory: 14415, loss_cls: 0.0513, loss_bbox: 0.1621, loss: 0.2134\n",
      "2022-10-16 15:54:26,664 - mmdet - INFO - Saving checkpoint at 5 epochs\n"
     ]
    },
    {
     "name": "stdout",
     "output_type": "stream",
     "text": [
      "[>>>>>>>>>>>>>>>>>>>>>>>>>>>>>] 764/764, 19.9 task/s, elapsed: 38s, ETA:     0s"
     ]
    },
    {
     "name": "stderr",
     "output_type": "stream",
     "text": [
      "2022-10-16 15:55:06,305 - mmdet - INFO - Evaluating bbox...\n"
     ]
    },
    {
     "name": "stdout",
     "output_type": "stream",
     "text": [
      "Loading and preparing results...\n",
      "DONE (t=0.00s)\n",
      "creating index...\n",
      "index created!\n",
      "Running per image evaluation...\n",
      "Evaluate annotation type *bbox*\n",
      "DONE (t=0.18s).\n",
      "Accumulating evaluation results...\n"
     ]
    },
    {
     "name": "stderr",
     "output_type": "stream",
     "text": [
      "2022-10-16 15:55:06,551 - mmdet - INFO - \n",
      " Average Precision  (AP) @[ IoU=0.50:0.95 | area=   all | maxDets=100 ] = 0.729\n",
      " Average Precision  (AP) @[ IoU=0.50      | area=   all | maxDets=1000 ] = 0.978\n",
      " Average Precision  (AP) @[ IoU=0.75      | area=   all | maxDets=1000 ] = 0.888\n",
      " Average Precision  (AP) @[ IoU=0.50:0.95 | area= small | maxDets=1000 ] = 0.000\n",
      " Average Precision  (AP) @[ IoU=0.50:0.95 | area=medium | maxDets=1000 ] = 0.487\n",
      " Average Precision  (AP) @[ IoU=0.50:0.95 | area= large | maxDets=1000 ] = 0.741\n",
      " Average Recall     (AR) @[ IoU=0.50:0.95 | area=   all | maxDets=100 ] = 0.777\n",
      " Average Recall     (AR) @[ IoU=0.50:0.95 | area=   all | maxDets=300 ] = 0.777\n",
      " Average Recall     (AR) @[ IoU=0.50:0.95 | area=   all | maxDets=1000 ] = 0.777\n",
      " Average Recall     (AR) @[ IoU=0.50:0.95 | area= small | maxDets=1000 ] = 0.000\n",
      " Average Recall     (AR) @[ IoU=0.50:0.95 | area=medium | maxDets=1000 ] = 0.572\n",
      " Average Recall     (AR) @[ IoU=0.50:0.95 | area= large | maxDets=1000 ] = 0.790\n",
      "\n",
      "2022-10-16 15:55:06,558 - mmdet - INFO - Exp name: retinanet_r50_fpn_2x_acino.py\n",
      "2022-10-16 15:55:06,560 - mmdet - INFO - Epoch(val) [5][764]\tbbox_mAP: 0.7290, bbox_mAP_50: 0.9780, bbox_mAP_75: 0.8880, bbox_mAP_s: 0.0000, bbox_mAP_m: 0.4870, bbox_mAP_l: 0.7410, bbox_mAP_copypaste: 0.729 0.978 0.888 0.000 0.487 0.741\n"
     ]
    },
    {
     "name": "stdout",
     "output_type": "stream",
     "text": [
      "DONE (t=0.05s).\n"
     ]
    },
    {
     "name": "stderr",
     "output_type": "stream",
     "text": [
      "2022-10-16 15:55:28,763 - mmdet - INFO - Epoch [6][50/1337]\tlr: 3.277e-04, eta: 0:42:26, time: 0.435, data_time: 0.057, memory: 14415, loss_cls: 0.0579, loss_bbox: 0.1560, loss: 0.2139\n",
      "2022-10-16 15:55:48,189 - mmdet - INFO - Epoch [6][100/1337]\tlr: 3.277e-04, eta: 0:42:07, time: 0.389, data_time: 0.010, memory: 14415, loss_cls: 0.0482, loss_bbox: 0.1350, loss: 0.1832\n",
      "2022-10-16 15:56:08,034 - mmdet - INFO - Epoch [6][150/1337]\tlr: 3.277e-04, eta: 0:41:49, time: 0.397, data_time: 0.018, memory: 14415, loss_cls: 0.0426, loss_bbox: 0.1374, loss: 0.1801\n",
      "2022-10-16 15:56:27,605 - mmdet - INFO - Epoch [6][200/1337]\tlr: 3.277e-04, eta: 0:41:30, time: 0.391, data_time: 0.013, memory: 14415, loss_cls: 0.0478, loss_bbox: 0.1511, loss: 0.1988\n",
      "2022-10-16 15:56:47,382 - mmdet - INFO - Epoch [6][250/1337]\tlr: 3.277e-04, eta: 0:41:11, time: 0.396, data_time: 0.018, memory: 14415, loss_cls: 0.0374, loss_bbox: 0.1409, loss: 0.1783\n",
      "2022-10-16 15:57:06,911 - mmdet - INFO - Epoch [6][300/1337]\tlr: 3.277e-04, eta: 0:40:52, time: 0.391, data_time: 0.012, memory: 14415, loss_cls: 0.0513, loss_bbox: 0.1563, loss: 0.2076\n",
      "2022-10-16 15:57:26,743 - mmdet - INFO - Epoch [6][350/1337]\tlr: 3.277e-04, eta: 0:40:34, time: 0.397, data_time: 0.018, memory: 14415, loss_cls: 0.0453, loss_bbox: 0.1432, loss: 0.1885\n",
      "2022-10-16 15:57:46,233 - mmdet - INFO - Epoch [6][400/1337]\tlr: 3.277e-04, eta: 0:40:15, time: 0.390, data_time: 0.011, memory: 14415, loss_cls: 0.0387, loss_bbox: 0.1423, loss: 0.1810\n",
      "2022-10-16 15:58:05,964 - mmdet - INFO - Epoch [6][450/1337]\tlr: 3.277e-04, eta: 0:39:56, time: 0.395, data_time: 0.016, memory: 14415, loss_cls: 0.0396, loss_bbox: 0.1432, loss: 0.1828\n",
      "2022-10-16 15:58:25,472 - mmdet - INFO - Epoch [6][500/1337]\tlr: 3.277e-04, eta: 0:39:37, time: 0.390, data_time: 0.011, memory: 14415, loss_cls: 0.0575, loss_bbox: 0.1402, loss: 0.1977\n",
      "2022-10-16 15:58:45,445 - mmdet - INFO - Epoch [6][550/1337]\tlr: 3.277e-04, eta: 0:39:18, time: 0.399, data_time: 0.021, memory: 14415, loss_cls: 0.0572, loss_bbox: 0.1478, loss: 0.2050\n",
      "2022-10-16 15:59:04,951 - mmdet - INFO - Epoch [6][600/1337]\tlr: 3.277e-04, eta: 0:38:59, time: 0.390, data_time: 0.011, memory: 14415, loss_cls: 0.0533, loss_bbox: 0.1504, loss: 0.2036\n",
      "2022-10-16 15:59:24,893 - mmdet - INFO - Epoch [6][650/1337]\tlr: 3.277e-04, eta: 0:38:41, time: 0.399, data_time: 0.020, memory: 14415, loss_cls: 0.0477, loss_bbox: 0.1416, loss: 0.1893\n",
      "2022-10-16 15:59:44,415 - mmdet - INFO - Epoch [6][700/1337]\tlr: 3.277e-04, eta: 0:38:22, time: 0.390, data_time: 0.011, memory: 14415, loss_cls: 0.0513, loss_bbox: 0.1489, loss: 0.2001\n",
      "2022-10-16 16:00:04,168 - mmdet - INFO - Epoch [6][750/1337]\tlr: 3.277e-04, eta: 0:38:03, time: 0.395, data_time: 0.016, memory: 14415, loss_cls: 0.0580, loss_bbox: 0.1476, loss: 0.2056\n",
      "2022-10-16 16:00:23,726 - mmdet - INFO - Epoch [6][800/1337]\tlr: 3.277e-04, eta: 0:37:44, time: 0.391, data_time: 0.012, memory: 14415, loss_cls: 0.0447, loss_bbox: 0.1531, loss: 0.1978\n",
      "2022-10-16 16:00:43,658 - mmdet - INFO - Epoch [6][850/1337]\tlr: 3.277e-04, eta: 0:37:25, time: 0.399, data_time: 0.019, memory: 14415, loss_cls: 0.0332, loss_bbox: 0.1366, loss: 0.1698\n",
      "2022-10-16 16:01:03,184 - mmdet - INFO - Epoch [6][900/1337]\tlr: 3.277e-04, eta: 0:37:06, time: 0.391, data_time: 0.011, memory: 14415, loss_cls: 0.0456, loss_bbox: 0.1478, loss: 0.1934\n",
      "2022-10-16 16:01:23,042 - mmdet - INFO - Epoch [6][950/1337]\tlr: 3.277e-04, eta: 0:36:47, time: 0.397, data_time: 0.018, memory: 14415, loss_cls: 0.0420, loss_bbox: 0.1383, loss: 0.1803\n",
      "2022-10-16 16:01:42,575 - mmdet - INFO - Epoch [6][1000/1337]\tlr: 3.277e-04, eta: 0:36:28, time: 0.391, data_time: 0.011, memory: 14415, loss_cls: 0.0479, loss_bbox: 0.1486, loss: 0.1965\n",
      "2022-10-16 16:02:02,347 - mmdet - INFO - Epoch [6][1050/1337]\tlr: 3.277e-04, eta: 0:36:10, time: 0.395, data_time: 0.016, memory: 14415, loss_cls: 0.0387, loss_bbox: 0.1417, loss: 0.1804\n",
      "2022-10-16 16:02:21,879 - mmdet - INFO - Epoch [6][1100/1337]\tlr: 3.277e-04, eta: 0:35:50, time: 0.391, data_time: 0.011, memory: 14415, loss_cls: 0.0481, loss_bbox: 0.1478, loss: 0.1959\n",
      "2022-10-16 16:02:41,657 - mmdet - INFO - Epoch [6][1150/1337]\tlr: 3.277e-04, eta: 0:35:32, time: 0.396, data_time: 0.016, memory: 14415, loss_cls: 0.0328, loss_bbox: 0.1379, loss: 0.1707\n",
      "2022-10-16 16:03:01,235 - mmdet - INFO - Epoch [6][1200/1337]\tlr: 3.277e-04, eta: 0:35:13, time: 0.392, data_time: 0.012, memory: 14415, loss_cls: 0.0493, loss_bbox: 0.1568, loss: 0.2061\n",
      "2022-10-16 16:03:21,043 - mmdet - INFO - Epoch [6][1250/1337]\tlr: 3.277e-04, eta: 0:34:54, time: 0.396, data_time: 0.017, memory: 14415, loss_cls: 0.0464, loss_bbox: 0.1486, loss: 0.1949\n",
      "2022-10-16 16:03:40,592 - mmdet - INFO - Epoch [6][1300/1337]\tlr: 3.277e-04, eta: 0:34:35, time: 0.391, data_time: 0.011, memory: 14415, loss_cls: 0.0459, loss_bbox: 0.1434, loss: 0.1893\n",
      "2022-10-16 16:03:55,331 - mmdet - INFO - Saving checkpoint at 6 epochs\n"
     ]
    },
    {
     "name": "stdout",
     "output_type": "stream",
     "text": [
      "[>>>>>>>>>>>>>>>>>>>>>>>>>>>>>] 764/764, 19.9 task/s, elapsed: 38s, ETA:     0s"
     ]
    },
    {
     "name": "stderr",
     "output_type": "stream",
     "text": [
      "2022-10-16 16:04:35,703 - mmdet - INFO - Evaluating bbox...\n"
     ]
    },
    {
     "name": "stdout",
     "output_type": "stream",
     "text": [
      "Loading and preparing results...\n",
      "DONE (t=0.00s)\n",
      "creating index...\n",
      "index created!\n",
      "Running per image evaluation...\n",
      "Evaluate annotation type *bbox*\n",
      "DONE (t=0.20s)."
     ]
    },
    {
     "name": "stderr",
     "output_type": "stream",
     "text": [
      "2022-10-16 16:04:35,973 - mmdet - INFO - \n",
      " Average Precision  (AP) @[ IoU=0.50:0.95 | area=   all | maxDets=100 ] = 0.730\n",
      " Average Precision  (AP) @[ IoU=0.50      | area=   all | maxDets=1000 ] = 0.978\n",
      " Average Precision  (AP) @[ IoU=0.75      | area=   all | maxDets=1000 ] = 0.896\n",
      " Average Precision  (AP) @[ IoU=0.50:0.95 | area= small | maxDets=1000 ] = 0.000\n",
      " Average Precision  (AP) @[ IoU=0.50:0.95 | area=medium | maxDets=1000 ] = 0.495\n",
      " Average Precision  (AP) @[ IoU=0.50:0.95 | area= large | maxDets=1000 ] = 0.743\n",
      " Average Recall     (AR) @[ IoU=0.50:0.95 | area=   all | maxDets=100 ] = 0.781\n",
      " Average Recall     (AR) @[ IoU=0.50:0.95 | area=   all | maxDets=300 ] = 0.781\n",
      " Average Recall     (AR) @[ IoU=0.50:0.95 | area=   all | maxDets=1000 ] = 0.781\n",
      " Average Recall     (AR) @[ IoU=0.50:0.95 | area= small | maxDets=1000 ] = 0.000\n",
      " Average Recall     (AR) @[ IoU=0.50:0.95 | area=medium | maxDets=1000 ] = 0.550\n",
      " Average Recall     (AR) @[ IoU=0.50:0.95 | area= large | maxDets=1000 ] = 0.794\n",
      "\n",
      "2022-10-16 16:04:35,980 - mmdet - INFO - Exp name: retinanet_r50_fpn_2x_acino.py\n",
      "2022-10-16 16:04:35,988 - mmdet - INFO - Epoch(val) [6][764]\tbbox_mAP: 0.7300, bbox_mAP_50: 0.9780, bbox_mAP_75: 0.8960, bbox_mAP_s: 0.0000, bbox_mAP_m: 0.4950, bbox_mAP_l: 0.7430, bbox_mAP_copypaste: 0.730 0.978 0.896 0.000 0.495 0.743\n"
     ]
    },
    {
     "name": "stdout",
     "output_type": "stream",
     "text": [
      "\n",
      "Accumulating evaluation results...\n",
      "DONE (t=0.05s).\n"
     ]
    },
    {
     "name": "stderr",
     "output_type": "stream",
     "text": [
      "2022-10-16 16:04:58,185 - mmdet - INFO - Epoch [7][50/1337]\tlr: 2.621e-04, eta: 0:33:53, time: 0.435, data_time: 0.057, memory: 14415, loss_cls: 0.0472, loss_bbox: 0.1349, loss: 0.1822\n",
      "2022-10-16 16:05:17,671 - mmdet - INFO - Epoch [7][100/1337]\tlr: 2.621e-04, eta: 0:33:34, time: 0.390, data_time: 0.010, memory: 14415, loss_cls: 0.0316, loss_bbox: 0.1276, loss: 0.1592\n",
      "2022-10-16 16:05:37,686 - mmdet - INFO - Epoch [7][150/1337]\tlr: 2.621e-04, eta: 0:33:16, time: 0.400, data_time: 0.021, memory: 14415, loss_cls: 0.0447, loss_bbox: 0.1307, loss: 0.1754\n",
      "2022-10-16 16:05:57,190 - mmdet - INFO - Epoch [7][200/1337]\tlr: 2.621e-04, eta: 0:32:57, time: 0.390, data_time: 0.011, memory: 14415, loss_cls: 0.0304, loss_bbox: 0.1294, loss: 0.1598\n",
      "2022-10-16 16:06:17,011 - mmdet - INFO - Epoch [7][250/1337]\tlr: 2.621e-04, eta: 0:32:38, time: 0.396, data_time: 0.017, memory: 14415, loss_cls: 0.0348, loss_bbox: 0.1322, loss: 0.1670\n",
      "2022-10-16 16:06:36,508 - mmdet - INFO - Epoch [7][300/1337]\tlr: 2.621e-04, eta: 0:32:19, time: 0.390, data_time: 0.011, memory: 14415, loss_cls: 0.0439, loss_bbox: 0.1346, loss: 0.1785\n",
      "2022-10-16 16:06:56,351 - mmdet - INFO - Epoch [7][350/1337]\tlr: 2.621e-04, eta: 0:32:00, time: 0.397, data_time: 0.019, memory: 14415, loss_cls: 0.0371, loss_bbox: 0.1344, loss: 0.1715\n",
      "2022-10-16 16:07:15,853 - mmdet - INFO - Epoch [7][400/1337]\tlr: 2.621e-04, eta: 0:31:41, time: 0.390, data_time: 0.011, memory: 14415, loss_cls: 0.0449, loss_bbox: 0.1339, loss: 0.1789\n",
      "2022-10-16 16:07:35,642 - mmdet - INFO - Epoch [7][450/1337]\tlr: 2.621e-04, eta: 0:31:22, time: 0.396, data_time: 0.017, memory: 14415, loss_cls: 0.0526, loss_bbox: 0.1352, loss: 0.1877\n",
      "2022-10-16 16:07:55,168 - mmdet - INFO - Epoch [7][500/1337]\tlr: 2.621e-04, eta: 0:31:03, time: 0.390, data_time: 0.011, memory: 14415, loss_cls: 0.0414, loss_bbox: 0.1423, loss: 0.1836\n",
      "2022-10-16 16:08:15,079 - mmdet - INFO - Epoch [7][550/1337]\tlr: 2.621e-04, eta: 0:30:44, time: 0.398, data_time: 0.019, memory: 14415, loss_cls: 0.0305, loss_bbox: 0.1368, loss: 0.1672\n",
      "2022-10-16 16:08:34,623 - mmdet - INFO - Epoch [7][600/1337]\tlr: 2.621e-04, eta: 0:30:25, time: 0.391, data_time: 0.011, memory: 14415, loss_cls: 0.0251, loss_bbox: 0.1241, loss: 0.1492\n",
      "2022-10-16 16:08:54,461 - mmdet - INFO - Epoch [7][650/1337]\tlr: 2.621e-04, eta: 0:30:06, time: 0.397, data_time: 0.018, memory: 14415, loss_cls: 0.0454, loss_bbox: 0.1391, loss: 0.1845\n",
      "2022-10-16 16:09:13,988 - mmdet - INFO - Epoch [7][700/1337]\tlr: 2.621e-04, eta: 0:29:47, time: 0.391, data_time: 0.011, memory: 14415, loss_cls: 0.0332, loss_bbox: 0.1311, loss: 0.1643\n",
      "2022-10-16 16:09:34,003 - mmdet - INFO - Epoch [7][750/1337]\tlr: 2.621e-04, eta: 0:29:28, time: 0.400, data_time: 0.021, memory: 14415, loss_cls: 0.0390, loss_bbox: 0.1323, loss: 0.1712\n",
      "2022-10-16 16:09:53,500 - mmdet - INFO - Epoch [7][800/1337]\tlr: 2.621e-04, eta: 0:29:09, time: 0.390, data_time: 0.011, memory: 14415, loss_cls: 0.0516, loss_bbox: 0.1395, loss: 0.1911\n",
      "2022-10-16 16:10:13,424 - mmdet - INFO - Epoch [7][850/1337]\tlr: 2.621e-04, eta: 0:28:50, time: 0.398, data_time: 0.020, memory: 14415, loss_cls: 0.0334, loss_bbox: 0.1291, loss: 0.1625\n",
      "2022-10-16 16:10:32,908 - mmdet - INFO - Epoch [7][900/1337]\tlr: 2.621e-04, eta: 0:28:31, time: 0.390, data_time: 0.011, memory: 14415, loss_cls: 0.0263, loss_bbox: 0.1226, loss: 0.1488\n",
      "2022-10-16 16:10:52,636 - mmdet - INFO - Epoch [7][950/1337]\tlr: 2.621e-04, eta: 0:28:12, time: 0.395, data_time: 0.016, memory: 14415, loss_cls: 0.0498, loss_bbox: 0.1465, loss: 0.1964\n",
      "2022-10-16 16:11:12,146 - mmdet - INFO - Epoch [7][1000/1337]\tlr: 2.621e-04, eta: 0:27:53, time: 0.390, data_time: 0.012, memory: 14415, loss_cls: 0.0416, loss_bbox: 0.1243, loss: 0.1660\n",
      "2022-10-16 16:11:31,954 - mmdet - INFO - Epoch [7][1050/1337]\tlr: 2.621e-04, eta: 0:27:34, time: 0.396, data_time: 0.018, memory: 14415, loss_cls: 0.0354, loss_bbox: 0.1412, loss: 0.1767\n",
      "2022-10-16 16:11:51,477 - mmdet - INFO - Epoch [7][1100/1337]\tlr: 2.621e-04, eta: 0:27:15, time: 0.390, data_time: 0.011, memory: 14415, loss_cls: 0.0395, loss_bbox: 0.1313, loss: 0.1708\n",
      "2022-10-16 16:12:11,219 - mmdet - INFO - Epoch [7][1150/1337]\tlr: 2.621e-04, eta: 0:26:56, time: 0.395, data_time: 0.016, memory: 14415, loss_cls: 0.0456, loss_bbox: 0.1360, loss: 0.1816\n",
      "2022-10-16 16:12:30,827 - mmdet - INFO - Epoch [7][1200/1337]\tlr: 2.621e-04, eta: 0:26:37, time: 0.392, data_time: 0.013, memory: 14415, loss_cls: 0.0471, loss_bbox: 0.1320, loss: 0.1792\n",
      "2022-10-16 16:12:50,680 - mmdet - INFO - Epoch [7][1250/1337]\tlr: 2.621e-04, eta: 0:26:18, time: 0.397, data_time: 0.018, memory: 14415, loss_cls: 0.0357, loss_bbox: 0.1328, loss: 0.1684\n",
      "2022-10-16 16:13:10,229 - mmdet - INFO - Epoch [7][1300/1337]\tlr: 2.621e-04, eta: 0:25:59, time: 0.391, data_time: 0.011, memory: 14415, loss_cls: 0.0448, loss_bbox: 0.1395, loss: 0.1843\n",
      "2022-10-16 16:13:24,940 - mmdet - INFO - Saving checkpoint at 7 epochs\n"
     ]
    },
    {
     "name": "stdout",
     "output_type": "stream",
     "text": [
      "[>>>>>>>>>>>>>>>>>>>>>>>>>>>>>] 764/764, 19.9 task/s, elapsed: 38s, ETA:     0s"
     ]
    },
    {
     "name": "stderr",
     "output_type": "stream",
     "text": [
      "2022-10-16 16:14:04,980 - mmdet - INFO - Evaluating bbox...\n"
     ]
    },
    {
     "name": "stdout",
     "output_type": "stream",
     "text": [
      "Loading and preparing results...\n",
      "DONE (t=0.25s)\n",
      "creating index...\n",
      "index created!\n",
      "Running per image evaluation...\n",
      "Evaluate annotation type *bbox*\n",
      "DONE (t=0.42s).\n",
      "Accumulating evaluation results...\n"
     ]
    },
    {
     "name": "stderr",
     "output_type": "stream",
     "text": [
      "2022-10-16 16:14:05,905 - mmdet - INFO - \n",
      " Average Precision  (AP) @[ IoU=0.50:0.95 | area=   all | maxDets=100 ] = 0.720\n",
      " Average Precision  (AP) @[ IoU=0.50      | area=   all | maxDets=1000 ] = 0.978\n",
      " Average Precision  (AP) @[ IoU=0.75      | area=   all | maxDets=1000 ] = 0.888\n",
      " Average Precision  (AP) @[ IoU=0.50:0.95 | area= small | maxDets=1000 ] = 0.000\n",
      " Average Precision  (AP) @[ IoU=0.50:0.95 | area=medium | maxDets=1000 ] = 0.502\n",
      " Average Precision  (AP) @[ IoU=0.50:0.95 | area= large | maxDets=1000 ] = 0.731\n",
      " Average Recall     (AR) @[ IoU=0.50:0.95 | area=   all | maxDets=100 ] = 0.768\n",
      " Average Recall     (AR) @[ IoU=0.50:0.95 | area=   all | maxDets=300 ] = 0.768\n",
      " Average Recall     (AR) @[ IoU=0.50:0.95 | area=   all | maxDets=1000 ] = 0.768\n",
      " Average Recall     (AR) @[ IoU=0.50:0.95 | area= small | maxDets=1000 ] = 0.000\n",
      " Average Recall     (AR) @[ IoU=0.50:0.95 | area=medium | maxDets=1000 ] = 0.556\n",
      " Average Recall     (AR) @[ IoU=0.50:0.95 | area= large | maxDets=1000 ] = 0.781\n",
      "\n",
      "2022-10-16 16:14:05,926 - mmdet - INFO - Exp name: retinanet_r50_fpn_2x_acino.py\n",
      "2022-10-16 16:14:05,928 - mmdet - INFO - Epoch(val) [7][764]\tbbox_mAP: 0.7200, bbox_mAP_50: 0.9780, bbox_mAP_75: 0.8880, bbox_mAP_s: 0.0000, bbox_mAP_m: 0.5020, bbox_mAP_l: 0.7310, bbox_mAP_copypaste: 0.720 0.978 0.888 0.000 0.502 0.731\n"
     ]
    },
    {
     "name": "stdout",
     "output_type": "stream",
     "text": [
      "DONE (t=0.21s).\n"
     ]
    },
    {
     "name": "stderr",
     "output_type": "stream",
     "text": [
      "2022-10-16 16:14:28,107 - mmdet - INFO - Epoch [8][50/1337]\tlr: 2.097e-04, eta: 0:25:20, time: 0.436, data_time: 0.057, memory: 14415, loss_cls: 0.0313, loss_bbox: 0.1246, loss: 0.1559\n",
      "2022-10-16 16:14:47,570 - mmdet - INFO - Epoch [8][100/1337]\tlr: 2.097e-04, eta: 0:25:01, time: 0.389, data_time: 0.010, memory: 14415, loss_cls: 0.0322, loss_bbox: 0.1205, loss: 0.1527\n",
      "2022-10-16 16:15:07,430 - mmdet - INFO - Epoch [8][150/1337]\tlr: 2.097e-04, eta: 0:24:42, time: 0.397, data_time: 0.018, memory: 14415, loss_cls: 0.0394, loss_bbox: 0.1206, loss: 0.1600\n",
      "2022-10-16 16:15:26,930 - mmdet - INFO - Epoch [8][200/1337]\tlr: 2.097e-04, eta: 0:24:23, time: 0.390, data_time: 0.011, memory: 14415, loss_cls: 0.0376, loss_bbox: 0.1348, loss: 0.1725\n",
      "2022-10-16 16:15:46,755 - mmdet - INFO - Epoch [8][250/1337]\tlr: 2.097e-04, eta: 0:24:04, time: 0.397, data_time: 0.017, memory: 14415, loss_cls: 0.0328, loss_bbox: 0.1198, loss: 0.1525\n",
      "2022-10-16 16:16:06,246 - mmdet - INFO - Epoch [8][300/1337]\tlr: 2.097e-04, eta: 0:23:45, time: 0.390, data_time: 0.011, memory: 14415, loss_cls: 0.0323, loss_bbox: 0.1180, loss: 0.1503\n",
      "2022-10-16 16:16:25,958 - mmdet - INFO - Epoch [8][350/1337]\tlr: 2.097e-04, eta: 0:23:26, time: 0.394, data_time: 0.016, memory: 14415, loss_cls: 0.0461, loss_bbox: 0.1337, loss: 0.1798\n",
      "2022-10-16 16:16:45,454 - mmdet - INFO - Epoch [8][400/1337]\tlr: 2.097e-04, eta: 0:23:07, time: 0.390, data_time: 0.011, memory: 14415, loss_cls: 0.0300, loss_bbox: 0.1151, loss: 0.1451\n",
      "2022-10-16 16:17:05,341 - mmdet - INFO - Epoch [8][450/1337]\tlr: 2.097e-04, eta: 0:22:48, time: 0.398, data_time: 0.019, memory: 14415, loss_cls: 0.0456, loss_bbox: 0.1325, loss: 0.1781\n",
      "2022-10-16 16:17:24,848 - mmdet - INFO - Epoch [8][500/1337]\tlr: 2.097e-04, eta: 0:22:29, time: 0.390, data_time: 0.011, memory: 14415, loss_cls: 0.0271, loss_bbox: 0.1216, loss: 0.1486\n",
      "2022-10-16 16:17:44,707 - mmdet - INFO - Epoch [8][550/1337]\tlr: 2.097e-04, eta: 0:22:10, time: 0.397, data_time: 0.018, memory: 14415, loss_cls: 0.0413, loss_bbox: 0.1393, loss: 0.1806\n",
      "2022-10-16 16:18:04,229 - mmdet - INFO - Epoch [8][600/1337]\tlr: 2.097e-04, eta: 0:21:51, time: 0.390, data_time: 0.011, memory: 14415, loss_cls: 0.0234, loss_bbox: 0.1211, loss: 0.1445\n",
      "2022-10-16 16:18:24,080 - mmdet - INFO - Epoch [8][650/1337]\tlr: 2.097e-04, eta: 0:21:32, time: 0.397, data_time: 0.018, memory: 14415, loss_cls: 0.0371, loss_bbox: 0.1271, loss: 0.1642\n",
      "2022-10-16 16:18:43,595 - mmdet - INFO - Epoch [8][700/1337]\tlr: 2.097e-04, eta: 0:21:13, time: 0.390, data_time: 0.011, memory: 14415, loss_cls: 0.0295, loss_bbox: 0.1301, loss: 0.1596\n",
      "2022-10-16 16:19:03,395 - mmdet - INFO - Epoch [8][750/1337]\tlr: 2.097e-04, eta: 0:20:54, time: 0.396, data_time: 0.017, memory: 14415, loss_cls: 0.0385, loss_bbox: 0.1398, loss: 0.1783\n",
      "2022-10-16 16:19:22,914 - mmdet - INFO - Epoch [8][800/1337]\tlr: 2.097e-04, eta: 0:20:35, time: 0.390, data_time: 0.011, memory: 14415, loss_cls: 0.0487, loss_bbox: 0.1326, loss: 0.1813\n",
      "2022-10-16 16:19:42,707 - mmdet - INFO - Epoch [8][850/1337]\tlr: 2.097e-04, eta: 0:20:15, time: 0.396, data_time: 0.016, memory: 14415, loss_cls: 0.0290, loss_bbox: 0.1246, loss: 0.1536\n",
      "2022-10-16 16:20:02,238 - mmdet - INFO - Epoch [8][900/1337]\tlr: 2.097e-04, eta: 0:19:56, time: 0.391, data_time: 0.011, memory: 14415, loss_cls: 0.0248, loss_bbox: 0.1178, loss: 0.1426\n",
      "2022-10-16 16:20:22,164 - mmdet - INFO - Epoch [8][950/1337]\tlr: 2.097e-04, eta: 0:19:37, time: 0.399, data_time: 0.019, memory: 14415, loss_cls: 0.0387, loss_bbox: 0.1294, loss: 0.1681\n",
      "2022-10-16 16:20:41,709 - mmdet - INFO - Epoch [8][1000/1337]\tlr: 2.097e-04, eta: 0:19:18, time: 0.391, data_time: 0.011, memory: 14415, loss_cls: 0.0334, loss_bbox: 0.1255, loss: 0.1589\n",
      "2022-10-16 16:21:01,552 - mmdet - INFO - Epoch [8][1050/1337]\tlr: 2.097e-04, eta: 0:18:59, time: 0.397, data_time: 0.017, memory: 14415, loss_cls: 0.0347, loss_bbox: 0.1185, loss: 0.1532\n",
      "2022-10-16 16:21:21,075 - mmdet - INFO - Epoch [8][1100/1337]\tlr: 2.097e-04, eta: 0:18:40, time: 0.390, data_time: 0.011, memory: 14415, loss_cls: 0.0309, loss_bbox: 0.1203, loss: 0.1512\n",
      "2022-10-16 16:21:40,973 - mmdet - INFO - Epoch [8][1150/1337]\tlr: 2.097e-04, eta: 0:18:21, time: 0.398, data_time: 0.019, memory: 14415, loss_cls: 0.0341, loss_bbox: 0.1253, loss: 0.1593\n",
      "2022-10-16 16:22:00,490 - mmdet - INFO - Epoch [8][1200/1337]\tlr: 2.097e-04, eta: 0:18:02, time: 0.390, data_time: 0.011, memory: 14415, loss_cls: 0.0389, loss_bbox: 0.1293, loss: 0.1682\n",
      "2022-10-16 16:22:20,231 - mmdet - INFO - Epoch [8][1250/1337]\tlr: 2.097e-04, eta: 0:17:43, time: 0.395, data_time: 0.016, memory: 14415, loss_cls: 0.0403, loss_bbox: 0.1242, loss: 0.1645\n",
      "2022-10-16 16:22:39,732 - mmdet - INFO - Epoch [8][1300/1337]\tlr: 2.097e-04, eta: 0:17:23, time: 0.390, data_time: 0.011, memory: 14415, loss_cls: 0.0327, loss_bbox: 0.1227, loss: 0.1554\n",
      "2022-10-16 16:22:54,466 - mmdet - INFO - Saving checkpoint at 8 epochs\n"
     ]
    },
    {
     "name": "stdout",
     "output_type": "stream",
     "text": [
      "[>>>>>>>>>>>>>>>>>>>>>>>>>>>>>] 764/764, 19.9 task/s, elapsed: 38s, ETA:     0s"
     ]
    },
    {
     "name": "stderr",
     "output_type": "stream",
     "text": [
      "2022-10-16 16:23:34,787 - mmdet - INFO - Evaluating bbox...\n"
     ]
    },
    {
     "name": "stdout",
     "output_type": "stream",
     "text": [
      "Loading and preparing results...\n",
      "DONE (t=0.01s)\n",
      "creating index...\n",
      "index created!\n",
      "Running per image evaluation...\n",
      "Evaluate annotation type *bbox*\n"
     ]
    },
    {
     "name": "stderr",
     "output_type": "stream",
     "text": [
      "2022-10-16 16:23:35,224 - mmdet - INFO - \n",
      " Average Precision  (AP) @[ IoU=0.50:0.95 | area=   all | maxDets=100 ] = 0.740\n",
      " Average Precision  (AP) @[ IoU=0.50      | area=   all | maxDets=1000 ] = 0.978\n",
      " Average Precision  (AP) @[ IoU=0.75      | area=   all | maxDets=1000 ] = 0.909\n",
      " Average Precision  (AP) @[ IoU=0.50:0.95 | area= small | maxDets=1000 ] = 0.000\n",
      " Average Precision  (AP) @[ IoU=0.50:0.95 | area=medium | maxDets=1000 ] = 0.508\n",
      " Average Precision  (AP) @[ IoU=0.50:0.95 | area= large | maxDets=1000 ] = 0.751\n",
      " Average Recall     (AR) @[ IoU=0.50:0.95 | area=   all | maxDets=100 ] = 0.793\n",
      " Average Recall     (AR) @[ IoU=0.50:0.95 | area=   all | maxDets=300 ] = 0.793\n",
      " Average Recall     (AR) @[ IoU=0.50:0.95 | area=   all | maxDets=1000 ] = 0.793\n",
      " Average Recall     (AR) @[ IoU=0.50:0.95 | area= small | maxDets=1000 ] = 0.000\n",
      " Average Recall     (AR) @[ IoU=0.50:0.95 | area=medium | maxDets=1000 ] = 0.572\n",
      " Average Recall     (AR) @[ IoU=0.50:0.95 | area= large | maxDets=1000 ] = 0.806\n",
      "\n",
      "2022-10-16 16:23:35,235 - mmdet - INFO - Exp name: retinanet_r50_fpn_2x_acino.py\n",
      "2022-10-16 16:23:35,242 - mmdet - INFO - Epoch(val) [8][764]\tbbox_mAP: 0.7400, bbox_mAP_50: 0.9780, bbox_mAP_75: 0.9090, bbox_mAP_s: 0.0000, bbox_mAP_m: 0.5080, bbox_mAP_l: 0.7510, bbox_mAP_copypaste: 0.740 0.978 0.909 0.000 0.508 0.751\n"
     ]
    },
    {
     "name": "stdout",
     "output_type": "stream",
     "text": [
      "DONE (t=0.29s).\n",
      "Accumulating evaluation results...\n",
      "DONE (t=0.12s).\n"
     ]
    },
    {
     "name": "stderr",
     "output_type": "stream",
     "text": [
      "2022-10-16 16:23:57,321 - mmdet - INFO - Epoch [9][50/1337]\tlr: 1.678e-04, eta: 0:16:47, time: 0.435, data_time: 0.057, memory: 14415, loss_cls: 0.0308, loss_bbox: 0.1099, loss: 0.1407\n",
      "2022-10-16 16:24:16,794 - mmdet - INFO - Epoch [9][100/1337]\tlr: 1.678e-04, eta: 0:16:28, time: 0.389, data_time: 0.010, memory: 14415, loss_cls: 0.0256, loss_bbox: 0.1072, loss: 0.1328\n",
      "2022-10-16 16:24:36,586 - mmdet - INFO - Epoch [9][150/1337]\tlr: 1.678e-04, eta: 0:16:09, time: 0.396, data_time: 0.016, memory: 14415, loss_cls: 0.0367, loss_bbox: 0.1198, loss: 0.1564\n",
      "2022-10-16 16:24:56,130 - mmdet - INFO - Epoch [9][200/1337]\tlr: 1.678e-04, eta: 0:15:50, time: 0.391, data_time: 0.011, memory: 14415, loss_cls: 0.0222, loss_bbox: 0.1142, loss: 0.1364\n",
      "2022-10-16 16:25:16,033 - mmdet - INFO - Epoch [9][250/1337]\tlr: 1.678e-04, eta: 0:15:31, time: 0.398, data_time: 0.018, memory: 14415, loss_cls: 0.0266, loss_bbox: 0.1072, loss: 0.1337\n",
      "2022-10-16 16:25:35,620 - mmdet - INFO - Epoch [9][300/1337]\tlr: 1.678e-04, eta: 0:15:11, time: 0.392, data_time: 0.012, memory: 14415, loss_cls: 0.0352, loss_bbox: 0.1138, loss: 0.1490\n",
      "2022-10-16 16:25:55,522 - mmdet - INFO - Epoch [9][350/1337]\tlr: 1.678e-04, eta: 0:14:52, time: 0.398, data_time: 0.019, memory: 14415, loss_cls: 0.0389, loss_bbox: 0.1363, loss: 0.1752\n",
      "2022-10-16 16:26:15,046 - mmdet - INFO - Epoch [9][400/1337]\tlr: 1.678e-04, eta: 0:14:33, time: 0.390, data_time: 0.011, memory: 14415, loss_cls: 0.0347, loss_bbox: 0.1197, loss: 0.1544\n",
      "2022-10-16 16:26:34,870 - mmdet - INFO - Epoch [9][450/1337]\tlr: 1.678e-04, eta: 0:14:14, time: 0.396, data_time: 0.018, memory: 14415, loss_cls: 0.0264, loss_bbox: 0.1107, loss: 0.1371\n",
      "2022-10-16 16:26:54,364 - mmdet - INFO - Epoch [9][500/1337]\tlr: 1.678e-04, eta: 0:13:55, time: 0.390, data_time: 0.011, memory: 14415, loss_cls: 0.0399, loss_bbox: 0.1238, loss: 0.1637\n",
      "2022-10-16 16:27:14,225 - mmdet - INFO - Epoch [9][550/1337]\tlr: 1.678e-04, eta: 0:13:36, time: 0.397, data_time: 0.018, memory: 14415, loss_cls: 0.0246, loss_bbox: 0.1058, loss: 0.1304\n",
      "2022-10-16 16:27:33,716 - mmdet - INFO - Epoch [9][600/1337]\tlr: 1.678e-04, eta: 0:13:17, time: 0.390, data_time: 0.011, memory: 14415, loss_cls: 0.0259, loss_bbox: 0.1107, loss: 0.1365\n",
      "2022-10-16 16:27:53,516 - mmdet - INFO - Epoch [9][650/1337]\tlr: 1.678e-04, eta: 0:12:58, time: 0.396, data_time: 0.017, memory: 14415, loss_cls: 0.0526, loss_bbox: 0.1310, loss: 0.1836\n",
      "2022-10-16 16:28:13,041 - mmdet - INFO - Epoch [9][700/1337]\tlr: 1.678e-04, eta: 0:12:38, time: 0.391, data_time: 0.011, memory: 14415, loss_cls: 0.0293, loss_bbox: 0.1199, loss: 0.1492\n",
      "2022-10-16 16:28:32,776 - mmdet - INFO - Epoch [9][750/1337]\tlr: 1.678e-04, eta: 0:12:19, time: 0.395, data_time: 0.016, memory: 14415, loss_cls: 0.0324, loss_bbox: 0.1177, loss: 0.1501\n",
      "2022-10-16 16:28:52,306 - mmdet - INFO - Epoch [9][800/1337]\tlr: 1.678e-04, eta: 0:12:00, time: 0.391, data_time: 0.012, memory: 14415, loss_cls: 0.0455, loss_bbox: 0.1202, loss: 0.1657\n",
      "2022-10-16 16:29:12,194 - mmdet - INFO - Epoch [9][850/1337]\tlr: 1.678e-04, eta: 0:11:41, time: 0.398, data_time: 0.019, memory: 14415, loss_cls: 0.0319, loss_bbox: 0.1291, loss: 0.1610\n",
      "2022-10-16 16:29:31,716 - mmdet - INFO - Epoch [9][900/1337]\tlr: 1.678e-04, eta: 0:11:22, time: 0.390, data_time: 0.011, memory: 14415, loss_cls: 0.0271, loss_bbox: 0.1119, loss: 0.1390\n",
      "2022-10-16 16:29:51,639 - mmdet - INFO - Epoch [9][950/1337]\tlr: 1.678e-04, eta: 0:11:03, time: 0.398, data_time: 0.019, memory: 14415, loss_cls: 0.0290, loss_bbox: 0.1120, loss: 0.1410\n",
      "2022-10-16 16:30:11,152 - mmdet - INFO - Epoch [9][1000/1337]\tlr: 1.678e-04, eta: 0:10:44, time: 0.390, data_time: 0.011, memory: 14415, loss_cls: 0.0396, loss_bbox: 0.1243, loss: 0.1639\n",
      "2022-10-16 16:30:30,963 - mmdet - INFO - Epoch [9][1050/1337]\tlr: 1.678e-04, eta: 0:10:24, time: 0.396, data_time: 0.017, memory: 14415, loss_cls: 0.0231, loss_bbox: 0.1170, loss: 0.1401\n",
      "2022-10-16 16:30:50,449 - mmdet - INFO - Epoch [9][1100/1337]\tlr: 1.678e-04, eta: 0:10:05, time: 0.390, data_time: 0.011, memory: 14415, loss_cls: 0.0249, loss_bbox: 0.1124, loss: 0.1373\n",
      "2022-10-16 16:31:10,219 - mmdet - INFO - Epoch [9][1150/1337]\tlr: 1.678e-04, eta: 0:09:46, time: 0.395, data_time: 0.017, memory: 14415, loss_cls: 0.0238, loss_bbox: 0.1109, loss: 0.1347\n",
      "2022-10-16 16:31:29,724 - mmdet - INFO - Epoch [9][1200/1337]\tlr: 1.678e-04, eta: 0:09:27, time: 0.390, data_time: 0.011, memory: 14415, loss_cls: 0.0281, loss_bbox: 0.1153, loss: 0.1434\n",
      "2022-10-16 16:31:49,598 - mmdet - INFO - Epoch [9][1250/1337]\tlr: 1.678e-04, eta: 0:09:08, time: 0.397, data_time: 0.019, memory: 14415, loss_cls: 0.0261, loss_bbox: 0.1155, loss: 0.1416\n",
      "2022-10-16 16:32:09,072 - mmdet - INFO - Epoch [9][1300/1337]\tlr: 1.678e-04, eta: 0:08:48, time: 0.389, data_time: 0.011, memory: 14415, loss_cls: 0.0330, loss_bbox: 0.1195, loss: 0.1525\n",
      "2022-10-16 16:32:23,841 - mmdet - INFO - Saving checkpoint at 9 epochs\n"
     ]
    },
    {
     "name": "stdout",
     "output_type": "stream",
     "text": [
      "[>>>>>>>>>>>>>>>>>>>>>>>>>>>>>] 764/764, 19.8 task/s, elapsed: 39s, ETA:     0s"
     ]
    },
    {
     "name": "stderr",
     "output_type": "stream",
     "text": [
      "2022-10-16 16:33:03,822 - mmdet - INFO - Evaluating bbox...\n"
     ]
    },
    {
     "name": "stdout",
     "output_type": "stream",
     "text": [
      "Loading and preparing results...\n",
      "DONE (t=0.00s)\n",
      "creating index...\n",
      "index created!\n",
      "Running per image evaluation...\n",
      "Evaluate annotation type *bbox*\n"
     ]
    },
    {
     "name": "stderr",
     "output_type": "stream",
     "text": [
      "2022-10-16 16:33:04,190 - mmdet - INFO - \n",
      " Average Precision  (AP) @[ IoU=0.50:0.95 | area=   all | maxDets=100 ] = 0.748\n",
      " Average Precision  (AP) @[ IoU=0.50      | area=   all | maxDets=1000 ] = 0.978\n",
      " Average Precision  (AP) @[ IoU=0.75      | area=   all | maxDets=1000 ] = 0.909\n",
      " Average Precision  (AP) @[ IoU=0.50:0.95 | area= small | maxDets=1000 ] = 0.000\n",
      " Average Precision  (AP) @[ IoU=0.50:0.95 | area=medium | maxDets=1000 ] = 0.513\n",
      " Average Precision  (AP) @[ IoU=0.50:0.95 | area= large | maxDets=1000 ] = 0.761\n",
      " Average Recall     (AR) @[ IoU=0.50:0.95 | area=   all | maxDets=100 ] = 0.800\n",
      " Average Recall     (AR) @[ IoU=0.50:0.95 | area=   all | maxDets=300 ] = 0.800\n",
      " Average Recall     (AR) @[ IoU=0.50:0.95 | area=   all | maxDets=1000 ] = 0.800\n",
      " Average Recall     (AR) @[ IoU=0.50:0.95 | area= small | maxDets=1000 ] = 0.000\n",
      " Average Recall     (AR) @[ IoU=0.50:0.95 | area=medium | maxDets=1000 ] = 0.556\n",
      " Average Recall     (AR) @[ IoU=0.50:0.95 | area= large | maxDets=1000 ] = 0.813\n",
      "\n",
      "2022-10-16 16:33:04,200 - mmdet - INFO - Exp name: retinanet_r50_fpn_2x_acino.py\n",
      "2022-10-16 16:33:04,204 - mmdet - INFO - Epoch(val) [9][764]\tbbox_mAP: 0.7480, bbox_mAP_50: 0.9780, bbox_mAP_75: 0.9090, bbox_mAP_s: 0.0000, bbox_mAP_m: 0.5130, bbox_mAP_l: 0.7610, bbox_mAP_copypaste: 0.748 0.978 0.909 0.000 0.513 0.761\n"
     ]
    },
    {
     "name": "stdout",
     "output_type": "stream",
     "text": [
      "DONE (t=0.26s).\n",
      "Accumulating evaluation results...\n",
      "DONE (t=0.09s).\n"
     ]
    },
    {
     "name": "stderr",
     "output_type": "stream",
     "text": [
      "2022-10-16 16:33:26,401 - mmdet - INFO - Epoch [10][50/1337]\tlr: 1.342e-04, eta: 0:08:14, time: 0.434, data_time: 0.057, memory: 14415, loss_cls: 0.0183, loss_bbox: 0.1034, loss: 0.1217\n",
      "2022-10-16 16:33:45,861 - mmdet - INFO - Epoch [10][100/1337]\tlr: 1.342e-04, eta: 0:07:54, time: 0.389, data_time: 0.010, memory: 14415, loss_cls: 0.0364, loss_bbox: 0.1210, loss: 0.1574\n",
      "2022-10-16 16:34:05,736 - mmdet - INFO - Epoch [10][150/1337]\tlr: 1.342e-04, eta: 0:07:35, time: 0.397, data_time: 0.018, memory: 14415, loss_cls: 0.0325, loss_bbox: 0.1179, loss: 0.1504\n",
      "2022-10-16 16:34:25,272 - mmdet - INFO - Epoch [10][200/1337]\tlr: 1.342e-04, eta: 0:07:16, time: 0.391, data_time: 0.011, memory: 14415, loss_cls: 0.0317, loss_bbox: 0.1086, loss: 0.1402\n",
      "2022-10-16 16:34:45,095 - mmdet - INFO - Epoch [10][250/1337]\tlr: 1.342e-04, eta: 0:06:57, time: 0.396, data_time: 0.017, memory: 14415, loss_cls: 0.0429, loss_bbox: 0.1217, loss: 0.1646\n",
      "2022-10-16 16:35:04,630 - mmdet - INFO - Epoch [10][300/1337]\tlr: 1.342e-04, eta: 0:06:38, time: 0.391, data_time: 0.011, memory: 14415, loss_cls: 0.0287, loss_bbox: 0.1146, loss: 0.1433\n",
      "2022-10-16 16:35:24,371 - mmdet - INFO - Epoch [10][350/1337]\tlr: 1.342e-04, eta: 0:06:19, time: 0.395, data_time: 0.015, memory: 14415, loss_cls: 0.0224, loss_bbox: 0.1051, loss: 0.1275\n",
      "2022-10-16 16:35:43,905 - mmdet - INFO - Epoch [10][400/1337]\tlr: 1.342e-04, eta: 0:06:00, time: 0.391, data_time: 0.011, memory: 14415, loss_cls: 0.0329, loss_bbox: 0.1119, loss: 0.1449\n",
      "2022-10-16 16:36:03,703 - mmdet - INFO - Epoch [10][450/1337]\tlr: 1.342e-04, eta: 0:05:40, time: 0.396, data_time: 0.016, memory: 14415, loss_cls: 0.0212, loss_bbox: 0.1048, loss: 0.1260\n",
      "2022-10-16 16:36:23,273 - mmdet - INFO - Epoch [10][500/1337]\tlr: 1.342e-04, eta: 0:05:21, time: 0.391, data_time: 0.011, memory: 14415, loss_cls: 0.0280, loss_bbox: 0.1050, loss: 0.1331\n",
      "2022-10-16 16:36:43,228 - mmdet - INFO - Epoch [10][550/1337]\tlr: 1.342e-04, eta: 0:05:02, time: 0.399, data_time: 0.019, memory: 14415, loss_cls: 0.0348, loss_bbox: 0.1131, loss: 0.1479\n",
      "2022-10-16 16:37:02,776 - mmdet - INFO - Epoch [10][600/1337]\tlr: 1.342e-04, eta: 0:04:43, time: 0.391, data_time: 0.011, memory: 14415, loss_cls: 0.0303, loss_bbox: 0.1149, loss: 0.1452\n",
      "2022-10-16 16:37:22,578 - mmdet - INFO - Epoch [10][650/1337]\tlr: 1.342e-04, eta: 0:04:24, time: 0.396, data_time: 0.017, memory: 14415, loss_cls: 0.0189, loss_bbox: 0.1066, loss: 0.1255\n",
      "2022-10-16 16:37:42,152 - mmdet - INFO - Epoch [10][700/1337]\tlr: 1.342e-04, eta: 0:04:04, time: 0.391, data_time: 0.011, memory: 14415, loss_cls: 0.0421, loss_bbox: 0.1220, loss: 0.1641\n",
      "2022-10-16 16:38:01,959 - mmdet - INFO - Epoch [10][750/1337]\tlr: 1.342e-04, eta: 0:03:45, time: 0.396, data_time: 0.016, memory: 14415, loss_cls: 0.0209, loss_bbox: 0.1026, loss: 0.1235\n",
      "2022-10-16 16:38:21,536 - mmdet - INFO - Epoch [10][800/1337]\tlr: 1.342e-04, eta: 0:03:26, time: 0.392, data_time: 0.011, memory: 14415, loss_cls: 0.0253, loss_bbox: 0.1062, loss: 0.1315\n",
      "2022-10-16 16:38:41,352 - mmdet - INFO - Epoch [10][850/1337]\tlr: 1.342e-04, eta: 0:03:07, time: 0.396, data_time: 0.016, memory: 14415, loss_cls: 0.0259, loss_bbox: 0.1038, loss: 0.1297\n",
      "2022-10-16 16:39:00,913 - mmdet - INFO - Epoch [10][900/1337]\tlr: 1.342e-04, eta: 0:02:48, time: 0.391, data_time: 0.011, memory: 14415, loss_cls: 0.0269, loss_bbox: 0.1070, loss: 0.1340\n",
      "2022-10-16 16:39:20,732 - mmdet - INFO - Epoch [10][950/1337]\tlr: 1.342e-04, eta: 0:02:28, time: 0.396, data_time: 0.016, memory: 14415, loss_cls: 0.0306, loss_bbox: 0.1157, loss: 0.1463\n",
      "2022-10-16 16:39:40,318 - mmdet - INFO - Epoch [10][1000/1337]\tlr: 1.342e-04, eta: 0:02:09, time: 0.392, data_time: 0.012, memory: 14415, loss_cls: 0.0255, loss_bbox: 0.1049, loss: 0.1304\n",
      "2022-10-16 16:40:00,203 - mmdet - INFO - Epoch [10][1050/1337]\tlr: 1.342e-04, eta: 0:01:50, time: 0.398, data_time: 0.018, memory: 14415, loss_cls: 0.0441, loss_bbox: 0.1274, loss: 0.1714\n",
      "2022-10-16 16:40:19,792 - mmdet - INFO - Epoch [10][1100/1337]\tlr: 1.342e-04, eta: 0:01:31, time: 0.392, data_time: 0.011, memory: 14415, loss_cls: 0.0393, loss_bbox: 0.1252, loss: 0.1646\n",
      "2022-10-16 16:40:39,709 - mmdet - INFO - Epoch [10][1150/1337]\tlr: 1.342e-04, eta: 0:01:11, time: 0.398, data_time: 0.018, memory: 14415, loss_cls: 0.0256, loss_bbox: 0.1113, loss: 0.1369\n",
      "2022-10-16 16:40:59,284 - mmdet - INFO - Epoch [10][1200/1337]\tlr: 1.342e-04, eta: 0:00:52, time: 0.391, data_time: 0.011, memory: 14415, loss_cls: 0.0254, loss_bbox: 0.1138, loss: 0.1392\n",
      "2022-10-16 16:41:19,113 - mmdet - INFO - Epoch [10][1250/1337]\tlr: 1.342e-04, eta: 0:00:33, time: 0.397, data_time: 0.016, memory: 14415, loss_cls: 0.0253, loss_bbox: 0.1135, loss: 0.1388\n",
      "2022-10-16 16:41:38,690 - mmdet - INFO - Epoch [10][1300/1337]\tlr: 1.342e-04, eta: 0:00:14, time: 0.392, data_time: 0.011, memory: 14415, loss_cls: 0.0543, loss_bbox: 0.1239, loss: 0.1782\n",
      "2022-10-16 16:41:53,461 - mmdet - INFO - Saving checkpoint at 10 epochs\n"
     ]
    },
    {
     "name": "stdout",
     "output_type": "stream",
     "text": [
      "[>>>>>>>>>>>>>>>>>>>>>>>>>>>>>] 764/764, 19.8 task/s, elapsed: 39s, ETA:     0s"
     ]
    },
    {
     "name": "stderr",
     "output_type": "stream",
     "text": [
      "2022-10-16 16:42:33,520 - mmdet - INFO - Evaluating bbox...\n"
     ]
    },
    {
     "name": "stdout",
     "output_type": "stream",
     "text": [
      "Loading and preparing results...\n",
      "DONE (t=0.00s)\n",
      "creating index...\n",
      "index created!\n",
      "Running per image evaluation...\n",
      "Evaluate annotation type *bbox*\n"
     ]
    },
    {
     "name": "stderr",
     "output_type": "stream",
     "text": [
      "2022-10-16 16:42:33,897 - mmdet - INFO - \n",
      " Average Precision  (AP) @[ IoU=0.50:0.95 | area=   all | maxDets=100 ] = 0.736\n",
      " Average Precision  (AP) @[ IoU=0.50      | area=   all | maxDets=1000 ] = 0.978\n",
      " Average Precision  (AP) @[ IoU=0.75      | area=   all | maxDets=1000 ] = 0.894\n",
      " Average Precision  (AP) @[ IoU=0.50:0.95 | area= small | maxDets=1000 ] = 0.000\n",
      " Average Precision  (AP) @[ IoU=0.50:0.95 | area=medium | maxDets=1000 ] = 0.520\n",
      " Average Precision  (AP) @[ IoU=0.50:0.95 | area= large | maxDets=1000 ] = 0.748\n",
      " Average Recall     (AR) @[ IoU=0.50:0.95 | area=   all | maxDets=100 ] = 0.790\n",
      " Average Recall     (AR) @[ IoU=0.50:0.95 | area=   all | maxDets=300 ] = 0.790\n",
      " Average Recall     (AR) @[ IoU=0.50:0.95 | area=   all | maxDets=1000 ] = 0.790\n",
      " Average Recall     (AR) @[ IoU=0.50:0.95 | area= small | maxDets=1000 ] = 0.000\n",
      " Average Recall     (AR) @[ IoU=0.50:0.95 | area=medium | maxDets=1000 ] = 0.589\n",
      " Average Recall     (AR) @[ IoU=0.50:0.95 | area= large | maxDets=1000 ] = 0.803\n",
      "\n",
      "2022-10-16 16:42:33,906 - mmdet - INFO - Exp name: retinanet_r50_fpn_2x_acino.py\n",
      "2022-10-16 16:42:33,908 - mmdet - INFO - Epoch(val) [10][764]\tbbox_mAP: 0.7360, bbox_mAP_50: 0.9780, bbox_mAP_75: 0.8940, bbox_mAP_s: 0.0000, bbox_mAP_m: 0.5200, bbox_mAP_l: 0.7480, bbox_mAP_copypaste: 0.736 0.978 0.894 0.000 0.520 0.748\n"
     ]
    },
    {
     "name": "stdout",
     "output_type": "stream",
     "text": [
      "DONE (t=0.26s).\n",
      "Accumulating evaluation results...\n",
      "DONE (t=0.09s).\n"
     ]
    }
   ],
   "source": [
    "train_from_config('configs/retinanet/retinanet_r50_fpn_2x_acino.py',eps=10)"
   ]
  },
  {
   "cell_type": "code",
   "execution_count": 41,
   "id": "d8af6194-d7ec-47c5-870e-ec8fcd4a5513",
   "metadata": {
    "collapsed": true,
    "jupyter": {
     "outputs_hidden": true
    },
    "tags": []
   },
   "outputs": [
    {
     "name": "stderr",
     "output_type": "stream",
     "text": [
      "2022-10-16 16:42:36,625 - mmdet - INFO - Environment info:\n",
      "------------------------------------------------------------\n",
      "sys.platform: linux\n",
      "Python: 3.9.13 (main, May 23 2022, 22:01:06) [GCC 9.4.0]\n",
      "CUDA available: True\n",
      "GPU 0: NVIDIA RTX A4000\n",
      "CUDA_HOME: /usr/local/cuda\n",
      "NVCC: Cuda compilation tools, release 11.2, V11.2.152\n",
      "GCC: x86_64-linux-gnu-gcc (Ubuntu 9.4.0-1ubuntu1~20.04.1) 9.4.0\n",
      "PyTorch: 1.12.0+cu116\n",
      "PyTorch compiling details: PyTorch built with:\n",
      "  - GCC 9.3\n",
      "  - C++ Version: 201402\n",
      "  - Intel(R) Math Kernel Library Version 2020.0.0 Product Build 20191122 for Intel(R) 64 architecture applications\n",
      "  - Intel(R) MKL-DNN v2.6.0 (Git Hash 52b5f107dd9cf10910aaa19cb47f3abf9b349815)\n",
      "  - OpenMP 201511 (a.k.a. OpenMP 4.5)\n",
      "  - LAPACK is enabled (usually provided by MKL)\n",
      "  - NNPACK is enabled\n",
      "  - CPU capability usage: AVX2\n",
      "  - CUDA Runtime 11.6\n",
      "  - NVCC architecture flags: -gencode;arch=compute_37,code=sm_37;-gencode;arch=compute_50,code=sm_50;-gencode;arch=compute_60,code=sm_60;-gencode;arch=compute_70,code=sm_70;-gencode;arch=compute_75,code=sm_75;-gencode;arch=compute_80,code=sm_80;-gencode;arch=compute_86,code=sm_86\n",
      "  - CuDNN 8.3.2  (built against CUDA 11.5)\n",
      "  - Magma 2.6.1\n",
      "  - Build settings: BLAS_INFO=mkl, BUILD_TYPE=Release, CUDA_VERSION=11.6, CUDNN_VERSION=8.3.2, CXX_COMPILER=/opt/rh/devtoolset-9/root/usr/bin/c++, CXX_FLAGS= -Wno-deprecated -fvisibility-inlines-hidden -DUSE_PTHREADPOOL -fopenmp -DNDEBUG -DUSE_KINETO -DUSE_FBGEMM -DUSE_QNNPACK -DUSE_PYTORCH_QNNPACK -DUSE_XNNPACK -DSYMBOLICATE_MOBILE_DEBUG_HANDLE -DEDGE_PROFILER_USE_KINETO -O2 -fPIC -Wno-narrowing -Wall -Wextra -Werror=return-type -Wno-missing-field-initializers -Wno-type-limits -Wno-array-bounds -Wno-unknown-pragmas -Wno-unused-parameter -Wno-unused-function -Wno-unused-result -Wno-unused-local-typedefs -Wno-strict-overflow -Wno-strict-aliasing -Wno-error=deprecated-declarations -Wno-stringop-overflow -Wno-psabi -Wno-error=pedantic -Wno-error=redundant-decls -Wno-error=old-style-cast -fdiagnostics-color=always -faligned-new -Wno-unused-but-set-variable -Wno-maybe-uninitialized -fno-math-errno -fno-trapping-math -Werror=format -Werror=cast-function-type -Wno-stringop-overflow, LAPACK_INFO=mkl, PERF_WITH_AVX=1, PERF_WITH_AVX2=1, PERF_WITH_AVX512=1, TORCH_VERSION=1.12.0, USE_CUDA=ON, USE_CUDNN=ON, USE_EXCEPTION_PTR=1, USE_GFLAGS=OFF, USE_GLOG=OFF, USE_MKL=ON, USE_MKLDNN=OFF, USE_MPI=OFF, USE_NCCL=ON, USE_NNPACK=ON, USE_OPENMP=ON, USE_ROCM=OFF, \n",
      "\n",
      "TorchVision: 0.13.0+cu116\n",
      "OpenCV: 4.6.0\n",
      "MMCV: 1.6.2\n",
      "MMCV Compiler: GCC 9.3\n",
      "MMCV CUDA Compiler: 11.6\n",
      "MMDetection: 2.25.2+7e891f0\n",
      "------------------------------------------------------------\n",
      "\n",
      "2022-10-16 16:42:36,628 - mmdet - INFO - Distributed training: False\n",
      "2022-10-16 16:42:36,630 - mmdet - INFO - Set random seed to 0, deterministic: True\n",
      "2022-10-16 16:42:36,912 - mmdet - INFO - initialize ResNet with init_cfg {'type': 'Pretrained', 'checkpoint': 'torchvision://resnet50'}\n",
      "2022-10-16 16:42:36,921 - mmcv - INFO - load model from: torchvision://resnet50\n",
      "2022-10-16 16:42:36,921 - mmcv - INFO - load checkpoint from torchvision path: torchvision://resnet50\n",
      "2022-10-16 16:42:37,098 - mmcv - WARNING - The model and loaded state dict do not match exactly\n",
      "\n",
      "unexpected key in source state_dict: fc.weight, fc.bias\n",
      "\n",
      "2022-10-16 16:42:37,244 - mmdet - INFO - initialize FPN with init_cfg {'type': 'Xavier', 'layer': 'Conv2d', 'distribution': 'uniform'}\n",
      "2022-10-16 16:42:37,285 - mmdet - INFO - initialize RPNHead with init_cfg {'type': 'Normal', 'layer': 'Conv2d', 'std': 0.01}\n",
      "2022-10-16 16:42:37,291 - mmdet - INFO - initialize Shared2FCBBoxHead with init_cfg [{'type': 'Normal', 'std': 0.01, 'override': {'name': 'fc_cls'}}, {'type': 'Normal', 'std': 0.001, 'override': {'name': 'fc_reg'}}, {'type': 'Xavier', 'distribution': 'uniform', 'override': [{'name': 'shared_fcs'}, {'name': 'cls_fcs'}, {'name': 'reg_fcs'}]}]\n",
      "2022-10-16 16:42:37,471 - mmdet - INFO - Automatic scaling of learning rate (LR) has been disabled.\n",
      "2022-10-16 16:42:37,486 - mmdet - INFO - Start running, host: root@nm0rzu2hit, work_dir: /notebooks/work_dirs/faster_rcnn_r50_fpn_2x_acino\n",
      "2022-10-16 16:42:37,488 - mmdet - INFO - Hooks will be executed in the following order:\n",
      "before_run:\n",
      "(VERY_HIGH   ) ExpLrUpdaterHook                   \n",
      "(NORMAL      ) CheckpointHook                     \n",
      "(LOW         ) EvalHook                           \n",
      "(VERY_LOW    ) TextLoggerHook                     \n",
      " -------------------- \n",
      "before_train_epoch:\n",
      "(VERY_HIGH   ) ExpLrUpdaterHook                   \n",
      "(NORMAL      ) NumClassCheckHook                  \n",
      "(LOW         ) IterTimerHook                      \n",
      "(LOW         ) EvalHook                           \n",
      "(VERY_LOW    ) TextLoggerHook                     \n",
      " -------------------- \n",
      "before_train_iter:\n",
      "(VERY_HIGH   ) ExpLrUpdaterHook                   \n",
      "(LOW         ) IterTimerHook                      \n",
      "(LOW         ) EvalHook                           \n",
      " -------------------- \n",
      "after_train_iter:\n",
      "(ABOVE_NORMAL) OptimizerHook                      \n",
      "(NORMAL      ) CheckpointHook                     \n",
      "(LOW         ) IterTimerHook                      \n",
      "(LOW         ) EvalHook                           \n",
      "(VERY_LOW    ) TextLoggerHook                     \n",
      " -------------------- \n",
      "after_train_epoch:\n",
      "(NORMAL      ) CheckpointHook                     \n",
      "(LOW         ) EvalHook                           \n",
      "(VERY_LOW    ) TextLoggerHook                     \n",
      " -------------------- \n",
      "before_val_epoch:\n",
      "(NORMAL      ) NumClassCheckHook                  \n",
      "(LOW         ) IterTimerHook                      \n",
      "(VERY_LOW    ) TextLoggerHook                     \n",
      " -------------------- \n",
      "before_val_iter:\n",
      "(LOW         ) IterTimerHook                      \n",
      " -------------------- \n",
      "after_val_iter:\n",
      "(LOW         ) IterTimerHook                      \n",
      " -------------------- \n",
      "after_val_epoch:\n",
      "(VERY_LOW    ) TextLoggerHook                     \n",
      " -------------------- \n",
      "after_run:\n",
      "(VERY_LOW    ) TextLoggerHook                     \n",
      " -------------------- \n",
      "2022-10-16 16:42:37,490 - mmdet - INFO - workflow: [('train', 1)], max: 10 epochs\n",
      "2022-10-16 16:42:37,492 - mmdet - INFO - Checkpoints will be saved to /notebooks/work_dirs/faster_rcnn_r50_fpn_2x_acino by HardDiskBackend.\n"
     ]
    },
    {
     "name": "stdout",
     "output_type": "stream",
     "text": [
      "loading annotations into memory...\n",
      "Done (t=0.05s)\n",
      "creating index...\n",
      "index created!\n",
      "loading annotations into memory...\n",
      "Done (t=0.01s)\n",
      "creating index...\n",
      "index created!\n"
     ]
    },
    {
     "name": "stderr",
     "output_type": "stream",
     "text": [
      "2022-10-16 16:43:02,966 - mmdet - INFO - Epoch [1][50/1337]\tlr: 9.890e-05, eta: 1:52:38, time: 0.507, data_time: 0.058, memory: 14415, loss_rpn_cls: 0.6780, loss_rpn_bbox: 0.0088, loss_cls: 0.2721, acc: 89.8486, loss_bbox: 0.0151, loss: 0.9740\n",
      "2022-10-16 16:43:26,335 - mmdet - INFO - Epoch [1][100/1337]\tlr: 1.988e-04, eta: 1:47:47, time: 0.467, data_time: 0.011, memory: 14415, loss_rpn_cls: 0.4202, loss_rpn_bbox: 0.0106, loss_cls: 0.0444, acc: 99.6309, loss_bbox: 0.0086, loss: 0.4838\n",
      "2022-10-16 16:43:50,477 - mmdet - INFO - Epoch [1][150/1337]\tlr: 2.987e-04, eta: 1:47:03, time: 0.483, data_time: 0.018, memory: 14415, loss_rpn_cls: 0.0430, loss_rpn_bbox: 0.0098, loss_cls: 0.0682, acc: 98.9463, loss_bbox: 0.0367, loss: 0.1578\n",
      "2022-10-16 16:44:14,018 - mmdet - INFO - Epoch [1][200/1337]\tlr: 3.986e-04, eta: 1:45:49, time: 0.471, data_time: 0.011, memory: 14415, loss_rpn_cls: 0.0291, loss_rpn_bbox: 0.0092, loss_cls: 0.0681, acc: 98.2598, loss_bbox: 0.0668, loss: 0.1732\n",
      "2022-10-16 16:44:37,786 - mmdet - INFO - Epoch [1][250/1337]\tlr: 4.985e-04, eta: 1:45:07, time: 0.475, data_time: 0.019, memory: 14415, loss_rpn_cls: 0.0197, loss_rpn_bbox: 0.0078, loss_cls: 0.0661, acc: 98.0576, loss_bbox: 0.0764, loss: 0.1701\n",
      "2022-10-16 16:45:01,413 - mmdet - INFO - Epoch [1][300/1337]\tlr: 5.984e-04, eta: 1:44:25, time: 0.473, data_time: 0.011, memory: 14415, loss_rpn_cls: 0.0182, loss_rpn_bbox: 0.0083, loss_cls: 0.0603, acc: 98.1162, loss_bbox: 0.0769, loss: 0.1637\n",
      "2022-10-16 16:45:25,885 - mmdet - INFO - Epoch [1][350/1337]\tlr: 6.983e-04, eta: 1:44:20, time: 0.489, data_time: 0.019, memory: 14415, loss_rpn_cls: 0.0150, loss_rpn_bbox: 0.0078, loss_cls: 0.0537, acc: 98.0908, loss_bbox: 0.0745, loss: 0.1510\n",
      "2022-10-16 16:45:49,697 - mmdet - INFO - Epoch [1][400/1337]\tlr: 7.982e-04, eta: 1:43:48, time: 0.476, data_time: 0.012, memory: 14415, loss_rpn_cls: 0.0141, loss_rpn_bbox: 0.0073, loss_cls: 0.0497, acc: 98.2676, loss_bbox: 0.0735, loss: 0.1445\n",
      "2022-10-16 16:46:13,790 - mmdet - INFO - Epoch [1][450/1337]\tlr: 8.981e-04, eta: 1:43:26, time: 0.482, data_time: 0.020, memory: 14415, loss_rpn_cls: 0.0097, loss_rpn_bbox: 0.0066, loss_cls: 0.0494, acc: 98.1133, loss_bbox: 0.0782, loss: 0.1439\n",
      "2022-10-16 16:46:37,257 - mmdet - INFO - Epoch [1][500/1337]\tlr: 9.980e-04, eta: 1:42:48, time: 0.469, data_time: 0.012, memory: 14415, loss_rpn_cls: 0.0129, loss_rpn_bbox: 0.0074, loss_cls: 0.0565, acc: 97.9336, loss_bbox: 0.0828, loss: 0.1597\n",
      "2022-10-16 16:47:00,818 - mmdet - INFO - Epoch [1][550/1337]\tlr: 1.000e-03, eta: 1:42:15, time: 0.471, data_time: 0.014, memory: 14415, loss_rpn_cls: 0.0086, loss_rpn_bbox: 0.0066, loss_cls: 0.0495, acc: 98.0449, loss_bbox: 0.0832, loss: 0.1479\n",
      "2022-10-16 16:47:24,355 - mmdet - INFO - Epoch [1][600/1337]\tlr: 1.000e-03, eta: 1:41:43, time: 0.471, data_time: 0.011, memory: 14415, loss_rpn_cls: 0.0071, loss_rpn_bbox: 0.0067, loss_cls: 0.0486, acc: 98.1240, loss_bbox: 0.0800, loss: 0.1425\n",
      "2022-10-16 16:47:48,055 - mmdet - INFO - Epoch [1][650/1337]\tlr: 1.000e-03, eta: 1:41:15, time: 0.474, data_time: 0.018, memory: 14415, loss_rpn_cls: 0.0066, loss_rpn_bbox: 0.0070, loss_cls: 0.0453, acc: 98.1201, loss_bbox: 0.0810, loss: 0.1399\n",
      "2022-10-16 16:48:11,336 - mmdet - INFO - Epoch [1][700/1337]\tlr: 1.000e-03, eta: 1:40:40, time: 0.466, data_time: 0.011, memory: 14415, loss_rpn_cls: 0.0063, loss_rpn_bbox: 0.0068, loss_cls: 0.0442, acc: 98.2734, loss_bbox: 0.0765, loss: 0.1338\n",
      "2022-10-16 16:48:34,763 - mmdet - INFO - Epoch [1][750/1337]\tlr: 1.000e-03, eta: 1:40:09, time: 0.469, data_time: 0.020, memory: 14415, loss_rpn_cls: 0.0065, loss_rpn_bbox: 0.0063, loss_cls: 0.0443, acc: 98.3193, loss_bbox: 0.0715, loss: 0.1286\n",
      "2022-10-16 16:48:57,862 - mmdet - INFO - Epoch [1][800/1337]\tlr: 1.000e-03, eta: 1:39:34, time: 0.462, data_time: 0.012, memory: 14415, loss_rpn_cls: 0.0062, loss_rpn_bbox: 0.0067, loss_cls: 0.0435, acc: 98.3223, loss_bbox: 0.0702, loss: 0.1266\n",
      "2022-10-16 16:49:21,320 - mmdet - INFO - Epoch [1][850/1337]\tlr: 1.000e-03, eta: 1:39:06, time: 0.469, data_time: 0.019, memory: 14415, loss_rpn_cls: 0.0051, loss_rpn_bbox: 0.0058, loss_cls: 0.0419, acc: 98.3828, loss_bbox: 0.0757, loss: 0.1284\n",
      "2022-10-16 16:49:44,250 - mmdet - INFO - Epoch [1][900/1337]\tlr: 1.000e-03, eta: 1:38:31, time: 0.459, data_time: 0.012, memory: 14415, loss_rpn_cls: 0.0049, loss_rpn_bbox: 0.0063, loss_cls: 0.0418, acc: 98.3525, loss_bbox: 0.0699, loss: 0.1228\n",
      "2022-10-16 16:50:07,600 - mmdet - INFO - Epoch [1][950/1337]\tlr: 1.000e-03, eta: 1:38:03, time: 0.467, data_time: 0.019, memory: 14415, loss_rpn_cls: 0.0043, loss_rpn_bbox: 0.0062, loss_cls: 0.0428, acc: 98.3174, loss_bbox: 0.0712, loss: 0.1244\n",
      "2022-10-16 16:50:30,445 - mmdet - INFO - Exp name: faster_rcnn_r50_fpn_2x_acino.py\n",
      "2022-10-16 16:50:30,448 - mmdet - INFO - Epoch [1][1000/1337]\tlr: 1.000e-03, eta: 1:37:29, time: 0.457, data_time: 0.011, memory: 14415, loss_rpn_cls: 0.0043, loss_rpn_bbox: 0.0060, loss_cls: 0.0432, acc: 98.3066, loss_bbox: 0.0761, loss: 0.1295\n",
      "2022-10-16 16:50:54,062 - mmdet - INFO - Epoch [1][1050/1337]\tlr: 1.000e-03, eta: 1:37:05, time: 0.472, data_time: 0.020, memory: 14415, loss_rpn_cls: 0.0036, loss_rpn_bbox: 0.0052, loss_cls: 0.0398, acc: 98.4414, loss_bbox: 0.0757, loss: 0.1244\n",
      "2022-10-16 16:51:17,098 - mmdet - INFO - Epoch [1][1100/1337]\tlr: 1.000e-03, eta: 1:36:34, time: 0.461, data_time: 0.012, memory: 14415, loss_rpn_cls: 0.0033, loss_rpn_bbox: 0.0047, loss_cls: 0.0384, acc: 98.5117, loss_bbox: 0.0735, loss: 0.1200\n",
      "2022-10-16 16:51:40,660 - mmdet - INFO - Epoch [1][1150/1337]\tlr: 1.000e-03, eta: 1:36:10, time: 0.471, data_time: 0.017, memory: 14415, loss_rpn_cls: 0.0042, loss_rpn_bbox: 0.0054, loss_cls: 0.0384, acc: 98.4844, loss_bbox: 0.0665, loss: 0.1145\n",
      "2022-10-16 16:52:03,607 - mmdet - INFO - Epoch [1][1200/1337]\tlr: 1.000e-03, eta: 1:35:40, time: 0.459, data_time: 0.011, memory: 14415, loss_rpn_cls: 0.0041, loss_rpn_bbox: 0.0058, loss_cls: 0.0402, acc: 98.4287, loss_bbox: 0.0734, loss: 0.1235\n",
      "2022-10-16 16:52:26,893 - mmdet - INFO - Epoch [1][1250/1337]\tlr: 1.000e-03, eta: 1:35:13, time: 0.466, data_time: 0.016, memory: 14415, loss_rpn_cls: 0.0038, loss_rpn_bbox: 0.0057, loss_cls: 0.0387, acc: 98.4346, loss_bbox: 0.0749, loss: 0.1230\n",
      "2022-10-16 16:52:50,055 - mmdet - INFO - Epoch [1][1300/1337]\tlr: 1.000e-03, eta: 1:34:46, time: 0.463, data_time: 0.012, memory: 14415, loss_rpn_cls: 0.0038, loss_rpn_bbox: 0.0052, loss_cls: 0.0425, acc: 98.3418, loss_bbox: 0.0737, loss: 0.1252\n",
      "2022-10-16 16:53:07,338 - mmdet - INFO - Saving checkpoint at 1 epochs\n"
     ]
    },
    {
     "name": "stdout",
     "output_type": "stream",
     "text": [
      "[>>>>>>>>>>>>>>>>>>>>>>>>>>>>>] 764/764, 18.6 task/s, elapsed: 41s, ETA:     0s"
     ]
    },
    {
     "name": "stderr",
     "output_type": "stream",
     "text": [
      "2022-10-16 16:53:50,192 - mmdet - INFO - Evaluating bbox...\n"
     ]
    },
    {
     "name": "stdout",
     "output_type": "stream",
     "text": [
      "Loading and preparing results...\n",
      "DONE (t=0.00s)\n",
      "creating index...\n",
      "index created!\n",
      "Running per image evaluation...\n",
      "Evaluate annotation type *bbox*\n",
      "DONE (t=0.19s).\n",
      "Accumulating evaluation results...\n"
     ]
    },
    {
     "name": "stderr",
     "output_type": "stream",
     "text": [
      "2022-10-16 16:53:50,443 - mmdet - INFO - \n",
      " Average Precision  (AP) @[ IoU=0.50:0.95 | area=   all | maxDets=100 ] = 0.540\n",
      " Average Precision  (AP) @[ IoU=0.50      | area=   all | maxDets=1000 ] = 0.968\n",
      " Average Precision  (AP) @[ IoU=0.75      | area=   all | maxDets=1000 ] = 0.537\n",
      " Average Precision  (AP) @[ IoU=0.50:0.95 | area= small | maxDets=1000 ] = 0.000\n",
      " Average Precision  (AP) @[ IoU=0.50:0.95 | area=medium | maxDets=1000 ] = 0.233\n",
      " Average Precision  (AP) @[ IoU=0.50:0.95 | area= large | maxDets=1000 ] = 0.553\n",
      " Average Recall     (AR) @[ IoU=0.50:0.95 | area=   all | maxDets=100 ] = 0.607\n",
      " Average Recall     (AR) @[ IoU=0.50:0.95 | area=   all | maxDets=300 ] = 0.607\n",
      " Average Recall     (AR) @[ IoU=0.50:0.95 | area=   all | maxDets=1000 ] = 0.607\n",
      " Average Recall     (AR) @[ IoU=0.50:0.95 | area= small | maxDets=1000 ] = 0.000\n",
      " Average Recall     (AR) @[ IoU=0.50:0.95 | area=medium | maxDets=1000 ] = 0.278\n",
      " Average Recall     (AR) @[ IoU=0.50:0.95 | area= large | maxDets=1000 ] = 0.621\n",
      "\n",
      "2022-10-16 16:53:50,450 - mmdet - INFO - Exp name: faster_rcnn_r50_fpn_2x_acino.py\n",
      "2022-10-16 16:53:50,452 - mmdet - INFO - Epoch(val) [1][764]\tbbox_mAP: 0.5400, bbox_mAP_50: 0.9680, bbox_mAP_75: 0.5370, bbox_mAP_s: 0.0000, bbox_mAP_m: 0.2330, bbox_mAP_l: 0.5530, bbox_mAP_copypaste: 0.540 0.968 0.537 0.000 0.233 0.553\n"
     ]
    },
    {
     "name": "stdout",
     "output_type": "stream",
     "text": [
      "DONE (t=0.05s).\n"
     ]
    },
    {
     "name": "stderr",
     "output_type": "stream",
     "text": [
      "2022-10-16 16:54:16,299 - mmdet - INFO - Epoch [2][50/1337]\tlr: 8.000e-04, eta: 1:31:50, time: 0.509, data_time: 0.057, memory: 14415, loss_rpn_cls: 0.0042, loss_rpn_bbox: 0.0055, loss_cls: 0.0390, acc: 98.4639, loss_bbox: 0.0706, loss: 0.1193\n",
      "2022-10-16 16:54:39,328 - mmdet - INFO - Epoch [2][100/1337]\tlr: 8.000e-04, eta: 1:31:28, time: 0.461, data_time: 0.011, memory: 14415, loss_rpn_cls: 0.0029, loss_rpn_bbox: 0.0052, loss_cls: 0.0377, acc: 98.4766, loss_bbox: 0.0710, loss: 0.1168\n",
      "2022-10-16 16:55:02,472 - mmdet - INFO - Epoch [2][150/1337]\tlr: 8.000e-04, eta: 1:31:06, time: 0.463, data_time: 0.011, memory: 14415, loss_rpn_cls: 0.0030, loss_rpn_bbox: 0.0047, loss_cls: 0.0393, acc: 98.4004, loss_bbox: 0.0727, loss: 0.1197\n",
      "2022-10-16 16:55:25,773 - mmdet - INFO - Epoch [2][200/1337]\tlr: 8.000e-04, eta: 1:30:45, time: 0.466, data_time: 0.012, memory: 14415, loss_rpn_cls: 0.0028, loss_rpn_bbox: 0.0046, loss_cls: 0.0359, acc: 98.5283, loss_bbox: 0.0706, loss: 0.1139\n",
      "2022-10-16 16:55:49,042 - mmdet - INFO - Epoch [2][250/1337]\tlr: 8.000e-04, eta: 1:30:24, time: 0.465, data_time: 0.018, memory: 14415, loss_rpn_cls: 0.0044, loss_rpn_bbox: 0.0051, loss_cls: 0.0392, acc: 98.4551, loss_bbox: 0.0732, loss: 0.1219\n",
      "2022-10-16 16:56:12,206 - mmdet - INFO - Epoch [2][300/1337]\tlr: 8.000e-04, eta: 1:30:02, time: 0.463, data_time: 0.012, memory: 14415, loss_rpn_cls: 0.0028, loss_rpn_bbox: 0.0049, loss_cls: 0.0364, acc: 98.4932, loss_bbox: 0.0708, loss: 0.1148\n",
      "2022-10-16 16:56:35,594 - mmdet - INFO - Epoch [2][350/1337]\tlr: 8.000e-04, eta: 1:29:42, time: 0.468, data_time: 0.018, memory: 14415, loss_rpn_cls: 0.0027, loss_rpn_bbox: 0.0048, loss_cls: 0.0339, acc: 98.6211, loss_bbox: 0.0660, loss: 0.1075\n",
      "2022-10-16 16:56:58,865 - mmdet - INFO - Epoch [2][400/1337]\tlr: 8.000e-04, eta: 1:29:20, time: 0.465, data_time: 0.012, memory: 14415, loss_rpn_cls: 0.0038, loss_rpn_bbox: 0.0051, loss_cls: 0.0373, acc: 98.5049, loss_bbox: 0.0711, loss: 0.1172\n",
      "2022-10-16 16:57:22,130 - mmdet - INFO - Epoch [2][450/1337]\tlr: 8.000e-04, eta: 1:28:59, time: 0.465, data_time: 0.019, memory: 14415, loss_rpn_cls: 0.0025, loss_rpn_bbox: 0.0045, loss_cls: 0.0347, acc: 98.6572, loss_bbox: 0.0679, loss: 0.1097\n",
      "2022-10-16 16:57:45,107 - mmdet - INFO - Epoch [2][500/1337]\tlr: 8.000e-04, eta: 1:28:35, time: 0.460, data_time: 0.012, memory: 14415, loss_rpn_cls: 0.0028, loss_rpn_bbox: 0.0049, loss_cls: 0.0331, acc: 98.6357, loss_bbox: 0.0668, loss: 0.1076\n",
      "2022-10-16 16:58:08,390 - mmdet - INFO - Epoch [2][550/1337]\tlr: 8.000e-04, eta: 1:28:13, time: 0.466, data_time: 0.018, memory: 14415, loss_rpn_cls: 0.0031, loss_rpn_bbox: 0.0042, loss_cls: 0.0333, acc: 98.6689, loss_bbox: 0.0672, loss: 0.1079\n",
      "2022-10-16 16:58:31,512 - mmdet - INFO - Epoch [2][600/1337]\tlr: 8.000e-04, eta: 1:27:51, time: 0.462, data_time: 0.012, memory: 14415, loss_rpn_cls: 0.0030, loss_rpn_bbox: 0.0044, loss_cls: 0.0355, acc: 98.5645, loss_bbox: 0.0731, loss: 0.1160\n",
      "2022-10-16 16:58:54,765 - mmdet - INFO - Epoch [2][650/1337]\tlr: 8.000e-04, eta: 1:27:29, time: 0.465, data_time: 0.016, memory: 14415, loss_rpn_cls: 0.0036, loss_rpn_bbox: 0.0048, loss_cls: 0.0338, acc: 98.6416, loss_bbox: 0.0693, loss: 0.1115\n",
      "2022-10-16 16:59:17,603 - mmdet - INFO - Epoch [2][700/1337]\tlr: 8.000e-04, eta: 1:27:05, time: 0.457, data_time: 0.011, memory: 14415, loss_rpn_cls: 0.0022, loss_rpn_bbox: 0.0049, loss_cls: 0.0320, acc: 98.6709, loss_bbox: 0.0669, loss: 0.1060\n",
      "2022-10-16 16:59:41,161 - mmdet - INFO - Epoch [2][750/1337]\tlr: 8.000e-04, eta: 1:26:44, time: 0.471, data_time: 0.020, memory: 14415, loss_rpn_cls: 0.0029, loss_rpn_bbox: 0.0046, loss_cls: 0.0338, acc: 98.7578, loss_bbox: 0.0654, loss: 0.1066\n",
      "2022-10-16 17:00:04,306 - mmdet - INFO - Epoch [2][800/1337]\tlr: 8.000e-04, eta: 1:26:22, time: 0.463, data_time: 0.012, memory: 14415, loss_rpn_cls: 0.0024, loss_rpn_bbox: 0.0043, loss_cls: 0.0323, acc: 98.6777, loss_bbox: 0.0648, loss: 0.1038\n",
      "2022-10-16 17:00:27,767 - mmdet - INFO - Epoch [2][850/1337]\tlr: 8.000e-04, eta: 1:26:01, time: 0.469, data_time: 0.021, memory: 14415, loss_rpn_cls: 0.0027, loss_rpn_bbox: 0.0043, loss_cls: 0.0335, acc: 98.6670, loss_bbox: 0.0663, loss: 0.1068\n",
      "2022-10-16 17:00:50,810 - mmdet - INFO - Epoch [2][900/1337]\tlr: 8.000e-04, eta: 1:25:37, time: 0.461, data_time: 0.013, memory: 14415, loss_rpn_cls: 0.0034, loss_rpn_bbox: 0.0042, loss_cls: 0.0327, acc: 98.6914, loss_bbox: 0.0635, loss: 0.1037\n",
      "2022-10-16 17:01:14,164 - mmdet - INFO - Epoch [2][950/1337]\tlr: 8.000e-04, eta: 1:25:16, time: 0.467, data_time: 0.020, memory: 14415, loss_rpn_cls: 0.0030, loss_rpn_bbox: 0.0047, loss_cls: 0.0338, acc: 98.6367, loss_bbox: 0.0700, loss: 0.1116\n",
      "2022-10-16 17:01:37,361 - mmdet - INFO - Epoch [2][1000/1337]\tlr: 8.000e-04, eta: 1:24:53, time: 0.464, data_time: 0.012, memory: 14415, loss_rpn_cls: 0.0029, loss_rpn_bbox: 0.0047, loss_cls: 0.0365, acc: 98.5674, loss_bbox: 0.0676, loss: 0.1118\n",
      "2022-10-16 17:02:01,002 - mmdet - INFO - Epoch [2][1050/1337]\tlr: 8.000e-04, eta: 1:24:33, time: 0.473, data_time: 0.021, memory: 14415, loss_rpn_cls: 0.0024, loss_rpn_bbox: 0.0043, loss_cls: 0.0346, acc: 98.5654, loss_bbox: 0.0672, loss: 0.1085\n",
      "2022-10-16 17:02:24,355 - mmdet - INFO - Epoch [2][1100/1337]\tlr: 8.000e-04, eta: 1:24:11, time: 0.467, data_time: 0.012, memory: 14415, loss_rpn_cls: 0.0023, loss_rpn_bbox: 0.0045, loss_cls: 0.0331, acc: 98.6660, loss_bbox: 0.0692, loss: 0.1090\n",
      "2022-10-16 17:02:48,099 - mmdet - INFO - Epoch [2][1150/1337]\tlr: 8.000e-04, eta: 1:23:50, time: 0.475, data_time: 0.021, memory: 14415, loss_rpn_cls: 0.0019, loss_rpn_bbox: 0.0047, loss_cls: 0.0329, acc: 98.7148, loss_bbox: 0.0684, loss: 0.1079\n",
      "2022-10-16 17:03:11,213 - mmdet - INFO - Epoch [2][1200/1337]\tlr: 8.000e-04, eta: 1:23:27, time: 0.462, data_time: 0.011, memory: 14415, loss_rpn_cls: 0.0018, loss_rpn_bbox: 0.0044, loss_cls: 0.0326, acc: 98.7295, loss_bbox: 0.0669, loss: 0.1057\n",
      "2022-10-16 17:03:34,454 - mmdet - INFO - Epoch [2][1250/1337]\tlr: 8.000e-04, eta: 1:23:05, time: 0.465, data_time: 0.017, memory: 14415, loss_rpn_cls: 0.0023, loss_rpn_bbox: 0.0038, loss_cls: 0.0316, acc: 98.7344, loss_bbox: 0.0614, loss: 0.0992\n",
      "2022-10-16 17:03:57,432 - mmdet - INFO - Epoch [2][1300/1337]\tlr: 8.000e-04, eta: 1:22:41, time: 0.460, data_time: 0.012, memory: 14415, loss_rpn_cls: 0.0020, loss_rpn_bbox: 0.0044, loss_cls: 0.0310, acc: 98.7041, loss_bbox: 0.0656, loss: 0.1030\n",
      "2022-10-16 17:04:14,652 - mmdet - INFO - Saving checkpoint at 2 epochs\n"
     ]
    },
    {
     "name": "stdout",
     "output_type": "stream",
     "text": [
      "[>>>>>>>>>>>>>>>>>>>>>>>>>>>>>] 764/764, 18.6 task/s, elapsed: 41s, ETA:     0s"
     ]
    },
    {
     "name": "stderr",
     "output_type": "stream",
     "text": [
      "2022-10-16 17:04:57,568 - mmdet - INFO - Evaluating bbox...\n"
     ]
    },
    {
     "name": "stdout",
     "output_type": "stream",
     "text": [
      "Loading and preparing results...\n",
      "DONE (t=0.00s)\n",
      "creating index...\n",
      "index created!\n",
      "Running per image evaluation...\n",
      "Evaluate annotation type *bbox*\n",
      "DONE (t=0.17s).\n",
      "Accumulating evaluation results...\n"
     ]
    },
    {
     "name": "stderr",
     "output_type": "stream",
     "text": [
      "2022-10-16 17:04:57,782 - mmdet - INFO - \n",
      " Average Precision  (AP) @[ IoU=0.50:0.95 | area=   all | maxDets=100 ] = 0.647\n",
      " Average Precision  (AP) @[ IoU=0.50      | area=   all | maxDets=1000 ] = 0.977\n",
      " Average Precision  (AP) @[ IoU=0.75      | area=   all | maxDets=1000 ] = 0.782\n",
      " Average Precision  (AP) @[ IoU=0.50:0.95 | area= small | maxDets=1000 ] = 0.000\n",
      " Average Precision  (AP) @[ IoU=0.50:0.95 | area=medium | maxDets=1000 ] = 0.276\n",
      " Average Precision  (AP) @[ IoU=0.50:0.95 | area= large | maxDets=1000 ] = 0.659\n",
      " Average Recall     (AR) @[ IoU=0.50:0.95 | area=   all | maxDets=100 ] = 0.694\n",
      " Average Recall     (AR) @[ IoU=0.50:0.95 | area=   all | maxDets=300 ] = 0.694\n",
      " Average Recall     (AR) @[ IoU=0.50:0.95 | area=   all | maxDets=1000 ] = 0.694\n",
      " Average Recall     (AR) @[ IoU=0.50:0.95 | area= small | maxDets=1000 ] = 0.000\n",
      " Average Recall     (AR) @[ IoU=0.50:0.95 | area=medium | maxDets=1000 ] = 0.344\n",
      " Average Recall     (AR) @[ IoU=0.50:0.95 | area= large | maxDets=1000 ] = 0.709\n",
      "\n",
      "2022-10-16 17:04:57,788 - mmdet - INFO - Exp name: faster_rcnn_r50_fpn_2x_acino.py\n",
      "2022-10-16 17:04:57,790 - mmdet - INFO - Epoch(val) [2][764]\tbbox_mAP: 0.6470, bbox_mAP_50: 0.9770, bbox_mAP_75: 0.7820, bbox_mAP_s: 0.0000, bbox_mAP_m: 0.2760, bbox_mAP_l: 0.6590, bbox_mAP_copypaste: 0.647 0.977 0.782 0.000 0.276 0.659\n"
     ]
    },
    {
     "name": "stdout",
     "output_type": "stream",
     "text": [
      "DONE (t=0.04s).\n"
     ]
    },
    {
     "name": "stderr",
     "output_type": "stream",
     "text": [
      "2022-10-16 17:05:23,621 - mmdet - INFO - Epoch [3][50/1337]\tlr: 6.400e-04, eta: 1:21:03, time: 0.508, data_time: 0.057, memory: 14415, loss_rpn_cls: 0.0018, loss_rpn_bbox: 0.0043, loss_cls: 0.0296, acc: 98.7783, loss_bbox: 0.0653, loss: 0.1010\n",
      "2022-10-16 17:05:46,588 - mmdet - INFO - Epoch [3][100/1337]\tlr: 6.400e-04, eta: 1:20:40, time: 0.459, data_time: 0.011, memory: 14415, loss_rpn_cls: 0.0023, loss_rpn_bbox: 0.0044, loss_cls: 0.0298, acc: 98.8223, loss_bbox: 0.0624, loss: 0.0990\n",
      "2022-10-16 17:06:10,141 - mmdet - INFO - Epoch [3][150/1337]\tlr: 6.400e-04, eta: 1:20:20, time: 0.471, data_time: 0.018, memory: 14415, loss_rpn_cls: 0.0025, loss_rpn_bbox: 0.0046, loss_cls: 0.0310, acc: 98.7451, loss_bbox: 0.0619, loss: 0.0999\n",
      "2022-10-16 17:06:33,420 - mmdet - INFO - Epoch [3][200/1337]\tlr: 6.400e-04, eta: 1:19:59, time: 0.466, data_time: 0.012, memory: 14415, loss_rpn_cls: 0.0018, loss_rpn_bbox: 0.0043, loss_cls: 0.0299, acc: 98.7910, loss_bbox: 0.0612, loss: 0.0972\n",
      "2022-10-16 17:06:56,918 - mmdet - INFO - Epoch [3][250/1337]\tlr: 6.400e-04, eta: 1:19:38, time: 0.470, data_time: 0.019, memory: 14415, loss_rpn_cls: 0.0025, loss_rpn_bbox: 0.0044, loss_cls: 0.0324, acc: 98.7197, loss_bbox: 0.0669, loss: 0.1062\n",
      "2022-10-16 17:07:20,242 - mmdet - INFO - Epoch [3][300/1337]\tlr: 6.400e-04, eta: 1:19:17, time: 0.466, data_time: 0.012, memory: 14415, loss_rpn_cls: 0.0020, loss_rpn_bbox: 0.0042, loss_cls: 0.0292, acc: 98.8398, loss_bbox: 0.0647, loss: 0.1002\n",
      "2022-10-16 17:07:43,671 - mmdet - INFO - Epoch [3][350/1337]\tlr: 6.400e-04, eta: 1:18:56, time: 0.469, data_time: 0.015, memory: 14415, loss_rpn_cls: 0.0013, loss_rpn_bbox: 0.0036, loss_cls: 0.0286, acc: 98.7852, loss_bbox: 0.0622, loss: 0.0958\n",
      "2022-10-16 17:08:07,000 - mmdet - INFO - Epoch [3][400/1337]\tlr: 6.400e-04, eta: 1:18:35, time: 0.467, data_time: 0.012, memory: 14415, loss_rpn_cls: 0.0022, loss_rpn_bbox: 0.0038, loss_cls: 0.0311, acc: 98.7148, loss_bbox: 0.0593, loss: 0.0964\n",
      "2022-10-16 17:08:30,526 - mmdet - INFO - Epoch [3][450/1337]\tlr: 6.400e-04, eta: 1:18:14, time: 0.470, data_time: 0.020, memory: 14415, loss_rpn_cls: 0.0018, loss_rpn_bbox: 0.0037, loss_cls: 0.0281, acc: 98.8252, loss_bbox: 0.0560, loss: 0.0897\n",
      "2022-10-16 17:08:53,844 - mmdet - INFO - Epoch [3][500/1337]\tlr: 6.400e-04, eta: 1:17:52, time: 0.466, data_time: 0.012, memory: 14415, loss_rpn_cls: 0.0019, loss_rpn_bbox: 0.0037, loss_cls: 0.0296, acc: 98.8408, loss_bbox: 0.0614, loss: 0.0966\n",
      "2022-10-16 17:09:17,538 - mmdet - INFO - Epoch [3][550/1337]\tlr: 6.400e-04, eta: 1:17:32, time: 0.474, data_time: 0.016, memory: 14415, loss_rpn_cls: 0.0028, loss_rpn_bbox: 0.0041, loss_cls: 0.0300, acc: 98.8105, loss_bbox: 0.0602, loss: 0.0971\n",
      "2022-10-16 17:09:40,890 - mmdet - INFO - Epoch [3][600/1337]\tlr: 6.400e-04, eta: 1:17:10, time: 0.467, data_time: 0.012, memory: 14415, loss_rpn_cls: 0.0024, loss_rpn_bbox: 0.0037, loss_cls: 0.0314, acc: 98.7881, loss_bbox: 0.0598, loss: 0.0972\n",
      "2022-10-16 17:10:04,284 - mmdet - INFO - Epoch [3][650/1337]\tlr: 6.400e-04, eta: 1:16:49, time: 0.468, data_time: 0.018, memory: 14415, loss_rpn_cls: 0.0018, loss_rpn_bbox: 0.0041, loss_cls: 0.0309, acc: 98.7236, loss_bbox: 0.0679, loss: 0.1047\n",
      "2022-10-16 17:10:27,529 - mmdet - INFO - Epoch [3][700/1337]\tlr: 6.400e-04, eta: 1:16:27, time: 0.465, data_time: 0.012, memory: 14415, loss_rpn_cls: 0.0026, loss_rpn_bbox: 0.0042, loss_cls: 0.0332, acc: 98.6846, loss_bbox: 0.0651, loss: 0.1050\n",
      "2022-10-16 17:10:51,048 - mmdet - INFO - Epoch [3][750/1337]\tlr: 6.400e-04, eta: 1:16:05, time: 0.470, data_time: 0.016, memory: 14415, loss_rpn_cls: 0.0020, loss_rpn_bbox: 0.0038, loss_cls: 0.0306, acc: 98.7861, loss_bbox: 0.0620, loss: 0.0985\n",
      "2022-10-16 17:11:14,218 - mmdet - INFO - Epoch [3][800/1337]\tlr: 6.400e-04, eta: 1:15:43, time: 0.463, data_time: 0.012, memory: 14415, loss_rpn_cls: 0.0017, loss_rpn_bbox: 0.0037, loss_cls: 0.0286, acc: 98.8496, loss_bbox: 0.0586, loss: 0.0926\n",
      "2022-10-16 17:11:37,377 - mmdet - INFO - Epoch [3][850/1337]\tlr: 6.400e-04, eta: 1:15:21, time: 0.463, data_time: 0.015, memory: 14415, loss_rpn_cls: 0.0018, loss_rpn_bbox: 0.0035, loss_cls: 0.0299, acc: 98.8086, loss_bbox: 0.0609, loss: 0.0961\n",
      "2022-10-16 17:12:00,622 - mmdet - INFO - Epoch [3][900/1337]\tlr: 6.400e-04, eta: 1:14:58, time: 0.465, data_time: 0.013, memory: 14415, loss_rpn_cls: 0.0014, loss_rpn_bbox: 0.0038, loss_cls: 0.0302, acc: 98.8311, loss_bbox: 0.0630, loss: 0.0985\n",
      "2022-10-16 17:12:24,117 - mmdet - INFO - Epoch [3][950/1337]\tlr: 6.400e-04, eta: 1:14:37, time: 0.470, data_time: 0.016, memory: 14415, loss_rpn_cls: 0.0016, loss_rpn_bbox: 0.0035, loss_cls: 0.0312, acc: 98.7764, loss_bbox: 0.0619, loss: 0.0983\n",
      "2022-10-16 17:12:47,386 - mmdet - INFO - Epoch [3][1000/1337]\tlr: 6.400e-04, eta: 1:14:15, time: 0.465, data_time: 0.012, memory: 14415, loss_rpn_cls: 0.0030, loss_rpn_bbox: 0.0038, loss_cls: 0.0325, acc: 98.7334, loss_bbox: 0.0655, loss: 0.1048\n",
      "2022-10-16 17:13:11,044 - mmdet - INFO - Epoch [3][1050/1337]\tlr: 6.400e-04, eta: 1:13:53, time: 0.473, data_time: 0.019, memory: 14415, loss_rpn_cls: 0.0013, loss_rpn_bbox: 0.0039, loss_cls: 0.0298, acc: 98.8154, loss_bbox: 0.0665, loss: 0.1015\n",
      "2022-10-16 17:13:34,289 - mmdet - INFO - Epoch [3][1100/1337]\tlr: 6.400e-04, eta: 1:13:31, time: 0.465, data_time: 0.012, memory: 14415, loss_rpn_cls: 0.0022, loss_rpn_bbox: 0.0035, loss_cls: 0.0326, acc: 98.6885, loss_bbox: 0.0640, loss: 0.1023\n",
      "2022-10-16 17:13:57,672 - mmdet - INFO - Epoch [3][1150/1337]\tlr: 6.400e-04, eta: 1:13:09, time: 0.468, data_time: 0.017, memory: 14415, loss_rpn_cls: 0.0025, loss_rpn_bbox: 0.0045, loss_cls: 0.0334, acc: 98.6670, loss_bbox: 0.0663, loss: 0.1066\n",
      "2022-10-16 17:14:20,822 - mmdet - INFO - Epoch [3][1200/1337]\tlr: 6.400e-04, eta: 1:12:47, time: 0.463, data_time: 0.012, memory: 14415, loss_rpn_cls: 0.0015, loss_rpn_bbox: 0.0040, loss_cls: 0.0302, acc: 98.7881, loss_bbox: 0.0615, loss: 0.0972\n",
      "2022-10-16 17:14:44,190 - mmdet - INFO - Epoch [3][1250/1337]\tlr: 6.400e-04, eta: 1:12:24, time: 0.467, data_time: 0.019, memory: 14415, loss_rpn_cls: 0.0013, loss_rpn_bbox: 0.0037, loss_cls: 0.0299, acc: 98.8027, loss_bbox: 0.0631, loss: 0.0980\n",
      "2022-10-16 17:15:07,219 - mmdet - INFO - Epoch [3][1300/1337]\tlr: 6.400e-04, eta: 1:12:01, time: 0.461, data_time: 0.011, memory: 14415, loss_rpn_cls: 0.0016, loss_rpn_bbox: 0.0035, loss_cls: 0.0308, acc: 98.7646, loss_bbox: 0.0649, loss: 0.1008\n",
      "2022-10-16 17:15:24,752 - mmdet - INFO - Saving checkpoint at 3 epochs\n"
     ]
    },
    {
     "name": "stdout",
     "output_type": "stream",
     "text": [
      "[>>>>>>>>>>>>>>>>>>>>>>>>>>>>>] 764/764, 18.5 task/s, elapsed: 41s, ETA:     0s"
     ]
    },
    {
     "name": "stderr",
     "output_type": "stream",
     "text": [
      "2022-10-16 17:16:07,561 - mmdet - INFO - Evaluating bbox...\n"
     ]
    },
    {
     "name": "stdout",
     "output_type": "stream",
     "text": [
      "Loading and preparing results...\n",
      "DONE (t=0.00s)\n",
      "creating index...\n",
      "index created!\n",
      "Running per image evaluation...\n",
      "Evaluate annotation type *bbox*\n",
      "DONE (t=0.17s).\n",
      "Accumulating evaluation results...\n"
     ]
    },
    {
     "name": "stderr",
     "output_type": "stream",
     "text": [
      "2022-10-16 17:16:07,782 - mmdet - INFO - \n",
      " Average Precision  (AP) @[ IoU=0.50:0.95 | area=   all | maxDets=100 ] = 0.643\n",
      " Average Precision  (AP) @[ IoU=0.50      | area=   all | maxDets=1000 ] = 0.978\n",
      " Average Precision  (AP) @[ IoU=0.75      | area=   all | maxDets=1000 ] = 0.775\n",
      " Average Precision  (AP) @[ IoU=0.50:0.95 | area= small | maxDets=1000 ] = 0.000\n",
      " Average Precision  (AP) @[ IoU=0.50:0.95 | area=medium | maxDets=1000 ] = 0.277\n",
      " Average Precision  (AP) @[ IoU=0.50:0.95 | area= large | maxDets=1000 ] = 0.656\n",
      " Average Recall     (AR) @[ IoU=0.50:0.95 | area=   all | maxDets=100 ] = 0.696\n",
      " Average Recall     (AR) @[ IoU=0.50:0.95 | area=   all | maxDets=300 ] = 0.696\n",
      " Average Recall     (AR) @[ IoU=0.50:0.95 | area=   all | maxDets=1000 ] = 0.696\n",
      " Average Recall     (AR) @[ IoU=0.50:0.95 | area= small | maxDets=1000 ] = 0.000\n",
      " Average Recall     (AR) @[ IoU=0.50:0.95 | area=medium | maxDets=1000 ] = 0.378\n",
      " Average Recall     (AR) @[ IoU=0.50:0.95 | area= large | maxDets=1000 ] = 0.710\n",
      "\n",
      "2022-10-16 17:16:07,789 - mmdet - INFO - Exp name: faster_rcnn_r50_fpn_2x_acino.py\n",
      "2022-10-16 17:16:07,792 - mmdet - INFO - Epoch(val) [3][764]\tbbox_mAP: 0.6430, bbox_mAP_50: 0.9780, bbox_mAP_75: 0.7750, bbox_mAP_s: 0.0000, bbox_mAP_m: 0.2770, bbox_mAP_l: 0.6560, bbox_mAP_copypaste: 0.643 0.978 0.775 0.000 0.277 0.656\n"
     ]
    },
    {
     "name": "stdout",
     "output_type": "stream",
     "text": [
      "DONE (t=0.04s).\n"
     ]
    },
    {
     "name": "stderr",
     "output_type": "stream",
     "text": [
      "2022-10-16 17:16:33,785 - mmdet - INFO - Epoch [4][50/1337]\tlr: 5.120e-04, eta: 1:10:48, time: 0.510, data_time: 0.057, memory: 14415, loss_rpn_cls: 0.0017, loss_rpn_bbox: 0.0036, loss_cls: 0.0312, acc: 98.7480, loss_bbox: 0.0619, loss: 0.0984\n",
      "2022-10-16 17:16:56,970 - mmdet - INFO - Epoch [4][100/1337]\tlr: 5.120e-04, eta: 1:10:26, time: 0.464, data_time: 0.012, memory: 14415, loss_rpn_cls: 0.0024, loss_rpn_bbox: 0.0039, loss_cls: 0.0290, acc: 98.8281, loss_bbox: 0.0585, loss: 0.0937\n",
      "2022-10-16 17:17:20,574 - mmdet - INFO - Epoch [4][150/1337]\tlr: 5.120e-04, eta: 1:10:05, time: 0.472, data_time: 0.020, memory: 14415, loss_rpn_cls: 0.0021, loss_rpn_bbox: 0.0038, loss_cls: 0.0298, acc: 98.8008, loss_bbox: 0.0589, loss: 0.0946\n",
      "2022-10-16 17:17:44,085 - mmdet - INFO - Epoch [4][200/1337]\tlr: 5.120e-04, eta: 1:09:44, time: 0.470, data_time: 0.011, memory: 14415, loss_rpn_cls: 0.0014, loss_rpn_bbox: 0.0037, loss_cls: 0.0286, acc: 98.8281, loss_bbox: 0.0611, loss: 0.0948\n",
      "2022-10-16 17:18:07,837 - mmdet - INFO - Epoch [4][250/1337]\tlr: 5.120e-04, eta: 1:09:23, time: 0.475, data_time: 0.015, memory: 14415, loss_rpn_cls: 0.0015, loss_rpn_bbox: 0.0036, loss_cls: 0.0288, acc: 98.8770, loss_bbox: 0.0613, loss: 0.0952\n",
      "2022-10-16 17:18:31,335 - mmdet - INFO - Epoch [4][300/1337]\tlr: 5.120e-04, eta: 1:09:01, time: 0.470, data_time: 0.012, memory: 14415, loss_rpn_cls: 0.0017, loss_rpn_bbox: 0.0035, loss_cls: 0.0272, acc: 98.8838, loss_bbox: 0.0566, loss: 0.0889\n",
      "2022-10-16 17:18:55,171 - mmdet - INFO - Epoch [4][350/1337]\tlr: 5.120e-04, eta: 1:08:40, time: 0.477, data_time: 0.022, memory: 14415, loss_rpn_cls: 0.0020, loss_rpn_bbox: 0.0034, loss_cls: 0.0289, acc: 98.8467, loss_bbox: 0.0575, loss: 0.0919\n",
      "2022-10-16 17:19:18,413 - mmdet - INFO - Epoch [4][400/1337]\tlr: 5.120e-04, eta: 1:08:18, time: 0.465, data_time: 0.012, memory: 14415, loss_rpn_cls: 0.0019, loss_rpn_bbox: 0.0037, loss_cls: 0.0284, acc: 98.8701, loss_bbox: 0.0566, loss: 0.0906\n",
      "2022-10-16 17:19:42,059 - mmdet - INFO - Epoch [4][450/1337]\tlr: 5.120e-04, eta: 1:07:57, time: 0.473, data_time: 0.020, memory: 14415, loss_rpn_cls: 0.0015, loss_rpn_bbox: 0.0034, loss_cls: 0.0280, acc: 98.8408, loss_bbox: 0.0570, loss: 0.0899\n",
      "2022-10-16 17:20:05,269 - mmdet - INFO - Epoch [4][500/1337]\tlr: 5.120e-04, eta: 1:07:35, time: 0.464, data_time: 0.012, memory: 14415, loss_rpn_cls: 0.0014, loss_rpn_bbox: 0.0034, loss_cls: 0.0284, acc: 98.8232, loss_bbox: 0.0580, loss: 0.0912\n",
      "2022-10-16 17:20:28,892 - mmdet - INFO - Epoch [4][550/1337]\tlr: 5.120e-04, eta: 1:07:13, time: 0.472, data_time: 0.019, memory: 14415, loss_rpn_cls: 0.0013, loss_rpn_bbox: 0.0033, loss_cls: 0.0301, acc: 98.8223, loss_bbox: 0.0596, loss: 0.0942\n",
      "2022-10-16 17:20:52,660 - mmdet - INFO - Epoch [4][600/1337]\tlr: 5.120e-04, eta: 1:06:52, time: 0.475, data_time: 0.012, memory: 14415, loss_rpn_cls: 0.0017, loss_rpn_bbox: 0.0033, loss_cls: 0.0284, acc: 98.8750, loss_bbox: 0.0558, loss: 0.0892\n",
      "2022-10-16 17:21:16,469 - mmdet - INFO - Epoch [4][650/1337]\tlr: 5.120e-04, eta: 1:06:31, time: 0.476, data_time: 0.020, memory: 14415, loss_rpn_cls: 0.0012, loss_rpn_bbox: 0.0033, loss_cls: 0.0278, acc: 98.8887, loss_bbox: 0.0583, loss: 0.0905\n",
      "2022-10-16 17:21:39,824 - mmdet - INFO - Epoch [4][700/1337]\tlr: 5.120e-04, eta: 1:06:09, time: 0.467, data_time: 0.012, memory: 14415, loss_rpn_cls: 0.0010, loss_rpn_bbox: 0.0038, loss_cls: 0.0266, acc: 98.8809, loss_bbox: 0.0578, loss: 0.0893\n",
      "2022-10-16 17:22:03,231 - mmdet - INFO - Epoch [4][750/1337]\tlr: 5.120e-04, eta: 1:05:47, time: 0.468, data_time: 0.016, memory: 14415, loss_rpn_cls: 0.0015, loss_rpn_bbox: 0.0037, loss_cls: 0.0292, acc: 98.8164, loss_bbox: 0.0599, loss: 0.0943\n",
      "2022-10-16 17:22:26,668 - mmdet - INFO - Epoch [4][800/1337]\tlr: 5.120e-04, eta: 1:05:25, time: 0.469, data_time: 0.012, memory: 14415, loss_rpn_cls: 0.0014, loss_rpn_bbox: 0.0038, loss_cls: 0.0291, acc: 98.8447, loss_bbox: 0.0611, loss: 0.0954\n",
      "2022-10-16 17:22:50,535 - mmdet - INFO - Epoch [4][850/1337]\tlr: 5.120e-04, eta: 1:05:03, time: 0.477, data_time: 0.018, memory: 14415, loss_rpn_cls: 0.0015, loss_rpn_bbox: 0.0040, loss_cls: 0.0289, acc: 98.8340, loss_bbox: 0.0619, loss: 0.0963\n",
      "2022-10-16 17:23:13,877 - mmdet - INFO - Epoch [4][900/1337]\tlr: 5.120e-04, eta: 1:04:41, time: 0.467, data_time: 0.012, memory: 14415, loss_rpn_cls: 0.0011, loss_rpn_bbox: 0.0036, loss_cls: 0.0284, acc: 98.8418, loss_bbox: 0.0622, loss: 0.0953\n",
      "2022-10-16 17:23:37,536 - mmdet - INFO - Epoch [4][950/1337]\tlr: 5.120e-04, eta: 1:04:19, time: 0.473, data_time: 0.019, memory: 14415, loss_rpn_cls: 0.0011, loss_rpn_bbox: 0.0035, loss_cls: 0.0277, acc: 98.8740, loss_bbox: 0.0589, loss: 0.0912\n",
      "2022-10-16 17:24:00,768 - mmdet - INFO - Epoch [4][1000/1337]\tlr: 5.120e-04, eta: 1:03:57, time: 0.465, data_time: 0.012, memory: 14415, loss_rpn_cls: 0.0013, loss_rpn_bbox: 0.0037, loss_cls: 0.0277, acc: 98.8926, loss_bbox: 0.0584, loss: 0.0911\n",
      "2022-10-16 17:24:24,545 - mmdet - INFO - Epoch [4][1050/1337]\tlr: 5.120e-04, eta: 1:03:35, time: 0.476, data_time: 0.019, memory: 14415, loss_rpn_cls: 0.0018, loss_rpn_bbox: 0.0037, loss_cls: 0.0291, acc: 98.8193, loss_bbox: 0.0597, loss: 0.0943\n",
      "2022-10-16 17:24:47,993 - mmdet - INFO - Epoch [4][1100/1337]\tlr: 5.120e-04, eta: 1:03:13, time: 0.469, data_time: 0.012, memory: 14415, loss_rpn_cls: 0.0017, loss_rpn_bbox: 0.0036, loss_cls: 0.0279, acc: 98.8604, loss_bbox: 0.0579, loss: 0.0910\n",
      "2022-10-16 17:25:11,721 - mmdet - INFO - Epoch [4][1150/1337]\tlr: 5.120e-04, eta: 1:02:51, time: 0.475, data_time: 0.016, memory: 14415, loss_rpn_cls: 0.0018, loss_rpn_bbox: 0.0034, loss_cls: 0.0289, acc: 98.8887, loss_bbox: 0.0570, loss: 0.0911\n",
      "2022-10-16 17:25:35,266 - mmdet - INFO - Epoch [4][1200/1337]\tlr: 5.120e-04, eta: 1:02:29, time: 0.471, data_time: 0.012, memory: 14415, loss_rpn_cls: 0.0019, loss_rpn_bbox: 0.0036, loss_cls: 0.0276, acc: 98.8887, loss_bbox: 0.0605, loss: 0.0935\n",
      "2022-10-16 17:25:59,003 - mmdet - INFO - Epoch [4][1250/1337]\tlr: 5.120e-04, eta: 1:02:08, time: 0.475, data_time: 0.020, memory: 14415, loss_rpn_cls: 0.0014, loss_rpn_bbox: 0.0035, loss_cls: 0.0261, acc: 98.9287, loss_bbox: 0.0560, loss: 0.0870\n",
      "2022-10-16 17:26:22,476 - mmdet - INFO - Epoch [4][1300/1337]\tlr: 5.120e-04, eta: 1:01:45, time: 0.469, data_time: 0.012, memory: 14415, loss_rpn_cls: 0.0020, loss_rpn_bbox: 0.0037, loss_cls: 0.0301, acc: 98.7959, loss_bbox: 0.0622, loss: 0.0979\n",
      "2022-10-16 17:26:40,241 - mmdet - INFO - Saving checkpoint at 4 epochs\n"
     ]
    },
    {
     "name": "stdout",
     "output_type": "stream",
     "text": [
      "[>>>>>>>>>>>>>>>>>>>>>>>      ] 626/764, 18.3 task/s, elapsed: 34s, ETA:     8s"
     ]
    },
    {
     "name": "stderr",
     "output_type": "stream",
     "text": [
      "2022-10-16 17:32:56,227 - mmdet - INFO - Epoch [5][700/1337]\tlr: 4.096e-04, eta: 0:55:58, time: 0.470, data_time: 0.012, memory: 14415, loss_rpn_cls: 0.0025, loss_rpn_bbox: 0.0034, loss_cls: 0.0288, acc: 98.8721, loss_bbox: 0.0562, loss: 0.0909\n",
      "2022-10-16 17:33:20,166 - mmdet - INFO - Epoch [5][750/1337]\tlr: 4.096e-04, eta: 0:55:36, time: 0.479, data_time: 0.018, memory: 14415, loss_rpn_cls: 0.0009, loss_rpn_bbox: 0.0030, loss_cls: 0.0259, acc: 98.9658, loss_bbox: 0.0550, loss: 0.0849\n",
      "2022-10-16 17:33:43,668 - mmdet - INFO - Epoch [5][800/1337]\tlr: 4.096e-04, eta: 0:55:14, time: 0.470, data_time: 0.012, memory: 14415, loss_rpn_cls: 0.0013, loss_rpn_bbox: 0.0032, loss_cls: 0.0268, acc: 98.9688, loss_bbox: 0.0547, loss: 0.0860\n",
      "2022-10-16 17:34:07,530 - mmdet - INFO - Epoch [5][850/1337]\tlr: 4.096e-04, eta: 0:54:52, time: 0.477, data_time: 0.020, memory: 14415, loss_rpn_cls: 0.0012, loss_rpn_bbox: 0.0033, loss_cls: 0.0246, acc: 98.9863, loss_bbox: 0.0525, loss: 0.0815\n",
      "2022-10-16 17:34:31,061 - mmdet - INFO - Epoch [5][900/1337]\tlr: 4.096e-04, eta: 0:54:29, time: 0.471, data_time: 0.012, memory: 14415, loss_rpn_cls: 0.0014, loss_rpn_bbox: 0.0032, loss_cls: 0.0259, acc: 98.9639, loss_bbox: 0.0513, loss: 0.0819\n",
      "2022-10-16 17:34:55,154 - mmdet - INFO - Epoch [5][950/1337]\tlr: 4.096e-04, eta: 0:54:08, time: 0.482, data_time: 0.016, memory: 14415, loss_rpn_cls: 0.0022, loss_rpn_bbox: 0.0036, loss_cls: 0.0268, acc: 98.9580, loss_bbox: 0.0548, loss: 0.0874\n",
      "2022-10-16 17:35:18,823 - mmdet - INFO - Epoch [5][1000/1337]\tlr: 4.096e-04, eta: 0:53:45, time: 0.473, data_time: 0.012, memory: 14415, loss_rpn_cls: 0.0017, loss_rpn_bbox: 0.0033, loss_cls: 0.0251, acc: 98.9453, loss_bbox: 0.0519, loss: 0.0820\n",
      "2022-10-16 17:35:42,929 - mmdet - INFO - Epoch [5][1050/1337]\tlr: 4.096e-04, eta: 0:53:24, time: 0.482, data_time: 0.018, memory: 14415, loss_rpn_cls: 0.0018, loss_rpn_bbox: 0.0036, loss_cls: 0.0279, acc: 98.8896, loss_bbox: 0.0577, loss: 0.0910\n",
      "2022-10-16 17:36:06,645 - mmdet - INFO - Epoch [5][1100/1337]\tlr: 4.096e-04, eta: 0:53:02, time: 0.474, data_time: 0.012, memory: 14415, loss_rpn_cls: 0.0009, loss_rpn_bbox: 0.0033, loss_cls: 0.0258, acc: 98.9434, loss_bbox: 0.0561, loss: 0.0861\n",
      "2022-10-16 17:36:30,840 - mmdet - INFO - Epoch [5][1150/1337]\tlr: 4.096e-04, eta: 0:52:40, time: 0.484, data_time: 0.021, memory: 14415, loss_rpn_cls: 0.0022, loss_rpn_bbox: 0.0037, loss_cls: 0.0279, acc: 98.8926, loss_bbox: 0.0529, loss: 0.0866\n",
      "2022-10-16 17:36:54,703 - mmdet - INFO - Epoch [5][1200/1337]\tlr: 4.096e-04, eta: 0:52:18, time: 0.477, data_time: 0.012, memory: 14415, loss_rpn_cls: 0.0012, loss_rpn_bbox: 0.0032, loss_cls: 0.0239, acc: 99.0420, loss_bbox: 0.0533, loss: 0.0815\n",
      "2022-10-16 17:37:19,145 - mmdet - INFO - Epoch [5][1250/1337]\tlr: 4.096e-04, eta: 0:51:56, time: 0.489, data_time: 0.018, memory: 14415, loss_rpn_cls: 0.0013, loss_rpn_bbox: 0.0033, loss_cls: 0.0283, acc: 98.8848, loss_bbox: 0.0563, loss: 0.0891\n",
      "2022-10-16 17:37:42,712 - mmdet - INFO - Epoch [5][1300/1337]\tlr: 4.096e-04, eta: 0:51:34, time: 0.471, data_time: 0.012, memory: 14415, loss_rpn_cls: 0.0013, loss_rpn_bbox: 0.0036, loss_cls: 0.0279, acc: 98.8408, loss_bbox: 0.0573, loss: 0.0901\n",
      "2022-10-16 17:38:00,304 - mmdet - INFO - Saving checkpoint at 5 epochs\n"
     ]
    },
    {
     "name": "stdout",
     "output_type": "stream",
     "text": [
      "[>>>>>>>>>>>>>>>>>>>>>>>>>>>>>] 764/764, 18.3 task/s, elapsed: 42s, ETA:     0s"
     ]
    },
    {
     "name": "stderr",
     "output_type": "stream",
     "text": [
      "2022-10-16 17:38:43,811 - mmdet - INFO - Evaluating bbox...\n"
     ]
    },
    {
     "name": "stdout",
     "output_type": "stream",
     "text": [
      "Loading and preparing results...\n",
      "DONE (t=0.00s)\n",
      "creating index...\n",
      "index created!\n",
      "Running per image evaluation...\n",
      "Evaluate annotation type *bbox*\n",
      "DONE (t=0.17s).\n",
      "Accumulating evaluation results...\n"
     ]
    },
    {
     "name": "stderr",
     "output_type": "stream",
     "text": [
      "2022-10-16 17:38:44,050 - mmdet - INFO - \n",
      " Average Precision  (AP) @[ IoU=0.50:0.95 | area=   all | maxDets=100 ] = 0.679\n",
      " Average Precision  (AP) @[ IoU=0.50      | area=   all | maxDets=1000 ] = 0.975\n",
      " Average Precision  (AP) @[ IoU=0.75      | area=   all | maxDets=1000 ] = 0.828\n",
      " Average Precision  (AP) @[ IoU=0.50:0.95 | area= small | maxDets=1000 ] = 0.000\n",
      " Average Precision  (AP) @[ IoU=0.50:0.95 | area=medium | maxDets=1000 ] = 0.330\n",
      " Average Precision  (AP) @[ IoU=0.50:0.95 | area= large | maxDets=1000 ] = 0.691\n",
      " Average Recall     (AR) @[ IoU=0.50:0.95 | area=   all | maxDets=100 ] = 0.727\n",
      " Average Recall     (AR) @[ IoU=0.50:0.95 | area=   all | maxDets=300 ] = 0.727\n",
      " Average Recall     (AR) @[ IoU=0.50:0.95 | area=   all | maxDets=1000 ] = 0.727\n",
      " Average Recall     (AR) @[ IoU=0.50:0.95 | area= small | maxDets=1000 ] = 0.000\n",
      " Average Recall     (AR) @[ IoU=0.50:0.95 | area=medium | maxDets=1000 ] = 0.444\n",
      " Average Recall     (AR) @[ IoU=0.50:0.95 | area= large | maxDets=1000 ] = 0.741\n",
      "\n",
      "2022-10-16 17:38:44,059 - mmdet - INFO - Exp name: faster_rcnn_r50_fpn_2x_acino.py\n",
      "2022-10-16 17:38:44,061 - mmdet - INFO - Epoch(val) [5][764]\tbbox_mAP: 0.6790, bbox_mAP_50: 0.9750, bbox_mAP_75: 0.8280, bbox_mAP_s: 0.0000, bbox_mAP_m: 0.3300, bbox_mAP_l: 0.6910, bbox_mAP_copypaste: 0.679 0.975 0.828 0.000 0.330 0.691\n"
     ]
    },
    {
     "name": "stdout",
     "output_type": "stream",
     "text": [
      "DONE (t=0.06s).\n"
     ]
    },
    {
     "name": "stderr",
     "output_type": "stream",
     "text": [
      "2022-10-16 17:39:10,467 - mmdet - INFO - Epoch [6][50/1337]\tlr: 3.277e-04, eta: 0:50:40, time: 0.518, data_time: 0.058, memory: 14415, loss_rpn_cls: 0.0021, loss_rpn_bbox: 0.0033, loss_cls: 0.0277, acc: 98.9502, loss_bbox: 0.0533, loss: 0.0863\n",
      "2022-10-16 17:39:33,879 - mmdet - INFO - Epoch [6][100/1337]\tlr: 3.277e-04, eta: 0:50:17, time: 0.468, data_time: 0.012, memory: 14415, loss_rpn_cls: 0.0009, loss_rpn_bbox: 0.0036, loss_cls: 0.0248, acc: 99.0049, loss_bbox: 0.0513, loss: 0.0807\n",
      "2022-10-16 17:39:57,360 - mmdet - INFO - Epoch [6][150/1337]\tlr: 3.277e-04, eta: 0:49:55, time: 0.470, data_time: 0.011, memory: 14415, loss_rpn_cls: 0.0008, loss_rpn_bbox: 0.0030, loss_cls: 0.0237, acc: 99.0273, loss_bbox: 0.0509, loss: 0.0784\n",
      "2022-10-16 17:40:20,761 - mmdet - INFO - Epoch [6][200/1337]\tlr: 3.277e-04, eta: 0:49:33, time: 0.468, data_time: 0.012, memory: 14415, loss_rpn_cls: 0.0012, loss_rpn_bbox: 0.0032, loss_cls: 0.0256, acc: 98.9844, loss_bbox: 0.0522, loss: 0.0822\n",
      "2022-10-16 17:40:44,146 - mmdet - INFO - Epoch [6][250/1337]\tlr: 3.277e-04, eta: 0:49:10, time: 0.468, data_time: 0.015, memory: 14415, loss_rpn_cls: 0.0011, loss_rpn_bbox: 0.0033, loss_cls: 0.0248, acc: 98.9766, loss_bbox: 0.0516, loss: 0.0808\n",
      "2022-10-16 17:41:07,580 - mmdet - INFO - Epoch [6][300/1337]\tlr: 3.277e-04, eta: 0:48:48, time: 0.469, data_time: 0.012, memory: 14415, loss_rpn_cls: 0.0014, loss_rpn_bbox: 0.0033, loss_cls: 0.0273, acc: 98.8887, loss_bbox: 0.0540, loss: 0.0859\n",
      "2022-10-16 17:41:31,237 - mmdet - INFO - Epoch [6][350/1337]\tlr: 3.277e-04, eta: 0:48:25, time: 0.473, data_time: 0.016, memory: 14415, loss_rpn_cls: 0.0013, loss_rpn_bbox: 0.0031, loss_cls: 0.0238, acc: 99.0391, loss_bbox: 0.0492, loss: 0.0774\n",
      "2022-10-16 17:41:54,515 - mmdet - INFO - Epoch [6][400/1337]\tlr: 3.277e-04, eta: 0:48:03, time: 0.466, data_time: 0.012, memory: 14415, loss_rpn_cls: 0.0013, loss_rpn_bbox: 0.0031, loss_cls: 0.0245, acc: 99.0137, loss_bbox: 0.0540, loss: 0.0828\n",
      "2022-10-16 17:42:18,063 - mmdet - INFO - Epoch [6][450/1337]\tlr: 3.277e-04, eta: 0:47:40, time: 0.471, data_time: 0.018, memory: 14415, loss_rpn_cls: 0.0013, loss_rpn_bbox: 0.0032, loss_cls: 0.0240, acc: 99.0068, loss_bbox: 0.0505, loss: 0.0789\n",
      "2022-10-16 17:42:41,357 - mmdet - INFO - Epoch [6][500/1337]\tlr: 3.277e-04, eta: 0:47:18, time: 0.466, data_time: 0.012, memory: 14415, loss_rpn_cls: 0.0014, loss_rpn_bbox: 0.0030, loss_cls: 0.0238, acc: 99.0781, loss_bbox: 0.0517, loss: 0.0799\n",
      "2022-10-16 17:43:04,912 - mmdet - INFO - Epoch [6][550/1337]\tlr: 3.277e-04, eta: 0:46:55, time: 0.471, data_time: 0.015, memory: 14415, loss_rpn_cls: 0.0013, loss_rpn_bbox: 0.0033, loss_cls: 0.0264, acc: 98.9375, loss_bbox: 0.0542, loss: 0.0852\n",
      "2022-10-16 17:43:28,290 - mmdet - INFO - Epoch [6][600/1337]\tlr: 3.277e-04, eta: 0:46:33, time: 0.468, data_time: 0.012, memory: 14415, loss_rpn_cls: 0.0017, loss_rpn_bbox: 0.0032, loss_cls: 0.0258, acc: 98.9658, loss_bbox: 0.0519, loss: 0.0826\n",
      "2022-10-16 17:43:52,294 - mmdet - INFO - Epoch [6][650/1337]\tlr: 3.277e-04, eta: 0:46:11, time: 0.480, data_time: 0.020, memory: 14415, loss_rpn_cls: 0.0019, loss_rpn_bbox: 0.0030, loss_cls: 0.0241, acc: 99.0215, loss_bbox: 0.0498, loss: 0.0788\n",
      "2022-10-16 17:44:16,026 - mmdet - INFO - Epoch [6][700/1337]\tlr: 3.277e-04, eta: 0:45:48, time: 0.475, data_time: 0.012, memory: 14415, loss_rpn_cls: 0.0010, loss_rpn_bbox: 0.0033, loss_cls: 0.0235, acc: 99.0020, loss_bbox: 0.0513, loss: 0.0791\n",
      "2022-10-16 17:44:39,902 - mmdet - INFO - Epoch [6][750/1337]\tlr: 3.277e-04, eta: 0:45:26, time: 0.478, data_time: 0.020, memory: 14415, loss_rpn_cls: 0.0024, loss_rpn_bbox: 0.0031, loss_cls: 0.0255, acc: 99.0117, loss_bbox: 0.0498, loss: 0.0808\n",
      "2022-10-16 17:45:03,430 - mmdet - INFO - Epoch [6][800/1337]\tlr: 3.277e-04, eta: 0:45:03, time: 0.471, data_time: 0.012, memory: 14415, loss_rpn_cls: 0.0013, loss_rpn_bbox: 0.0030, loss_cls: 0.0243, acc: 99.0166, loss_bbox: 0.0523, loss: 0.0808\n",
      "2022-10-16 17:45:27,233 - mmdet - INFO - Epoch [6][850/1337]\tlr: 3.277e-04, eta: 0:44:41, time: 0.476, data_time: 0.016, memory: 14415, loss_rpn_cls: 0.0007, loss_rpn_bbox: 0.0032, loss_cls: 0.0239, acc: 99.0361, loss_bbox: 0.0511, loss: 0.0790\n",
      "2022-10-16 17:45:50,755 - mmdet - INFO - Epoch [6][900/1337]\tlr: 3.277e-04, eta: 0:44:19, time: 0.470, data_time: 0.012, memory: 14415, loss_rpn_cls: 0.0011, loss_rpn_bbox: 0.0029, loss_cls: 0.0250, acc: 98.9619, loss_bbox: 0.0529, loss: 0.0820\n",
      "2022-10-16 17:46:14,783 - mmdet - INFO - Epoch [6][950/1337]\tlr: 3.277e-04, eta: 0:43:56, time: 0.481, data_time: 0.018, memory: 14415, loss_rpn_cls: 0.0013, loss_rpn_bbox: 0.0035, loss_cls: 0.0254, acc: 98.9150, loss_bbox: 0.0542, loss: 0.0844\n",
      "2022-10-16 17:46:38,240 - mmdet - INFO - Epoch [6][1000/1337]\tlr: 3.277e-04, eta: 0:43:34, time: 0.469, data_time: 0.012, memory: 14415, loss_rpn_cls: 0.0011, loss_rpn_bbox: 0.0031, loss_cls: 0.0256, acc: 98.9307, loss_bbox: 0.0506, loss: 0.0804\n",
      "2022-10-16 17:47:02,236 - mmdet - INFO - Epoch [6][1050/1337]\tlr: 3.277e-04, eta: 0:43:11, time: 0.480, data_time: 0.018, memory: 14415, loss_rpn_cls: 0.0009, loss_rpn_bbox: 0.0032, loss_cls: 0.0243, acc: 98.9893, loss_bbox: 0.0521, loss: 0.0805\n",
      "2022-10-16 17:47:25,857 - mmdet - INFO - Epoch [6][1100/1337]\tlr: 3.277e-04, eta: 0:42:49, time: 0.472, data_time: 0.012, memory: 14415, loss_rpn_cls: 0.0010, loss_rpn_bbox: 0.0033, loss_cls: 0.0257, acc: 98.9609, loss_bbox: 0.0532, loss: 0.0833\n",
      "2022-10-16 17:47:49,498 - mmdet - INFO - Epoch [6][1150/1337]\tlr: 3.277e-04, eta: 0:42:26, time: 0.473, data_time: 0.017, memory: 14415, loss_rpn_cls: 0.0011, loss_rpn_bbox: 0.0029, loss_cls: 0.0239, acc: 99.0205, loss_bbox: 0.0526, loss: 0.0805\n",
      "2022-10-16 17:48:13,115 - mmdet - INFO - Epoch [6][1200/1337]\tlr: 3.277e-04, eta: 0:42:04, time: 0.472, data_time: 0.012, memory: 14415, loss_rpn_cls: 0.0009, loss_rpn_bbox: 0.0032, loss_cls: 0.0274, acc: 98.9160, loss_bbox: 0.0565, loss: 0.0880\n",
      "2022-10-16 17:48:37,004 - mmdet - INFO - Epoch [6][1250/1337]\tlr: 3.277e-04, eta: 0:41:41, time: 0.478, data_time: 0.018, memory: 14415, loss_rpn_cls: 0.0014, loss_rpn_bbox: 0.0032, loss_cls: 0.0270, acc: 98.8828, loss_bbox: 0.0549, loss: 0.0866\n",
      "2022-10-16 17:49:00,335 - mmdet - INFO - Epoch [6][1300/1337]\tlr: 3.277e-04, eta: 0:41:19, time: 0.467, data_time: 0.013, memory: 14415, loss_rpn_cls: 0.0012, loss_rpn_bbox: 0.0029, loss_cls: 0.0247, acc: 98.9688, loss_bbox: 0.0497, loss: 0.0785\n",
      "2022-10-16 17:49:18,125 - mmdet - INFO - Saving checkpoint at 6 epochs\n"
     ]
    },
    {
     "name": "stdout",
     "output_type": "stream",
     "text": [
      "[>>>>>>>>>>>>>>>>>>>>>>>>>>>>>] 764/764, 18.4 task/s, elapsed: 41s, ETA:     0s"
     ]
    },
    {
     "name": "stderr",
     "output_type": "stream",
     "text": [
      "2022-10-16 17:50:01,138 - mmdet - INFO - Evaluating bbox...\n"
     ]
    },
    {
     "name": "stdout",
     "output_type": "stream",
     "text": [
      "Loading and preparing results...\n",
      "DONE (t=0.00s)\n",
      "creating index...\n",
      "index created!\n",
      "Running per image evaluation...\n",
      "Evaluate annotation type *bbox*\n",
      "DONE (t=0.17s).\n",
      "Accumulating evaluation results...\n"
     ]
    },
    {
     "name": "stderr",
     "output_type": "stream",
     "text": [
      "2022-10-16 17:50:01,357 - mmdet - INFO - \n",
      " Average Precision  (AP) @[ IoU=0.50:0.95 | area=   all | maxDets=100 ] = 0.701\n",
      " Average Precision  (AP) @[ IoU=0.50      | area=   all | maxDets=1000 ] = 0.978\n",
      " Average Precision  (AP) @[ IoU=0.75      | area=   all | maxDets=1000 ] = 0.863\n",
      " Average Precision  (AP) @[ IoU=0.50:0.95 | area= small | maxDets=1000 ] = 0.000\n",
      " Average Precision  (AP) @[ IoU=0.50:0.95 | area=medium | maxDets=1000 ] = 0.442\n",
      " Average Precision  (AP) @[ IoU=0.50:0.95 | area= large | maxDets=1000 ] = 0.712\n",
      " Average Recall     (AR) @[ IoU=0.50:0.95 | area=   all | maxDets=100 ] = 0.750\n",
      " Average Recall     (AR) @[ IoU=0.50:0.95 | area=   all | maxDets=300 ] = 0.750\n",
      " Average Recall     (AR) @[ IoU=0.50:0.95 | area=   all | maxDets=1000 ] = 0.750\n",
      " Average Recall     (AR) @[ IoU=0.50:0.95 | area= small | maxDets=1000 ] = 0.000\n",
      " Average Recall     (AR) @[ IoU=0.50:0.95 | area=medium | maxDets=1000 ] = 0.539\n",
      " Average Recall     (AR) @[ IoU=0.50:0.95 | area= large | maxDets=1000 ] = 0.762\n",
      "\n",
      "2022-10-16 17:50:01,365 - mmdet - INFO - Exp name: faster_rcnn_r50_fpn_2x_acino.py\n",
      "2022-10-16 17:50:01,367 - mmdet - INFO - Epoch(val) [6][764]\tbbox_mAP: 0.7010, bbox_mAP_50: 0.9780, bbox_mAP_75: 0.8630, bbox_mAP_s: 0.0000, bbox_mAP_m: 0.4420, bbox_mAP_l: 0.7120, bbox_mAP_copypaste: 0.701 0.978 0.863 0.000 0.442 0.712\n"
     ]
    },
    {
     "name": "stdout",
     "output_type": "stream",
     "text": [
      "DONE (t=0.04s).\n"
     ]
    },
    {
     "name": "stderr",
     "output_type": "stream",
     "text": [
      "2022-10-16 17:50:27,774 - mmdet - INFO - Epoch [7][50/1337]\tlr: 2.621e-04, eta: 0:40:29, time: 0.518, data_time: 0.057, memory: 14415, loss_rpn_cls: 0.0016, loss_rpn_bbox: 0.0032, loss_cls: 0.0253, acc: 98.9814, loss_bbox: 0.0505, loss: 0.0806\n",
      "2022-10-16 17:50:51,275 - mmdet - INFO - Epoch [7][100/1337]\tlr: 2.621e-04, eta: 0:40:07, time: 0.470, data_time: 0.011, memory: 14415, loss_rpn_cls: 0.0006, loss_rpn_bbox: 0.0031, loss_cls: 0.0233, acc: 99.0176, loss_bbox: 0.0494, loss: 0.0764\n",
      "2022-10-16 17:51:14,920 - mmdet - INFO - Epoch [7][150/1337]\tlr: 2.621e-04, eta: 0:39:44, time: 0.473, data_time: 0.012, memory: 14415, loss_rpn_cls: 0.0009, loss_rpn_bbox: 0.0029, loss_cls: 0.0247, acc: 99.0117, loss_bbox: 0.0475, loss: 0.0759\n",
      "2022-10-16 17:51:38,501 - mmdet - INFO - Epoch [7][200/1337]\tlr: 2.621e-04, eta: 0:39:22, time: 0.472, data_time: 0.011, memory: 14415, loss_rpn_cls: 0.0008, loss_rpn_bbox: 0.0029, loss_cls: 0.0242, acc: 99.0098, loss_bbox: 0.0491, loss: 0.0770\n",
      "2022-10-16 17:52:02,263 - mmdet - INFO - Epoch [7][250/1337]\tlr: 2.621e-04, eta: 0:38:59, time: 0.475, data_time: 0.018, memory: 14415, loss_rpn_cls: 0.0009, loss_rpn_bbox: 0.0030, loss_cls: 0.0247, acc: 98.9834, loss_bbox: 0.0509, loss: 0.0795\n",
      "2022-10-16 17:52:25,995 - mmdet - INFO - Epoch [7][300/1337]\tlr: 2.621e-04, eta: 0:38:37, time: 0.475, data_time: 0.012, memory: 14415, loss_rpn_cls: 0.0012, loss_rpn_bbox: 0.0031, loss_cls: 0.0240, acc: 99.0361, loss_bbox: 0.0511, loss: 0.0794\n",
      "2022-10-16 17:52:50,166 - mmdet - INFO - Epoch [7][350/1337]\tlr: 2.621e-04, eta: 0:38:14, time: 0.483, data_time: 0.019, memory: 14415, loss_rpn_cls: 0.0010, loss_rpn_bbox: 0.0030, loss_cls: 0.0242, acc: 99.0088, loss_bbox: 0.0516, loss: 0.0798\n",
      "2022-10-16 17:53:13,741 - mmdet - INFO - Epoch [7][400/1337]\tlr: 2.621e-04, eta: 0:37:52, time: 0.471, data_time: 0.012, memory: 14415, loss_rpn_cls: 0.0013, loss_rpn_bbox: 0.0032, loss_cls: 0.0267, acc: 98.9600, loss_bbox: 0.0529, loss: 0.0841\n",
      "2022-10-16 17:53:37,347 - mmdet - INFO - Epoch [7][450/1337]\tlr: 2.621e-04, eta: 0:37:29, time: 0.472, data_time: 0.016, memory: 14415, loss_rpn_cls: 0.0009, loss_rpn_bbox: 0.0028, loss_cls: 0.0247, acc: 99.0146, loss_bbox: 0.0502, loss: 0.0786\n",
      "2022-10-16 17:54:01,034 - mmdet - INFO - Epoch [7][500/1337]\tlr: 2.621e-04, eta: 0:37:07, time: 0.474, data_time: 0.012, memory: 14415, loss_rpn_cls: 0.0013, loss_rpn_bbox: 0.0031, loss_cls: 0.0256, acc: 98.9580, loss_bbox: 0.0537, loss: 0.0837\n",
      "2022-10-16 17:54:24,936 - mmdet - INFO - Epoch [7][550/1337]\tlr: 2.621e-04, eta: 0:36:44, time: 0.478, data_time: 0.020, memory: 14415, loss_rpn_cls: 0.0007, loss_rpn_bbox: 0.0029, loss_cls: 0.0242, acc: 98.9961, loss_bbox: 0.0495, loss: 0.0774\n",
      "2022-10-16 17:54:48,463 - mmdet - INFO - Epoch [7][600/1337]\tlr: 2.621e-04, eta: 0:36:22, time: 0.471, data_time: 0.012, memory: 14415, loss_rpn_cls: 0.0008, loss_rpn_bbox: 0.0025, loss_cls: 0.0221, acc: 99.0762, loss_bbox: 0.0479, loss: 0.0733\n",
      "2022-10-16 17:55:12,480 - mmdet - INFO - Epoch [7][650/1337]\tlr: 2.621e-04, eta: 0:35:59, time: 0.480, data_time: 0.019, memory: 14415, loss_rpn_cls: 0.0014, loss_rpn_bbox: 0.0031, loss_cls: 0.0268, acc: 98.9453, loss_bbox: 0.0524, loss: 0.0838\n",
      "2022-10-16 17:55:36,243 - mmdet - INFO - Epoch [7][700/1337]\tlr: 2.621e-04, eta: 0:35:37, time: 0.475, data_time: 0.012, memory: 14415, loss_rpn_cls: 0.0011, loss_rpn_bbox: 0.0034, loss_cls: 0.0232, acc: 99.0859, loss_bbox: 0.0493, loss: 0.0771\n",
      "2022-10-16 17:56:00,215 - mmdet - INFO - Epoch [7][750/1337]\tlr: 2.621e-04, eta: 0:35:14, time: 0.479, data_time: 0.017, memory: 14415, loss_rpn_cls: 0.0012, loss_rpn_bbox: 0.0033, loss_cls: 0.0247, acc: 99.0068, loss_bbox: 0.0510, loss: 0.0802\n",
      "2022-10-16 17:56:23,864 - mmdet - INFO - Epoch [7][800/1337]\tlr: 2.621e-04, eta: 0:34:51, time: 0.473, data_time: 0.012, memory: 14415, loss_rpn_cls: 0.0019, loss_rpn_bbox: 0.0030, loss_cls: 0.0266, acc: 98.9316, loss_bbox: 0.0525, loss: 0.0839\n",
      "2022-10-16 17:56:47,659 - mmdet - INFO - Epoch [7][850/1337]\tlr: 2.621e-04, eta: 0:34:29, time: 0.476, data_time: 0.016, memory: 14415, loss_rpn_cls: 0.0008, loss_rpn_bbox: 0.0031, loss_cls: 0.0243, acc: 98.9805, loss_bbox: 0.0520, loss: 0.0801\n",
      "2022-10-16 17:57:11,187 - mmdet - INFO - Epoch [7][900/1337]\tlr: 2.621e-04, eta: 0:34:06, time: 0.471, data_time: 0.011, memory: 14415, loss_rpn_cls: 0.0011, loss_rpn_bbox: 0.0031, loss_cls: 0.0217, acc: 99.1172, loss_bbox: 0.0462, loss: 0.0720\n",
      "2022-10-16 17:57:35,164 - mmdet - INFO - Epoch [7][950/1337]\tlr: 2.621e-04, eta: 0:33:44, time: 0.480, data_time: 0.018, memory: 14415, loss_rpn_cls: 0.0009, loss_rpn_bbox: 0.0031, loss_cls: 0.0259, acc: 98.9531, loss_bbox: 0.0529, loss: 0.0829\n",
      "2022-10-16 17:57:58,651 - mmdet - INFO - Epoch [7][1000/1337]\tlr: 2.621e-04, eta: 0:33:21, time: 0.470, data_time: 0.012, memory: 14415, loss_rpn_cls: 0.0016, loss_rpn_bbox: 0.0029, loss_cls: 0.0237, acc: 99.0527, loss_bbox: 0.0480, loss: 0.0762\n",
      "2022-10-16 17:58:22,495 - mmdet - INFO - Epoch [7][1050/1337]\tlr: 2.621e-04, eta: 0:32:58, time: 0.477, data_time: 0.017, memory: 14415, loss_rpn_cls: 0.0011, loss_rpn_bbox: 0.0032, loss_cls: 0.0258, acc: 98.8916, loss_bbox: 0.0545, loss: 0.0847\n",
      "2022-10-16 17:58:46,021 - mmdet - INFO - Epoch [7][1100/1337]\tlr: 2.621e-04, eta: 0:32:35, time: 0.471, data_time: 0.012, memory: 14415, loss_rpn_cls: 0.0017, loss_rpn_bbox: 0.0033, loss_cls: 0.0250, acc: 98.9717, loss_bbox: 0.0525, loss: 0.0825\n",
      "2022-10-16 17:59:09,944 - mmdet - INFO - Epoch [7][1150/1337]\tlr: 2.621e-04, eta: 0:32:13, time: 0.478, data_time: 0.019, memory: 14415, loss_rpn_cls: 0.0017, loss_rpn_bbox: 0.0029, loss_cls: 0.0262, acc: 98.9629, loss_bbox: 0.0518, loss: 0.0826\n",
      "2022-10-16 17:59:33,556 - mmdet - INFO - Epoch [7][1200/1337]\tlr: 2.621e-04, eta: 0:31:50, time: 0.472, data_time: 0.012, memory: 14415, loss_rpn_cls: 0.0019, loss_rpn_bbox: 0.0029, loss_cls: 0.0229, acc: 99.0850, loss_bbox: 0.0479, loss: 0.0757\n",
      "2022-10-16 17:59:57,328 - mmdet - INFO - Epoch [7][1250/1337]\tlr: 2.621e-04, eta: 0:31:27, time: 0.475, data_time: 0.018, memory: 14415, loss_rpn_cls: 0.0015, loss_rpn_bbox: 0.0030, loss_cls: 0.0243, acc: 98.9785, loss_bbox: 0.0486, loss: 0.0773\n",
      "2022-10-16 18:00:20,911 - mmdet - INFO - Epoch [7][1300/1337]\tlr: 2.621e-04, eta: 0:31:05, time: 0.472, data_time: 0.012, memory: 14415, loss_rpn_cls: 0.0008, loss_rpn_bbox: 0.0028, loss_cls: 0.0246, acc: 99.0107, loss_bbox: 0.0499, loss: 0.0781\n",
      "2022-10-16 18:00:38,644 - mmdet - INFO - Saving checkpoint at 7 epochs\n"
     ]
    },
    {
     "name": "stdout",
     "output_type": "stream",
     "text": [
      "[>>>>>>>>>>>>>>>>>>>>>>>>>>>>>] 764/764, 18.5 task/s, elapsed: 41s, ETA:     0s"
     ]
    },
    {
     "name": "stderr",
     "output_type": "stream",
     "text": [
      "2022-10-16 18:01:21,838 - mmdet - INFO - Evaluating bbox...\n"
     ]
    },
    {
     "name": "stdout",
     "output_type": "stream",
     "text": [
      "Loading and preparing results...\n",
      "DONE (t=0.00s)\n",
      "creating index...\n",
      "index created!\n",
      "Running per image evaluation...\n",
      "Evaluate annotation type *bbox*\n"
     ]
    },
    {
     "name": "stderr",
     "output_type": "stream",
     "text": [
      "2022-10-16 18:01:22,031 - mmdet - INFO - \n",
      " Average Precision  (AP) @[ IoU=0.50:0.95 | area=   all | maxDets=100 ] = 0.690\n",
      " Average Precision  (AP) @[ IoU=0.50      | area=   all | maxDets=1000 ] = 0.978\n",
      " Average Precision  (AP) @[ IoU=0.75      | area=   all | maxDets=1000 ] = 0.855\n",
      " Average Precision  (AP) @[ IoU=0.50:0.95 | area= small | maxDets=1000 ] = 0.000\n",
      " Average Precision  (AP) @[ IoU=0.50:0.95 | area=medium | maxDets=1000 ] = 0.369\n",
      " Average Precision  (AP) @[ IoU=0.50:0.95 | area= large | maxDets=1000 ] = 0.703\n",
      " Average Recall     (AR) @[ IoU=0.50:0.95 | area=   all | maxDets=100 ] = 0.736\n",
      " Average Recall     (AR) @[ IoU=0.50:0.95 | area=   all | maxDets=300 ] = 0.736\n",
      " Average Recall     (AR) @[ IoU=0.50:0.95 | area=   all | maxDets=1000 ] = 0.736\n",
      " Average Recall     (AR) @[ IoU=0.50:0.95 | area= small | maxDets=1000 ] = 0.000\n",
      " Average Recall     (AR) @[ IoU=0.50:0.95 | area=medium | maxDets=1000 ] = 0.450\n",
      " Average Recall     (AR) @[ IoU=0.50:0.95 | area= large | maxDets=1000 ] = 0.750\n",
      "\n",
      "2022-10-16 18:01:22,040 - mmdet - INFO - Exp name: faster_rcnn_r50_fpn_2x_acino.py\n",
      "2022-10-16 18:01:22,042 - mmdet - INFO - Epoch(val) [7][764]\tbbox_mAP: 0.6900, bbox_mAP_50: 0.9780, bbox_mAP_75: 0.8550, bbox_mAP_s: 0.0000, bbox_mAP_m: 0.3690, bbox_mAP_l: 0.7030, bbox_mAP_copypaste: 0.690 0.978 0.855 0.000 0.369 0.703\n"
     ]
    },
    {
     "name": "stdout",
     "output_type": "stream",
     "text": [
      "DONE (t=0.15s).\n",
      "Accumulating evaluation results...\n",
      "DONE (t=0.04s).\n"
     ]
    },
    {
     "name": "stderr",
     "output_type": "stream",
     "text": [
      "2022-10-16 18:01:48,484 - mmdet - INFO - Epoch [8][50/1337]\tlr: 2.097e-04, eta: 0:30:18, time: 0.517, data_time: 0.057, memory: 14415, loss_rpn_cls: 0.0007, loss_rpn_bbox: 0.0028, loss_cls: 0.0223, acc: 99.1104, loss_bbox: 0.0469, loss: 0.0728\n",
      "2022-10-16 18:02:11,856 - mmdet - INFO - Epoch [8][100/1337]\tlr: 2.097e-04, eta: 0:29:56, time: 0.467, data_time: 0.011, memory: 14415, loss_rpn_cls: 0.0013, loss_rpn_bbox: 0.0029, loss_cls: 0.0232, acc: 99.0791, loss_bbox: 0.0473, loss: 0.0747\n",
      "2022-10-16 18:02:35,712 - mmdet - INFO - Epoch [8][150/1337]\tlr: 2.097e-04, eta: 0:29:33, time: 0.477, data_time: 0.015, memory: 14415, loss_rpn_cls: 0.0008, loss_rpn_bbox: 0.0030, loss_cls: 0.0252, acc: 99.0059, loss_bbox: 0.0499, loss: 0.0790\n",
      "2022-10-16 18:02:58,964 - mmdet - INFO - Epoch [8][200/1337]\tlr: 2.097e-04, eta: 0:29:10, time: 0.465, data_time: 0.011, memory: 14415, loss_rpn_cls: 0.0020, loss_rpn_bbox: 0.0032, loss_cls: 0.0252, acc: 98.9600, loss_bbox: 0.0507, loss: 0.0811\n",
      "2022-10-16 18:03:23,235 - mmdet - INFO - Epoch [8][250/1337]\tlr: 2.097e-04, eta: 0:28:48, time: 0.485, data_time: 0.024, memory: 14415, loss_rpn_cls: 0.0012, loss_rpn_bbox: 0.0028, loss_cls: 0.0231, acc: 99.0713, loss_bbox: 0.0479, loss: 0.0750\n",
      "2022-10-16 18:03:47,015 - mmdet - INFO - Epoch [8][300/1337]\tlr: 2.097e-04, eta: 0:28:25, time: 0.476, data_time: 0.012, memory: 14415, loss_rpn_cls: 0.0012, loss_rpn_bbox: 0.0027, loss_cls: 0.0233, acc: 99.0371, loss_bbox: 0.0485, loss: 0.0757\n",
      "2022-10-16 18:04:10,983 - mmdet - INFO - Epoch [8][350/1337]\tlr: 2.097e-04, eta: 0:28:03, time: 0.479, data_time: 0.017, memory: 14415, loss_rpn_cls: 0.0009, loss_rpn_bbox: 0.0032, loss_cls: 0.0263, acc: 98.9697, loss_bbox: 0.0505, loss: 0.0810\n",
      "2022-10-16 18:04:34,655 - mmdet - INFO - Epoch [8][400/1337]\tlr: 2.097e-04, eta: 0:27:40, time: 0.473, data_time: 0.012, memory: 14415, loss_rpn_cls: 0.0007, loss_rpn_bbox: 0.0030, loss_cls: 0.0232, acc: 99.0625, loss_bbox: 0.0484, loss: 0.0753\n",
      "2022-10-16 18:04:58,587 - mmdet - INFO - Epoch [8][450/1337]\tlr: 2.097e-04, eta: 0:27:17, time: 0.479, data_time: 0.018, memory: 14415, loss_rpn_cls: 0.0013, loss_rpn_bbox: 0.0027, loss_cls: 0.0247, acc: 99.0332, loss_bbox: 0.0501, loss: 0.0787\n",
      "2022-10-16 18:05:22,427 - mmdet - INFO - Epoch [8][500/1337]\tlr: 2.097e-04, eta: 0:26:54, time: 0.477, data_time: 0.012, memory: 14415, loss_rpn_cls: 0.0009, loss_rpn_bbox: 0.0028, loss_cls: 0.0232, acc: 99.0420, loss_bbox: 0.0483, loss: 0.0752\n",
      "2022-10-16 18:05:46,482 - mmdet - INFO - Epoch [8][550/1337]\tlr: 2.097e-04, eta: 0:26:32, time: 0.481, data_time: 0.017, memory: 14415, loss_rpn_cls: 0.0013, loss_rpn_bbox: 0.0030, loss_cls: 0.0262, acc: 98.9395, loss_bbox: 0.0525, loss: 0.0830\n",
      "2022-10-16 18:06:10,277 - mmdet - INFO - Epoch [8][600/1337]\tlr: 2.097e-04, eta: 0:26:09, time: 0.476, data_time: 0.012, memory: 14415, loss_rpn_cls: 0.0009, loss_rpn_bbox: 0.0029, loss_cls: 0.0213, acc: 99.0947, loss_bbox: 0.0486, loss: 0.0738\n",
      "2022-10-16 18:06:34,413 - mmdet - INFO - Epoch [8][650/1337]\tlr: 2.097e-04, eta: 0:25:46, time: 0.483, data_time: 0.021, memory: 14415, loss_rpn_cls: 0.0010, loss_rpn_bbox: 0.0027, loss_cls: 0.0255, acc: 99.0000, loss_bbox: 0.0505, loss: 0.0798\n",
      "2022-10-16 18:06:58,064 - mmdet - INFO - Epoch [8][700/1337]\tlr: 2.097e-04, eta: 0:25:24, time: 0.473, data_time: 0.012, memory: 14415, loss_rpn_cls: 0.0008, loss_rpn_bbox: 0.0032, loss_cls: 0.0238, acc: 99.0117, loss_bbox: 0.0500, loss: 0.0778\n",
      "2022-10-16 18:07:21,946 - mmdet - INFO - Epoch [8][750/1337]\tlr: 2.097e-04, eta: 0:25:01, time: 0.478, data_time: 0.019, memory: 14415, loss_rpn_cls: 0.0011, loss_rpn_bbox: 0.0030, loss_cls: 0.0258, acc: 98.9609, loss_bbox: 0.0480, loss: 0.0780\n",
      "2022-10-16 18:07:45,576 - mmdet - INFO - Epoch [8][800/1337]\tlr: 2.097e-04, eta: 0:24:38, time: 0.473, data_time: 0.012, memory: 14415, loss_rpn_cls: 0.0016, loss_rpn_bbox: 0.0027, loss_cls: 0.0254, acc: 98.9639, loss_bbox: 0.0505, loss: 0.0802\n",
      "2022-10-16 18:08:09,591 - mmdet - INFO - Epoch [8][850/1337]\tlr: 2.097e-04, eta: 0:24:15, time: 0.480, data_time: 0.018, memory: 14415, loss_rpn_cls: 0.0014, loss_rpn_bbox: 0.0030, loss_cls: 0.0242, acc: 99.0264, loss_bbox: 0.0511, loss: 0.0797\n",
      "2022-10-16 18:08:33,471 - mmdet - INFO - Epoch [8][900/1337]\tlr: 2.097e-04, eta: 0:23:53, time: 0.478, data_time: 0.012, memory: 14415, loss_rpn_cls: 0.0007, loss_rpn_bbox: 0.0030, loss_cls: 0.0225, acc: 99.0684, loss_bbox: 0.0476, loss: 0.0738\n",
      "2022-10-16 18:08:57,915 - mmdet - INFO - Epoch [8][950/1337]\tlr: 2.097e-04, eta: 0:23:30, time: 0.489, data_time: 0.020, memory: 14415, loss_rpn_cls: 0.0013, loss_rpn_bbox: 0.0029, loss_cls: 0.0243, acc: 99.0469, loss_bbox: 0.0484, loss: 0.0769\n",
      "2022-10-16 18:09:21,841 - mmdet - INFO - Epoch [8][1000/1337]\tlr: 2.097e-04, eta: 0:23:07, time: 0.479, data_time: 0.012, memory: 14415, loss_rpn_cls: 0.0007, loss_rpn_bbox: 0.0029, loss_cls: 0.0224, acc: 99.0664, loss_bbox: 0.0477, loss: 0.0737\n",
      "2022-10-16 18:09:45,964 - mmdet - INFO - Epoch [8][1050/1337]\tlr: 2.097e-04, eta: 0:22:44, time: 0.482, data_time: 0.019, memory: 14415, loss_rpn_cls: 0.0006, loss_rpn_bbox: 0.0026, loss_cls: 0.0232, acc: 99.0791, loss_bbox: 0.0472, loss: 0.0736\n",
      "2022-10-16 18:10:09,386 - mmdet - INFO - Epoch [8][1100/1337]\tlr: 2.097e-04, eta: 0:22:22, time: 0.468, data_time: 0.012, memory: 14415, loss_rpn_cls: 0.0007, loss_rpn_bbox: 0.0031, loss_cls: 0.0228, acc: 99.0264, loss_bbox: 0.0480, loss: 0.0747\n",
      "2022-10-16 18:10:33,609 - mmdet - INFO - Epoch [8][1150/1337]\tlr: 2.097e-04, eta: 0:21:59, time: 0.484, data_time: 0.020, memory: 14415, loss_rpn_cls: 0.0007, loss_rpn_bbox: 0.0028, loss_cls: 0.0243, acc: 99.0186, loss_bbox: 0.0473, loss: 0.0752\n",
      "2022-10-16 18:10:57,447 - mmdet - INFO - Epoch [8][1200/1337]\tlr: 2.097e-04, eta: 0:21:36, time: 0.477, data_time: 0.013, memory: 14415, loss_rpn_cls: 0.0005, loss_rpn_bbox: 0.0027, loss_cls: 0.0249, acc: 99.0312, loss_bbox: 0.0527, loss: 0.0808\n",
      "2022-10-16 18:11:21,448 - mmdet - INFO - Epoch [8][1250/1337]\tlr: 2.097e-04, eta: 0:21:13, time: 0.480, data_time: 0.018, memory: 14415, loss_rpn_cls: 0.0012, loss_rpn_bbox: 0.0033, loss_cls: 0.0237, acc: 99.0781, loss_bbox: 0.0471, loss: 0.0753\n",
      "2022-10-16 18:11:45,375 - mmdet - INFO - Epoch [8][1300/1337]\tlr: 2.097e-04, eta: 0:20:50, time: 0.479, data_time: 0.012, memory: 14415, loss_rpn_cls: 0.0018, loss_rpn_bbox: 0.0032, loss_cls: 0.0243, acc: 99.0176, loss_bbox: 0.0483, loss: 0.0777\n",
      "2022-10-16 18:12:03,154 - mmdet - INFO - Saving checkpoint at 8 epochs\n"
     ]
    },
    {
     "name": "stdout",
     "output_type": "stream",
     "text": [
      "[>>>>>>>>>>>>>>>>>>>>>>>>>>>>>] 764/764, 18.3 task/s, elapsed: 42s, ETA:     0s"
     ]
    },
    {
     "name": "stderr",
     "output_type": "stream",
     "text": [
      "2022-10-16 18:12:47,082 - mmdet - INFO - Evaluating bbox...\n"
     ]
    },
    {
     "name": "stdout",
     "output_type": "stream",
     "text": [
      "Loading and preparing results...\n",
      "DONE (t=0.00s)\n",
      "creating index...\n",
      "index created!\n",
      "Running per image evaluation...\n",
      "Evaluate annotation type *bbox*\n",
      "DONE (t=0.16s).\n",
      "Accumulating evaluation results...\n"
     ]
    },
    {
     "name": "stderr",
     "output_type": "stream",
     "text": [
      "2022-10-16 18:12:47,293 - mmdet - INFO - \n",
      " Average Precision  (AP) @[ IoU=0.50:0.95 | area=   all | maxDets=100 ] = 0.706\n",
      " Average Precision  (AP) @[ IoU=0.50      | area=   all | maxDets=1000 ] = 0.979\n",
      " Average Precision  (AP) @[ IoU=0.75      | area=   all | maxDets=1000 ] = 0.877\n",
      " Average Precision  (AP) @[ IoU=0.50:0.95 | area= small | maxDets=1000 ] = 0.000\n",
      " Average Precision  (AP) @[ IoU=0.50:0.95 | area=medium | maxDets=1000 ] = 0.464\n",
      " Average Precision  (AP) @[ IoU=0.50:0.95 | area= large | maxDets=1000 ] = 0.719\n",
      " Average Recall     (AR) @[ IoU=0.50:0.95 | area=   all | maxDets=100 ] = 0.754\n",
      " Average Recall     (AR) @[ IoU=0.50:0.95 | area=   all | maxDets=300 ] = 0.754\n",
      " Average Recall     (AR) @[ IoU=0.50:0.95 | area=   all | maxDets=1000 ] = 0.754\n",
      " Average Recall     (AR) @[ IoU=0.50:0.95 | area= small | maxDets=1000 ] = 0.000\n",
      " Average Recall     (AR) @[ IoU=0.50:0.95 | area=medium | maxDets=1000 ] = 0.539\n",
      " Average Recall     (AR) @[ IoU=0.50:0.95 | area= large | maxDets=1000 ] = 0.766\n",
      "\n",
      "2022-10-16 18:12:47,301 - mmdet - INFO - Exp name: faster_rcnn_r50_fpn_2x_acino.py\n",
      "2022-10-16 18:12:47,303 - mmdet - INFO - Epoch(val) [8][764]\tbbox_mAP: 0.7060, bbox_mAP_50: 0.9790, bbox_mAP_75: 0.8770, bbox_mAP_s: 0.0000, bbox_mAP_m: 0.4640, bbox_mAP_l: 0.7190, bbox_mAP_copypaste: 0.706 0.979 0.877 0.000 0.464 0.719\n"
     ]
    },
    {
     "name": "stdout",
     "output_type": "stream",
     "text": [
      "DONE (t=0.04s).\n"
     ]
    },
    {
     "name": "stderr",
     "output_type": "stream",
     "text": [
      "2022-10-16 18:13:14,143 - mmdet - INFO - Epoch [9][50/1337]\tlr: 1.678e-04, eta: 0:20:07, time: 0.526, data_time: 0.059, memory: 14415, loss_rpn_cls: 0.0017, loss_rpn_bbox: 0.0029, loss_cls: 0.0219, acc: 99.1543, loss_bbox: 0.0433, loss: 0.0698\n",
      "2022-10-16 18:13:38,002 - mmdet - INFO - Epoch [9][100/1337]\tlr: 1.678e-04, eta: 0:19:44, time: 0.477, data_time: 0.012, memory: 14415, loss_rpn_cls: 0.0010, loss_rpn_bbox: 0.0025, loss_cls: 0.0217, acc: 99.1348, loss_bbox: 0.0457, loss: 0.0710\n",
      "2022-10-16 18:14:02,042 - mmdet - INFO - Epoch [9][150/1337]\tlr: 1.678e-04, eta: 0:19:21, time: 0.481, data_time: 0.018, memory: 14415, loss_rpn_cls: 0.0012, loss_rpn_bbox: 0.0031, loss_cls: 0.0251, acc: 99.0146, loss_bbox: 0.0462, loss: 0.0756\n",
      "2022-10-16 18:14:25,686 - mmdet - INFO - Epoch [9][200/1337]\tlr: 1.678e-04, eta: 0:18:58, time: 0.473, data_time: 0.012, memory: 14415, loss_rpn_cls: 0.0009, loss_rpn_bbox: 0.0030, loss_cls: 0.0241, acc: 98.9727, loss_bbox: 0.0482, loss: 0.0763\n",
      "2022-10-16 18:14:50,055 - mmdet - INFO - Epoch [9][250/1337]\tlr: 1.678e-04, eta: 0:18:36, time: 0.487, data_time: 0.020, memory: 14415, loss_rpn_cls: 0.0008, loss_rpn_bbox: 0.0032, loss_cls: 0.0228, acc: 99.0635, loss_bbox: 0.0447, loss: 0.0716\n",
      "2022-10-16 18:15:13,876 - mmdet - INFO - Epoch [9][300/1337]\tlr: 1.678e-04, eta: 0:18:13, time: 0.476, data_time: 0.012, memory: 14415, loss_rpn_cls: 0.0015, loss_rpn_bbox: 0.0030, loss_cls: 0.0226, acc: 99.0723, loss_bbox: 0.0453, loss: 0.0724\n",
      "2022-10-16 18:15:38,079 - mmdet - INFO - Epoch [9][350/1337]\tlr: 1.678e-04, eta: 0:17:50, time: 0.484, data_time: 0.018, memory: 14415, loss_rpn_cls: 0.0011, loss_rpn_bbox: 0.0027, loss_cls: 0.0264, acc: 98.9795, loss_bbox: 0.0516, loss: 0.0818\n",
      "2022-10-16 18:16:02,133 - mmdet - INFO - Epoch [9][400/1337]\tlr: 1.678e-04, eta: 0:17:27, time: 0.481, data_time: 0.012, memory: 14415, loss_rpn_cls: 0.0014, loss_rpn_bbox: 0.0031, loss_cls: 0.0241, acc: 99.0283, loss_bbox: 0.0473, loss: 0.0760\n",
      "2022-10-16 18:16:25,957 - mmdet - INFO - Epoch [9][450/1337]\tlr: 1.678e-04, eta: 0:17:04, time: 0.476, data_time: 0.017, memory: 14415, loss_rpn_cls: 0.0006, loss_rpn_bbox: 0.0026, loss_cls: 0.0230, acc: 99.0439, loss_bbox: 0.0474, loss: 0.0735\n",
      "2022-10-16 18:16:49,605 - mmdet - INFO - Epoch [9][500/1337]\tlr: 1.678e-04, eta: 0:16:41, time: 0.473, data_time: 0.012, memory: 14415, loss_rpn_cls: 0.0014, loss_rpn_bbox: 0.0029, loss_cls: 0.0238, acc: 99.0537, loss_bbox: 0.0486, loss: 0.0766\n",
      "2022-10-16 18:17:13,516 - mmdet - INFO - Epoch [9][550/1337]\tlr: 1.678e-04, eta: 0:16:18, time: 0.478, data_time: 0.019, memory: 14415, loss_rpn_cls: 0.0007, loss_rpn_bbox: 0.0026, loss_cls: 0.0219, acc: 99.0762, loss_bbox: 0.0458, loss: 0.0710\n",
      "2022-10-16 18:17:37,336 - mmdet - INFO - Epoch [9][600/1337]\tlr: 1.678e-04, eta: 0:15:56, time: 0.476, data_time: 0.012, memory: 14415, loss_rpn_cls: 0.0010, loss_rpn_bbox: 0.0030, loss_cls: 0.0231, acc: 99.0420, loss_bbox: 0.0460, loss: 0.0731\n",
      "2022-10-16 18:18:01,312 - mmdet - INFO - Epoch [9][650/1337]\tlr: 1.678e-04, eta: 0:15:33, time: 0.479, data_time: 0.018, memory: 14415, loss_rpn_cls: 0.0019, loss_rpn_bbox: 0.0032, loss_cls: 0.0264, acc: 98.9795, loss_bbox: 0.0503, loss: 0.0818\n",
      "2022-10-16 18:18:25,189 - mmdet - INFO - Epoch [9][700/1337]\tlr: 1.678e-04, eta: 0:15:10, time: 0.478, data_time: 0.012, memory: 14415, loss_rpn_cls: 0.0005, loss_rpn_bbox: 0.0026, loss_cls: 0.0217, acc: 99.0908, loss_bbox: 0.0454, loss: 0.0703\n",
      "2022-10-16 18:18:49,289 - mmdet - INFO - Epoch [9][750/1337]\tlr: 1.678e-04, eta: 0:14:47, time: 0.482, data_time: 0.019, memory: 14415, loss_rpn_cls: 0.0009, loss_rpn_bbox: 0.0027, loss_cls: 0.0232, acc: 99.0527, loss_bbox: 0.0488, loss: 0.0756\n",
      "2022-10-16 18:19:13,026 - mmdet - INFO - Epoch [9][800/1337]\tlr: 1.678e-04, eta: 0:14:24, time: 0.475, data_time: 0.012, memory: 14415, loss_rpn_cls: 0.0021, loss_rpn_bbox: 0.0030, loss_cls: 0.0246, acc: 99.0322, loss_bbox: 0.0482, loss: 0.0779\n",
      "2022-10-16 18:19:36,969 - mmdet - INFO - Epoch [9][850/1337]\tlr: 1.678e-04, eta: 0:14:01, time: 0.479, data_time: 0.018, memory: 14415, loss_rpn_cls: 0.0010, loss_rpn_bbox: 0.0034, loss_cls: 0.0259, acc: 98.9453, loss_bbox: 0.0535, loss: 0.0837\n",
      "2022-10-16 18:20:00,687 - mmdet - INFO - Epoch [9][900/1337]\tlr: 1.678e-04, eta: 0:13:38, time: 0.474, data_time: 0.012, memory: 14415, loss_rpn_cls: 0.0007, loss_rpn_bbox: 0.0030, loss_cls: 0.0236, acc: 99.0459, loss_bbox: 0.0472, loss: 0.0744\n",
      "2022-10-16 18:20:24,575 - mmdet - INFO - Epoch [9][950/1337]\tlr: 1.678e-04, eta: 0:13:15, time: 0.478, data_time: 0.016, memory: 14415, loss_rpn_cls: 0.0012, loss_rpn_bbox: 0.0026, loss_cls: 0.0236, acc: 99.0049, loss_bbox: 0.0468, loss: 0.0742\n",
      "2022-10-16 18:20:48,210 - mmdet - INFO - Epoch [9][1000/1337]\tlr: 1.678e-04, eta: 0:12:52, time: 0.473, data_time: 0.012, memory: 14415, loss_rpn_cls: 0.0010, loss_rpn_bbox: 0.0029, loss_cls: 0.0251, acc: 98.9795, loss_bbox: 0.0498, loss: 0.0788\n",
      "2022-10-16 18:21:12,172 - mmdet - INFO - Epoch [9][1050/1337]\tlr: 1.678e-04, eta: 0:12:29, time: 0.479, data_time: 0.016, memory: 14415, loss_rpn_cls: 0.0009, loss_rpn_bbox: 0.0024, loss_cls: 0.0214, acc: 99.1318, loss_bbox: 0.0475, loss: 0.0723\n",
      "2022-10-16 18:21:35,746 - mmdet - INFO - Epoch [9][1100/1337]\tlr: 1.678e-04, eta: 0:12:06, time: 0.471, data_time: 0.012, memory: 14415, loss_rpn_cls: 0.0010, loss_rpn_bbox: 0.0028, loss_cls: 0.0216, acc: 99.1211, loss_bbox: 0.0463, loss: 0.0718\n",
      "2022-10-16 18:21:59,817 - mmdet - INFO - Epoch [9][1150/1337]\tlr: 1.678e-04, eta: 0:11:43, time: 0.481, data_time: 0.017, memory: 14415, loss_rpn_cls: 0.0008, loss_rpn_bbox: 0.0028, loss_cls: 0.0215, acc: 99.1562, loss_bbox: 0.0447, loss: 0.0697\n",
      "2022-10-16 18:22:23,786 - mmdet - INFO - Epoch [9][1200/1337]\tlr: 1.678e-04, eta: 0:11:20, time: 0.479, data_time: 0.012, memory: 14415, loss_rpn_cls: 0.0009, loss_rpn_bbox: 0.0026, loss_cls: 0.0229, acc: 99.0674, loss_bbox: 0.0466, loss: 0.0730\n",
      "2022-10-16 18:22:47,937 - mmdet - INFO - Epoch [9][1250/1337]\tlr: 1.678e-04, eta: 0:10:57, time: 0.483, data_time: 0.019, memory: 14415, loss_rpn_cls: 0.0011, loss_rpn_bbox: 0.0027, loss_cls: 0.0234, acc: 99.0459, loss_bbox: 0.0500, loss: 0.0772\n",
      "2022-10-16 18:23:11,722 - mmdet - INFO - Epoch [9][1300/1337]\tlr: 1.678e-04, eta: 0:10:34, time: 0.476, data_time: 0.012, memory: 14415, loss_rpn_cls: 0.0008, loss_rpn_bbox: 0.0024, loss_cls: 0.0235, acc: 99.0195, loss_bbox: 0.0478, loss: 0.0745\n",
      "2022-10-16 18:23:29,620 - mmdet - INFO - Saving checkpoint at 9 epochs\n"
     ]
    },
    {
     "name": "stdout",
     "output_type": "stream",
     "text": [
      "[>>>>>>>>>>>>>>>>>>>>>>>>>>>>>] 764/764, 18.3 task/s, elapsed: 42s, ETA:     0s"
     ]
    },
    {
     "name": "stderr",
     "output_type": "stream",
     "text": [
      "2022-10-16 18:24:13,050 - mmdet - INFO - Evaluating bbox...\n"
     ]
    },
    {
     "name": "stdout",
     "output_type": "stream",
     "text": [
      "Loading and preparing results...\n",
      "DONE (t=0.00s)\n",
      "creating index...\n",
      "index created!\n",
      "Running per image evaluation...\n",
      "Evaluate annotation type *bbox*\n"
     ]
    },
    {
     "name": "stderr",
     "output_type": "stream",
     "text": [
      "2022-10-16 18:24:13,250 - mmdet - INFO - \n",
      " Average Precision  (AP) @[ IoU=0.50:0.95 | area=   all | maxDets=100 ] = 0.724\n",
      " Average Precision  (AP) @[ IoU=0.50      | area=   all | maxDets=1000 ] = 0.978\n",
      " Average Precision  (AP) @[ IoU=0.75      | area=   all | maxDets=1000 ] = 0.877\n",
      " Average Precision  (AP) @[ IoU=0.50:0.95 | area= small | maxDets=1000 ] = 0.000\n",
      " Average Precision  (AP) @[ IoU=0.50:0.95 | area=medium | maxDets=1000 ] = 0.431\n",
      " Average Precision  (AP) @[ IoU=0.50:0.95 | area= large | maxDets=1000 ] = 0.735\n",
      " Average Recall     (AR) @[ IoU=0.50:0.95 | area=   all | maxDets=100 ] = 0.773\n",
      " Average Recall     (AR) @[ IoU=0.50:0.95 | area=   all | maxDets=300 ] = 0.773\n",
      " Average Recall     (AR) @[ IoU=0.50:0.95 | area=   all | maxDets=1000 ] = 0.773\n",
      " Average Recall     (AR) @[ IoU=0.50:0.95 | area= small | maxDets=1000 ] = 0.000\n",
      " Average Recall     (AR) @[ IoU=0.50:0.95 | area=medium | maxDets=1000 ] = 0.517\n",
      " Average Recall     (AR) @[ IoU=0.50:0.95 | area= large | maxDets=1000 ] = 0.786\n",
      "\n",
      "2022-10-16 18:24:13,257 - mmdet - INFO - Exp name: faster_rcnn_r50_fpn_2x_acino.py\n"
     ]
    },
    {
     "name": "stdout",
     "output_type": "stream",
     "text": [
      "DONE (t=0.16s).\n",
      "Accumulating evaluation results...\n",
      "DONE (t=0.04s).\n"
     ]
    },
    {
     "name": "stderr",
     "output_type": "stream",
     "text": [
      "2022-10-16 18:24:13,259 - mmdet - INFO - Epoch(val) [9][764]\tbbox_mAP: 0.7240, bbox_mAP_50: 0.9780, bbox_mAP_75: 0.8770, bbox_mAP_s: 0.0000, bbox_mAP_m: 0.4310, bbox_mAP_l: 0.7350, bbox_mAP_copypaste: 0.724 0.978 0.877 0.000 0.431 0.735\n",
      "2022-10-16 18:24:39,501 - mmdet - INFO - Epoch [10][50/1337]\tlr: 1.342e-04, eta: 0:09:53, time: 0.517, data_time: 0.057, memory: 14415, loss_rpn_cls: 0.0008, loss_rpn_bbox: 0.0028, loss_cls: 0.0202, acc: 99.1484, loss_bbox: 0.0438, loss: 0.0676\n",
      "2022-10-16 18:25:02,968 - mmdet - INFO - Epoch [10][100/1337]\tlr: 1.342e-04, eta: 0:09:30, time: 0.469, data_time: 0.011, memory: 14415, loss_rpn_cls: 0.0010, loss_rpn_bbox: 0.0030, loss_cls: 0.0249, acc: 98.9893, loss_bbox: 0.0492, loss: 0.0782\n",
      "2022-10-16 18:25:27,102 - mmdet - INFO - Epoch [10][150/1337]\tlr: 1.342e-04, eta: 0:09:07, time: 0.483, data_time: 0.021, memory: 14415, loss_rpn_cls: 0.0016, loss_rpn_bbox: 0.0027, loss_cls: 0.0224, acc: 99.1055, loss_bbox: 0.0455, loss: 0.0722\n",
      "2022-10-16 18:25:50,625 - mmdet - INFO - Epoch [10][200/1337]\tlr: 1.342e-04, eta: 0:08:44, time: 0.470, data_time: 0.012, memory: 14415, loss_rpn_cls: 0.0010, loss_rpn_bbox: 0.0024, loss_cls: 0.0226, acc: 99.0898, loss_bbox: 0.0441, loss: 0.0701\n",
      "2022-10-16 18:26:14,382 - mmdet - INFO - Epoch [10][250/1337]\tlr: 1.342e-04, eta: 0:08:21, time: 0.475, data_time: 0.016, memory: 14415, loss_rpn_cls: 0.0009, loss_rpn_bbox: 0.0027, loss_cls: 0.0238, acc: 99.0771, loss_bbox: 0.0451, loss: 0.0726\n",
      "2022-10-16 18:26:38,037 - mmdet - INFO - Epoch [10][300/1337]\tlr: 1.342e-04, eta: 0:07:58, time: 0.473, data_time: 0.012, memory: 14415, loss_rpn_cls: 0.0013, loss_rpn_bbox: 0.0028, loss_cls: 0.0239, acc: 98.9854, loss_bbox: 0.0475, loss: 0.0755\n",
      "2022-10-16 18:27:02,192 - mmdet - INFO - Epoch [10][350/1337]\tlr: 1.342e-04, eta: 0:07:35, time: 0.483, data_time: 0.020, memory: 14415, loss_rpn_cls: 0.0010, loss_rpn_bbox: 0.0029, loss_cls: 0.0218, acc: 99.1250, loss_bbox: 0.0461, loss: 0.0719\n",
      "2022-10-16 18:27:25,916 - mmdet - INFO - Epoch [10][400/1337]\tlr: 1.342e-04, eta: 0:07:12, time: 0.474, data_time: 0.012, memory: 14415, loss_rpn_cls: 0.0010, loss_rpn_bbox: 0.0027, loss_cls: 0.0236, acc: 99.0596, loss_bbox: 0.0460, loss: 0.0733\n",
      "2022-10-16 18:27:50,105 - mmdet - INFO - Epoch [10][450/1337]\tlr: 1.342e-04, eta: 0:06:49, time: 0.484, data_time: 0.020, memory: 14415, loss_rpn_cls: 0.0006, loss_rpn_bbox: 0.0025, loss_cls: 0.0213, acc: 99.0820, loss_bbox: 0.0442, loss: 0.0686\n",
      "2022-10-16 18:28:13,829 - mmdet - INFO - Epoch [10][500/1337]\tlr: 1.342e-04, eta: 0:06:26, time: 0.474, data_time: 0.012, memory: 14415, loss_rpn_cls: 0.0007, loss_rpn_bbox: 0.0028, loss_cls: 0.0216, acc: 99.1338, loss_bbox: 0.0438, loss: 0.0689\n",
      "2022-10-16 18:28:37,512 - mmdet - INFO - Epoch [10][550/1337]\tlr: 1.342e-04, eta: 0:06:03, time: 0.474, data_time: 0.018, memory: 14415, loss_rpn_cls: 0.0010, loss_rpn_bbox: 0.0027, loss_cls: 0.0242, acc: 99.0625, loss_bbox: 0.0458, loss: 0.0736\n",
      "2022-10-16 18:29:00,868 - mmdet - INFO - Epoch [10][600/1337]\tlr: 1.342e-04, eta: 0:05:40, time: 0.467, data_time: 0.012, memory: 14415, loss_rpn_cls: 0.0011, loss_rpn_bbox: 0.0026, loss_cls: 0.0223, acc: 99.1318, loss_bbox: 0.0445, loss: 0.0705\n",
      "2022-10-16 18:29:24,757 - mmdet - INFO - Epoch [10][650/1337]\tlr: 1.342e-04, eta: 0:05:17, time: 0.478, data_time: 0.018, memory: 14415, loss_rpn_cls: 0.0009, loss_rpn_bbox: 0.0029, loss_cls: 0.0206, acc: 99.1270, loss_bbox: 0.0466, loss: 0.0710\n",
      "2022-10-16 18:29:48,451 - mmdet - INFO - Epoch [10][700/1337]\tlr: 1.342e-04, eta: 0:04:53, time: 0.474, data_time: 0.012, memory: 14415, loss_rpn_cls: 0.0012, loss_rpn_bbox: 0.0030, loss_cls: 0.0258, acc: 98.9316, loss_bbox: 0.0501, loss: 0.0801\n",
      "2022-10-16 18:30:12,417 - mmdet - INFO - Epoch [10][750/1337]\tlr: 1.342e-04, eta: 0:04:30, time: 0.479, data_time: 0.019, memory: 14415, loss_rpn_cls: 0.0006, loss_rpn_bbox: 0.0028, loss_cls: 0.0229, acc: 99.0557, loss_bbox: 0.0474, loss: 0.0736\n",
      "2022-10-16 18:30:36,156 - mmdet - INFO - Epoch [10][800/1337]\tlr: 1.342e-04, eta: 0:04:07, time: 0.475, data_time: 0.013, memory: 14415, loss_rpn_cls: 0.0011, loss_rpn_bbox: 0.0027, loss_cls: 0.0219, acc: 99.1084, loss_bbox: 0.0444, loss: 0.0701\n",
      "2022-10-16 18:31:00,347 - mmdet - INFO - Epoch [10][850/1337]\tlr: 1.342e-04, eta: 0:03:44, time: 0.484, data_time: 0.020, memory: 14415, loss_rpn_cls: 0.0005, loss_rpn_bbox: 0.0025, loss_cls: 0.0215, acc: 99.1084, loss_bbox: 0.0443, loss: 0.0689\n",
      "2022-10-16 18:31:24,009 - mmdet - INFO - Epoch [10][900/1337]\tlr: 1.342e-04, eta: 0:03:21, time: 0.473, data_time: 0.012, memory: 14415, loss_rpn_cls: 0.0010, loss_rpn_bbox: 0.0028, loss_cls: 0.0229, acc: 99.0596, loss_bbox: 0.0449, loss: 0.0716\n",
      "2022-10-16 18:31:48,234 - mmdet - INFO - Epoch [10][950/1337]\tlr: 1.342e-04, eta: 0:02:58, time: 0.485, data_time: 0.018, memory: 14415, loss_rpn_cls: 0.0007, loss_rpn_bbox: 0.0028, loss_cls: 0.0243, acc: 99.0137, loss_bbox: 0.0475, loss: 0.0753\n",
      "2022-10-16 18:32:11,998 - mmdet - INFO - Epoch [10][1000/1337]\tlr: 1.342e-04, eta: 0:02:35, time: 0.475, data_time: 0.012, memory: 14415, loss_rpn_cls: 0.0009, loss_rpn_bbox: 0.0029, loss_cls: 0.0218, acc: 99.1152, loss_bbox: 0.0431, loss: 0.0686\n",
      "2022-10-16 18:32:36,290 - mmdet - INFO - Epoch [10][1050/1337]\tlr: 1.342e-04, eta: 0:02:12, time: 0.486, data_time: 0.019, memory: 14415, loss_rpn_cls: 0.0012, loss_rpn_bbox: 0.0029, loss_cls: 0.0255, acc: 99.0371, loss_bbox: 0.0468, loss: 0.0765\n",
      "2022-10-16 18:33:00,089 - mmdet - INFO - Epoch [10][1100/1337]\tlr: 1.342e-04, eta: 0:01:49, time: 0.476, data_time: 0.012, memory: 14415, loss_rpn_cls: 0.0008, loss_rpn_bbox: 0.0031, loss_cls: 0.0248, acc: 99.0059, loss_bbox: 0.0493, loss: 0.0779\n",
      "2022-10-16 18:33:24,399 - mmdet - INFO - Epoch [10][1150/1337]\tlr: 1.342e-04, eta: 0:01:26, time: 0.486, data_time: 0.020, memory: 14415, loss_rpn_cls: 0.0016, loss_rpn_bbox: 0.0027, loss_cls: 0.0218, acc: 99.1221, loss_bbox: 0.0467, loss: 0.0728\n",
      "2022-10-16 18:33:48,202 - mmdet - INFO - Epoch [10][1200/1337]\tlr: 1.342e-04, eta: 0:01:03, time: 0.476, data_time: 0.012, memory: 14415, loss_rpn_cls: 0.0007, loss_rpn_bbox: 0.0025, loss_cls: 0.0221, acc: 99.0918, loss_bbox: 0.0461, loss: 0.0714\n",
      "2022-10-16 18:34:12,261 - mmdet - INFO - Epoch [10][1250/1337]\tlr: 1.342e-04, eta: 0:00:40, time: 0.481, data_time: 0.017, memory: 14415, loss_rpn_cls: 0.0013, loss_rpn_bbox: 0.0029, loss_cls: 0.0229, acc: 99.0947, loss_bbox: 0.0470, loss: 0.0741\n",
      "2022-10-16 18:34:36,357 - mmdet - INFO - Epoch [10][1300/1337]\tlr: 1.342e-04, eta: 0:00:17, time: 0.482, data_time: 0.012, memory: 14415, loss_rpn_cls: 0.0019, loss_rpn_bbox: 0.0028, loss_cls: 0.0256, acc: 99.0098, loss_bbox: 0.0475, loss: 0.0777\n",
      "2022-10-16 18:34:54,300 - mmdet - INFO - Saving checkpoint at 10 epochs\n"
     ]
    },
    {
     "name": "stdout",
     "output_type": "stream",
     "text": [
      "[>>>>>>>>>>>>>>>>>>>>>>>>>>>>>] 764/764, 18.3 task/s, elapsed: 42s, ETA:     0s"
     ]
    },
    {
     "name": "stderr",
     "output_type": "stream",
     "text": [
      "2022-10-16 18:35:37,772 - mmdet - INFO - Evaluating bbox...\n"
     ]
    },
    {
     "name": "stdout",
     "output_type": "stream",
     "text": [
      "Loading and preparing results...\n",
      "DONE (t=0.00s)\n",
      "creating index...\n",
      "index created!\n",
      "Running per image evaluation...\n",
      "Evaluate annotation type *bbox*\n",
      "DONE (t=0.17s).\n",
      "Accumulating evaluation results...\n"
     ]
    },
    {
     "name": "stderr",
     "output_type": "stream",
     "text": [
      "2022-10-16 18:35:37,988 - mmdet - INFO - \n",
      " Average Precision  (AP) @[ IoU=0.50:0.95 | area=   all | maxDets=100 ] = 0.718\n",
      " Average Precision  (AP) @[ IoU=0.50      | area=   all | maxDets=1000 ] = 0.979\n",
      " Average Precision  (AP) @[ IoU=0.75      | area=   all | maxDets=1000 ] = 0.867\n",
      " Average Precision  (AP) @[ IoU=0.50:0.95 | area= small | maxDets=1000 ] = 0.000\n",
      " Average Precision  (AP) @[ IoU=0.50:0.95 | area=medium | maxDets=1000 ] = 0.410\n",
      " Average Precision  (AP) @[ IoU=0.50:0.95 | area= large | maxDets=1000 ] = 0.733\n",
      " Average Recall     (AR) @[ IoU=0.50:0.95 | area=   all | maxDets=100 ] = 0.765\n",
      " Average Recall     (AR) @[ IoU=0.50:0.95 | area=   all | maxDets=300 ] = 0.765\n",
      " Average Recall     (AR) @[ IoU=0.50:0.95 | area=   all | maxDets=1000 ] = 0.765\n",
      " Average Recall     (AR) @[ IoU=0.50:0.95 | area= small | maxDets=1000 ] = 0.000\n",
      " Average Recall     (AR) @[ IoU=0.50:0.95 | area=medium | maxDets=1000 ] = 0.483\n",
      " Average Recall     (AR) @[ IoU=0.50:0.95 | area= large | maxDets=1000 ] = 0.780\n",
      "\n",
      "2022-10-16 18:35:37,994 - mmdet - INFO - Exp name: faster_rcnn_r50_fpn_2x_acino.py\n",
      "2022-10-16 18:35:37,996 - mmdet - INFO - Epoch(val) [10][764]\tbbox_mAP: 0.7180, bbox_mAP_50: 0.9790, bbox_mAP_75: 0.8670, bbox_mAP_s: 0.0000, bbox_mAP_m: 0.4100, bbox_mAP_l: 0.7330, bbox_mAP_copypaste: 0.718 0.979 0.867 0.000 0.410 0.733\n"
     ]
    },
    {
     "name": "stdout",
     "output_type": "stream",
     "text": [
      "DONE (t=0.04s).\n"
     ]
    }
   ],
   "source": [
    "train_from_config('configs/faster_rcnn/faster_rcnn_r50_fpn_2x_acino.py',eps=10)"
   ]
  },
  {
   "cell_type": "code",
   "execution_count": 7,
   "id": "2718c760-b0cb-4dfe-a4ae-7e31e3173c69",
   "metadata": {
    "tags": []
   },
   "outputs": [
    {
     "name": "stdout",
     "output_type": "stream",
     "text": [
      "loading annotations into memory...\n",
      "Done (t=0.02s)\n",
      "creating index...\n",
      "index created!\n",
      "load checkpoint from local path: work_dirs/retinanet_r50_fpn_2x_acino/latest.pth\n",
      "[>>>>>>>>>>>>>>>>>>>>>>>>>>] 1528/1528, 11.0 task/s, elapsed: 139s, ETA:     0s\n",
      "Evaluating bbox...\n",
      "Loading and preparing results...\n",
      "DONE (t=0.01s)\n",
      "creating index...\n",
      "index created!\n",
      "Running per image evaluation...\n",
      "Evaluate annotation type *bbox*\n",
      "DONE (t=0.77s).\n",
      "Accumulating evaluation results...\n",
      "DONE (t=0.29s).\n",
      "\n",
      " Average Precision  (AP) @[ IoU=0.50:0.95 | area=   all | maxDets=100 ] = 0.732\n",
      " Average Precision  (AP) @[ IoU=0.50      | area=   all | maxDets=1000 ] = 0.966\n",
      " Average Precision  (AP) @[ IoU=0.75      | area=   all | maxDets=1000 ] = 0.911\n",
      " Average Precision  (AP) @[ IoU=0.50:0.95 | area= small | maxDets=1000 ] = 0.000\n",
      " Average Precision  (AP) @[ IoU=0.50:0.95 | area=medium | maxDets=1000 ] = 0.463\n",
      " Average Precision  (AP) @[ IoU=0.50:0.95 | area= large | maxDets=1000 ] = 0.746\n",
      " Average Recall     (AR) @[ IoU=0.50:0.95 | area=   all | maxDets=100 ] = 0.784\n",
      " Average Recall     (AR) @[ IoU=0.50:0.95 | area=   all | maxDets=300 ] = 0.784\n",
      " Average Recall     (AR) @[ IoU=0.50:0.95 | area=   all | maxDets=1000 ] = 0.784\n",
      " Average Recall     (AR) @[ IoU=0.50:0.95 | area= small | maxDets=1000 ] = 0.000\n",
      " Average Recall     (AR) @[ IoU=0.50:0.95 | area=medium | maxDets=1000 ] = 0.534\n",
      " Average Recall     (AR) @[ IoU=0.50:0.95 | area= large | maxDets=1000 ] = 0.799\n",
      "\n",
      "OrderedDict([('bbox_mAP', 0.732), ('bbox_mAP_50', 0.966), ('bbox_mAP_75', 0.911), ('bbox_mAP_s', 0.0), ('bbox_mAP_m', 0.463), ('bbox_mAP_l', 0.746), ('bbox_mAP_copypaste', '0.732 0.966 0.911 0.000 0.463 0.746')])\n"
     ]
    }
   ],
   "source": [
    "test_from_config('work_dirs/retinanet_r50_fpn_2x_acino/retinanet_r50_fpn_2x_acino.py',\n",
    "                 'work_dirs/retinanet_r50_fpn_2x_acino/latest.pth')"
   ]
  },
  {
   "cell_type": "code",
   "execution_count": 4,
   "id": "975e55d3-b4fa-4586-9236-1b55bcff83a1",
   "metadata": {
    "tags": []
   },
   "outputs": [],
   "source": [
    "import os\n",
    "import os.path as osp\n",
    "import time\n",
    "import warnings\n",
    "\n",
    "import mmcv\n",
    "import torch\n",
    "from mmcv import Config, DictAction\n",
    "from mmcv.cnn import fuse_conv_bn\n",
    "from mmcv.runner import (get_dist_info, init_dist, load_checkpoint,\n",
    "                         wrap_fp16_model)\n",
    "\n",
    "from mmdet.apis import multi_gpu_test, single_gpu_test\n",
    "from mmdet.datasets import (build_dataloader, build_dataset,\n",
    "                            replace_ImageToTensor)\n",
    "from mmdet.models import build_detector\n",
    "from mmdet.utils import (build_ddp, build_dp, compat_cfg, get_device,\n",
    "                         replace_cfg_vals, setup_multi_processes,\n",
    "                         update_data_root)\n",
    "\n",
    "def test_from_config(config,ckpt):\n",
    "    out=False\n",
    "    eval='bbox'\n",
    "    format_only=False\n",
    "    show_dir=None\n",
    "    show_score_thr=0.3\n",
    "    cfg = Config.fromfile(config)\n",
    "    # replace the ${key} with the value of cfg.key\n",
    "    cfg = replace_cfg_vals(cfg)\n",
    "\n",
    "    # update data root according to MMDET_DATASETS\n",
    "    update_data_root(cfg)\n",
    "    cfg = compat_cfg(cfg)\n",
    "\n",
    "    # set multi-process settings\n",
    "    setup_multi_processes(cfg)\n",
    "    if cfg.model.get('neck'):\n",
    "        if isinstance(cfg.model.neck, list):\n",
    "            for neck_cfg in cfg.model.neck:\n",
    "                if neck_cfg.get('rfp_backbone'):\n",
    "                    if neck_cfg.rfp_backbone.get('pretrained'):\n",
    "                        neck_cfg.rfp_backbone.pretrained = None\n",
    "        elif cfg.model.neck.get('rfp_backbone'):\n",
    "            if cfg.model.neck.rfp_backbone.get('pretrained'):\n",
    "                cfg.model.neck.rfp_backbone.pretrained = None\n",
    "                \n",
    "    cfg.device = get_device()\n",
    "    distributed = False\n",
    "    test_dataloader_default_args = dict(\n",
    "        samples_per_gpu=1, workers_per_gpu=2, dist=distributed, shuffle=False)\n",
    "    \n",
    "    if isinstance(cfg.data.test, dict):\n",
    "        cfg.data.test.test_mode = True\n",
    "        if cfg.data.test_dataloader.get('samples_per_gpu', 1) > 1:\n",
    "            # Replace 'ImageToTensor' to 'DefaultFormatBundle'\n",
    "            cfg.data.test.pipeline = replace_ImageToTensor(\n",
    "                cfg.data.test.pipeline)\n",
    "    elif isinstance(cfg.data.test, list):\n",
    "        for ds_cfg in cfg.data.test:\n",
    "            ds_cfg.test_mode = True\n",
    "        if cfg.data.test_dataloader.get('samples_per_gpu', 1) > 1:\n",
    "            for ds_cfg in cfg.data.test:\n",
    "                ds_cfg.pipeline = replace_ImageToTensor(ds_cfg.pipeline)\n",
    "\n",
    "    test_loader_cfg = {\n",
    "        **test_dataloader_default_args,\n",
    "        **cfg.data.get('test_dataloader', {})\n",
    "    }\n",
    "\n",
    "    rank, _ = get_dist_info()\n",
    "    \n",
    "    if cfg.work_dir is not None and rank == 0:\n",
    "        mmcv.mkdir_or_exist(osp.abspath(cfg.work_dir))\n",
    "        timestamp = time.strftime('%Y%m%d_%H%M%S', time.localtime())\n",
    "        json_file = osp.join(cfg.work_dir, f'eval_{timestamp}.json')\n",
    "\n",
    "    # build the dataloader\n",
    "    dataset = build_dataset(cfg.data.test)\n",
    "    data_loader = build_dataloader(dataset, **test_loader_cfg)\n",
    "\n",
    "    # build the model and load checkpoint\n",
    "    cfg.model.train_cfg = None\n",
    "    model = build_detector(cfg.model, test_cfg=cfg.get('test_cfg'))\n",
    "    fp16_cfg = cfg.get('fp16', None)\n",
    "    if fp16_cfg is not None:\n",
    "        wrap_fp16_model(model)\n",
    "    checkpoint = load_checkpoint(model, ckpt, map_location='cpu')\n",
    "    if fuse_conv_bn:\n",
    "        model = fuse_conv_bn(model)\n",
    "    # old versions did not save class info in checkpoints, this walkaround is\n",
    "    # for backward compatibility\n",
    "    if 'CLASSES' in checkpoint.get('meta', {}):\n",
    "        model.CLASSES = checkpoint['meta']['CLASSES']\n",
    "    else:\n",
    "        model.CLASSES = dataset.CLASSES\n",
    "\n",
    "    if not distributed:\n",
    "        model = build_dp(model, cfg.device, device_ids=cfg.gpu_ids)\n",
    "        outputs = single_gpu_test(model, data_loader, False, None,\n",
    "                                  show_score_thr)\n",
    "    else:\n",
    "        model = build_ddp(\n",
    "            model,\n",
    "            cfg.device,\n",
    "            device_ids=[int(os.environ['LOCAL_RANK'])],\n",
    "            broadcast_buffers=False)\n",
    "        outputs = multi_gpu_test(\n",
    "            model, data_loader, None, True\n",
    "            or cfg.evaluation.get('gpu_collect', False))\n",
    "\n",
    "    rank, _ = get_dist_info()\n",
    "    if rank == 0:\n",
    "        if out:\n",
    "            print(f'\\nwriting results to {out}')\n",
    "            mmcv.dump(outputs, out)\n",
    "        kwargs = {}\n",
    "        if format_only:\n",
    "            dataset.format_results(outputs, **kwargs)\n",
    "        if eval:\n",
    "            eval_kwargs = cfg.get('evaluation', {}).copy()\n",
    "            # hard-code way to remove EvalHook args\n",
    "            for key in [\n",
    "                    'interval', 'tmpdir', 'start', 'gpu_collect', 'save_best',\n",
    "                    'rule', 'dynamic_intervals'\n",
    "            ]:\n",
    "                eval_kwargs.pop(key, None)\n",
    "            eval_kwargs.update(dict(metric=eval, **kwargs))\n",
    "            metric = dataset.evaluate(outputs, **eval_kwargs)\n",
    "            print(metric)\n",
    "            metric_dict = dict(config=config, metric=metric)\n",
    "            if cfg.work_dir is not None and rank == 0:\n",
    "                mmcv.dump(metric_dict, json_file)"
   ]
  },
  {
   "cell_type": "code",
   "execution_count": 40,
   "id": "867e1eef-3434-498d-85f8-ce8813aed286",
   "metadata": {
    "jupyter": {
     "source_hidden": true
    },
    "tags": []
   },
   "outputs": [],
   "source": [
    "\n",
    "def test_detector(confg):\n",
    "    evaluate='bbox'\n",
    "    checkpoint=cfg.work_dir+'/latest.pth'\n",
    "    out=None\n",
    "    fuse_convbn=True\n",
    "    show=False\n",
    "    distributed=False\n",
    "\n",
    "    show_dir=None#cfg.work_dir ##\n",
    "    show_score_thr=0.7\n",
    "    tmpdir=None\n",
    "    gpu_collect=True\n",
    "    eval_options=None\n",
    "    format_only=None\n",
    "    launcher=\"none\"\n",
    "    gpu_ids=cfg.gpu_ids\n",
    "\n",
    "    cfg = replace_cfg_vals(cfg)\n",
    "\n",
    "    # update data root according to MMDET_DATASETS\n",
    "    update_data_root(cfg)\n",
    "\n",
    "    cfg = compat_cfg(cfg)\n",
    "\n",
    "    # set multi-process settings\n",
    "    setup_multi_processes(cfg)\n",
    "\n",
    "    # set cudnn_benchmark\n",
    "    if cfg.get('cudnn_benchmark', False):\n",
    "        torch.backends.cudnn.benchmark = True\n",
    "\n",
    "    if 'pretrained' in cfg.model:\n",
    "        cfg.model.pretrained = None\n",
    "    elif 'init_cfg' in cfg.model.backbone:\n",
    "        cfg.model.backbone.init_cfg = None\n",
    "\n",
    "    if cfg.model.get('neck'):\n",
    "        if isinstance(cfg.model.neck, list):\n",
    "            for neck_cfg in cfg.model.neck:\n",
    "                if neck_cfg.get('rfp_backbone'):\n",
    "                    if neck_cfg.rfp_backbone.get('pretrained'):\n",
    "                        neck_cfg.rfp_backbone.pretrained = None\n",
    "        elif cfg.model.neck.get('rfp_backbone'):\n",
    "            if cfg.model.neck.rfp_backbone.get('pretrained'):\n",
    "                cfg.model.neck.rfp_backbone.pretrained = None\n",
    "\n",
    "\n",
    "    cfg.device = get_device()\n",
    "    # init distributed env first, since logger depends on the dist info.\n",
    "    if launcher == 'none':\n",
    "        distributed = False\n",
    "    else:\n",
    "        distributed = True\n",
    "        init_dist(launcher, **cfg.dist_params)\n",
    "\n",
    "    test_dataloader_default_args = dict(\n",
    "        samples_per_gpu=1, workers_per_gpu=2, dist=distributed, shuffle=False)\n",
    "\n",
    "    if isinstance(cfg.data.test, dict):\n",
    "        cfg.data.test.test_mode = True\n",
    "        if cfg.data.test_dataloader.get('samples_per_gpu', 1) > 1:\n",
    "            # Replace 'ImageToTensor' to 'DefaultFormatBundle'\n",
    "            cfg.data.test.pipeline = replace_ImageToTensor(\n",
    "                cfg.data.test.pipeline)\n",
    "    elif isinstance(cfg.data.test, list):\n",
    "        for ds_cfg in cfg.data.test:\n",
    "            ds_cfg.test_mode = True\n",
    "        if cfg.data.test_dataloader.get('samples_per_gpu', 1) > 1:\n",
    "            for ds_cfg in cfg.data.test:\n",
    "                ds_cfg.pipeline = replace_ImageToTensor(ds_cfg.pipeline)\n",
    "\n",
    "    test_loader_cfg = {\n",
    "        **test_dataloader_default_args,\n",
    "        **cfg.data.get('test_dataloader', {})\n",
    "    }\n",
    "\n",
    "    rank, _ = get_dist_info()\n",
    "    # allows not to create\n",
    "    if cfg.work_dir is not None and rank == 0:\n",
    "        mmcv.mkdir_or_exist(osp.abspath(cfg.work_dir))\n",
    "        timestamp = time.strftime('%d-%m-', time.localtime())+\"ep\"+str(cfg.total_epochs)\n",
    "        json_file = osp.join(cfg.work_dir, f'eval_{timestamp}.json')\n",
    "\n",
    "    # build the dataloader\n",
    "    dataset = build_dataset(cfg.data.test)\n",
    "    data_loader = build_dataloader(dataset, **test_loader_cfg)\n",
    "\n",
    "    # build the model and load checkpoint\n",
    "    cfg.model.train_cfg = None\n",
    "    model = build_detector(cfg.model, test_cfg=cfg.get('test_cfg'))\n",
    "    fp16_cfg = cfg.get('fp16', None)\n",
    "    if fp16_cfg is not None:\n",
    "        wrap_fp16_model(model)\n",
    "    checkpoint = load_checkpoint(model, checkpoint, map_location='cpu')\n",
    "    if fuse_convbn:\n",
    "        model = fuse_conv_bn(model)\n",
    "    # old versions did not save class info in checkpoints, this walkaround is\n",
    "    # for backward compatibility\n",
    "    if 'CLASSES' in checkpoint.get('meta', {}):\n",
    "        model.CLASSES = checkpoint['meta']['CLASSES']\n",
    "    else:\n",
    "        model.CLASSES = dataset.CLASSES\n",
    "\n",
    "    if not distributed:\n",
    "        model = build_dp(model, cfg.device, device_ids=cfg.gpu_ids)\n",
    "        outputs = single_gpu_test(model, data_loader, show, show_dir,\n",
    "                                  show_score_thr)\n",
    "    else:\n",
    "        model = build_ddp(\n",
    "            model,\n",
    "            cfg.device,\n",
    "            device_ids=[int(os.environ['LOCAL_RANK'])],\n",
    "            broadcast_buffers=False)\n",
    "        outputs = multi_gpu_test(\n",
    "            model, data_loader, tmpdir, gpu_collect\n",
    "            or cfg.evaluation.get('gpu_collect', False))\n",
    "\n",
    "    rank, _ = get_dist_info()\n",
    "    if rank == 0:\n",
    "        if out:\n",
    "            print(f'\\nwriting results to {out}')\n",
    "            mmcv.dump(outputs, out)\n",
    "        kwargs = {} if eval_options is None else eval_options\n",
    "        if format_only:\n",
    "            dataset.format_results(outputs, **kwargs)\n",
    "        if evaluate:\n",
    "            eval_kwargs = cfg.get('evaluation', {}).copy()\n",
    "            # hard-code way to remove EvalHook args\n",
    "            for key in [\n",
    "                    'interval', 'tmpdir', 'start', 'gpu_collect', 'save_best',\n",
    "                    'rule', 'dynamic_intervals'\n",
    "            ]:\n",
    "                eval_kwargs.pop(key, None)\n",
    "            eval_kwargs.update(dict(metric=evaluate, **kwargs))\n",
    "            metric = dataset.evaluate(outputs, **eval_kwargs)\n",
    "            print(metric)\n",
    "            metric_dict = dict(config=config, metric=metric)\n",
    "            if cfg.work_dir is not None and rank == 0:\n",
    "                mmcv.dump(metric_dict, json_file)"
   ]
  },
  {
   "cell_type": "code",
   "execution_count": null,
   "id": "9280c4cf-2e91-4fd1-b2c4-dd3e2ec9740d",
   "metadata": {},
   "outputs": [],
   "source": []
  }
 ],
 "metadata": {
  "kernelspec": {
   "display_name": "Python 3 (ipykernel)",
   "language": "python",
   "name": "python3"
  },
  "language_info": {
   "codemirror_mode": {
    "name": "ipython",
    "version": 3
   },
   "file_extension": ".py",
   "mimetype": "text/x-python",
   "name": "python",
   "nbconvert_exporter": "python",
   "pygments_lexer": "ipython3",
   "version": "3.9.13"
  }
 },
 "nbformat": 4,
 "nbformat_minor": 5
}
